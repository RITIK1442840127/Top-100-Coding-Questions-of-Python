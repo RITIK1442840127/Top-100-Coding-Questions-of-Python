{
  "cells": [
    {
      "cell_type": "markdown",
      "metadata": {
        "id": "view-in-github",
        "colab_type": "text"
      },
      "source": [
        "<a href=\"https://colab.research.google.com/github/RITIK1442840127/Top-100-Coding-Questions-of-Python/blob/main/Concept_%26_code_of_Python_.ipynb\" target=\"_parent\"><img src=\"https://colab.research.google.com/assets/colab-badge.svg\" alt=\"Open In Colab\"/></a>"
      ]
    },
    {
      "cell_type": "markdown",
      "source": [
        "#Python Short note"
      ],
      "metadata": {
        "id": "VpembGm_vEs-"
      },
      "id": "VpembGm_vEs-"
    },
    {
      "cell_type": "code",
      "execution_count": null,
      "metadata": {
        "colab": {
          "base_uri": "https://localhost:8080/"
        },
        "id": "Kh7AL4dmm-Ky",
        "outputId": "0c560d00-4f09-4c3b-c4aa-62f5180082ea"
      },
      "outputs": [
        {
          "output_type": "stream",
          "name": "stdout",
          "text": [
            "Hello World\n"
          ]
        }
      ],
      "source": [
        "print (\"Hello World\")  #parenthesis() and double cotes for string (text)"
      ],
      "id": "Kh7AL4dmm-Ky"
    },
    {
      "cell_type": "code",
      "execution_count": null,
      "metadata": {
        "colab": {
          "base_uri": "https://localhost:8080/"
        },
        "id": "RgJZbfcHyce4",
        "outputId": "39d15a63-4b6f-4eb2-8a2d-0effef8a4351"
      },
      "outputs": [
        {
          "output_type": "stream",
          "name": "stdout",
          "text": [
            "name\n",
            "Ritik\n",
            "25\n"
          ]
        }
      ],
      "source": [
        "#Variable\n",
        "name= \"Ritik\" #string\n",
        "age= 25 #number\n",
        "print(\"name\") #wrong way\n",
        "print (name); print(age) #right way means for variable print we do not use cotes"
      ],
      "id": "RgJZbfcHyce4"
    },
    {
      "cell_type": "code",
      "source": [],
      "metadata": {
        "id": "x59FAZsyX80e"
      },
      "id": "x59FAZsyX80e",
      "execution_count": null,
      "outputs": []
    },
    {
      "cell_type": "code",
      "execution_count": null,
      "metadata": {
        "id": "2njo8YpZ0pT-"
      },
      "outputs": [],
      "source": [
        "name= \"Rishu\"\n",
        "age= 25.06 #Float"
      ],
      "id": "2njo8YpZ0pT-"
    },
    {
      "cell_type": "code",
      "execution_count": null,
      "metadata": {
        "colab": {
          "base_uri": "https://localhost:8080/"
        },
        "id": "1CFcN5X51bEZ",
        "outputId": "5cbf1ed4-15d4-4bd3-f596-cd7ef67237c0"
      },
      "outputs": [
        {
          "name": "stdout",
          "output_type": "stream",
          "text": [
            "Rishu\n",
            "25.06\n"
          ]
        }
      ],
      "source": [
        "print(name);print(age)  # means Variable value can be change"
      ],
      "id": "1CFcN5X51bEZ"
    },
    {
      "cell_type": "code",
      "execution_count": null,
      "metadata": {
        "id": "JmVZNwCR1_97"
      },
      "outputs": [],
      "source": [
        "is_adult = True #Bollian value only True/false at the notes"
      ],
      "id": "JmVZNwCR1_97"
    },
    {
      "cell_type": "code",
      "execution_count": null,
      "metadata": {
        "colab": {
          "base_uri": "https://localhost:8080/"
        },
        "id": "YpaClpV73VUU",
        "outputId": "e2e58b8d-1445-4d1c-ecd3-8965bc14c8b8"
      },
      "outputs": [
        {
          "name": "stdout",
          "output_type": "stream",
          "text": [
            "What is your name ? XYZ\n"
          ]
        }
      ],
      "source": [
        "name=input(\"What is your name ? \") #taking input from user & show to anyone"
      ],
      "id": "YpaClpV73VUU"
    },
    {
      "cell_type": "code",
      "execution_count": null,
      "metadata": {
        "colab": {
          "base_uri": "https://localhost:8080/"
        },
        "id": "8YPuZSkh6UcU",
        "outputId": "653cea19-1574-429e-9e5d-051a95acc8ce"
      },
      "outputs": [
        {
          "name": "stdout",
          "output_type": "stream",
          "text": [
            "Hello XYZ\n"
          ]
        }
      ],
      "source": [
        "print(\"Hello \" + name) # concatenation"
      ],
      "id": "8YPuZSkh6UcU"
    },
    {
      "cell_type": "code",
      "execution_count": null,
      "metadata": {
        "colab": {
          "base_uri": "https://localhost:8080/"
        },
        "id": "9G8P3Vi-7kf8",
        "outputId": "25080167-cb7c-47e2-9d42-960d3b8db7b2"
      },
      "outputs": [
        {
          "name": "stdout",
          "output_type": "stream",
          "text": [
            "enter your old age : 25\n",
            "27\n"
          ]
        }
      ],
      "source": [
        "#Type conversion\n",
        "old_age = input(\"enter your old age : \")\n",
        "\n",
        "#new_age = old_age + 2 if u write this cause error beacause python taking old_age as a string even we pass integer 25\n",
        "\n",
        "new_age = int(old_age) + 2 # we converted old_age into integer\n",
        "print(new_age)"
      ],
      "id": "9G8P3Vi-7kf8"
    },
    {
      "cell_type": "code",
      "execution_count": null,
      "metadata": {
        "id": "TmkmRElFDTaL"
      },
      "outputs": [],
      "source": [
        "number = 18\n"
      ],
      "id": "TmkmRElFDTaL"
    },
    {
      "cell_type": "code",
      "execution_count": null,
      "metadata": {
        "colab": {
          "base_uri": "https://localhost:8080/"
        },
        "id": "R-y_MAoBEBcV",
        "outputId": "b644f0a7-36c2-4a2a-a733-d28502afea01"
      },
      "outputs": [
        {
          "name": "stdout",
          "output_type": "stream",
          "text": [
            "18.0\n"
          ]
        }
      ],
      "source": [
        "print(float(number))"
      ],
      "id": "R-y_MAoBEBcV"
    },
    {
      "cell_type": "code",
      "execution_count": null,
      "metadata": {
        "id": "3ecA5GJmCpzP"
      },
      "outputs": [],
      "source": [
        "#we can use float(), str(), bool() type conversion also"
      ],
      "id": "3ecA5GJmCpzP"
    },
    {
      "cell_type": "code",
      "execution_count": null,
      "metadata": {
        "colab": {
          "base_uri": "https://localhost:8080/"
        },
        "id": "LN8pSJeWdk2O",
        "outputId": "0efa2748-51e0-4930-a4cf-dd5803f11e62"
      },
      "outputs": [
        {
          "name": "stdout",
          "output_type": "stream",
          "text": [
            "enter first number : 7\n",
            "enter second number : 3\n",
            "10\n"
          ]
        }
      ],
      "source": [
        "#Conversion Practice by program\n",
        "first=input(\"enter first number : \")\n",
        "second=input(\"enter second number : \")\n",
        "\n",
        "sum=int(first) + int(second) # If u only write first+Second ans be 73, because python take it like a string.\n",
        "print(sum)"
      ],
      "id": "LN8pSJeWdk2O"
    },
    {
      "cell_type": "code",
      "execution_count": null,
      "metadata": {
        "colab": {
          "base_uri": "https://localhost:8080/"
        },
        "id": "6vzi8jcMfvUg",
        "outputId": "8bfd19ec-60f2-49ea-b6cc-2710fbd9ae63"
      },
      "outputs": [
        {
          "name": "stdout",
          "output_type": "stream",
          "text": [
            "the sum is : 10\n"
          ]
        }
      ],
      "source": [
        "print(\"the sum is : \" + str(sum)) # string ko string se concatinate krne k liye sum ko v string me change krna hoga"
      ],
      "id": "6vzi8jcMfvUg"
    },
    {
      "cell_type": "code",
      "execution_count": null,
      "metadata": {
        "colab": {
          "base_uri": "https://localhost:8080/"
        },
        "id": "yMfVLuVYgoYa",
        "outputId": "b84f1c1b-7f77-43f0-d8b0-28cf653328a1"
      },
      "outputs": [
        {
          "name": "stdout",
          "output_type": "stream",
          "text": [
            "RITIK TIWARI\n",
            "Ritik Tiwari\n"
          ]
        }
      ],
      "source": [
        "#String\n",
        "name= \"Ritik Tiwari\"\n",
        "print(name.upper())\n",
        "print(name) # means upper/lower se new string banti hai,verginal string vhi rhti hai"
      ],
      "id": "yMfVLuVYgoYa"
    },
    {
      "cell_type": "code",
      "execution_count": null,
      "metadata": {
        "colab": {
          "base_uri": "https://localhost:8080/"
        },
        "id": "LKWPBgl-iDMc",
        "outputId": "370dfffe-83a4-44c1-9edf-da8d4e00bef7"
      },
      "outputs": [
        {
          "name": "stdout",
          "output_type": "stream",
          "text": [
            "6\n"
          ]
        }
      ],
      "source": [
        "print(name.find(\"T\")) # start with 0 & space also count."
      ],
      "id": "LKWPBgl-iDMc"
    },
    {
      "cell_type": "code",
      "execution_count": null,
      "metadata": {
        "colab": {
          "base_uri": "https://localhost:8080/"
        },
        "id": "bO8_ZPSMihmM",
        "outputId": "2f4ab162-cd54-4520-d45a-2ab8dcef1e16"
      },
      "outputs": [
        {
          "name": "stdout",
          "output_type": "stream",
          "text": [
            "-1\n",
            "6\n"
          ]
        }
      ],
      "source": [
        "print(name.find(\"z\")) #if not in string return -1\n",
        "print(name.find(\"Tiwari\")) # return the first occurance of word position"
      ],
      "id": "bO8_ZPSMihmM"
    },
    {
      "cell_type": "code",
      "execution_count": null,
      "metadata": {
        "colab": {
          "base_uri": "https://localhost:8080/"
        },
        "id": "RaB1vB0RjJgU",
        "outputId": "0a16b8d3-34ca-4d8d-8fc9-c07141e388b1"
      },
      "outputs": [
        {
          "name": "stdout",
          "output_type": "stream",
          "text": [
            "Rishu Tiwari\n",
            "Kitik Tiwari\n",
            "Ritik Tiwari\n"
          ]
        }
      ],
      "source": [
        "print(name.replace(\"Ritik\", \"Rishu\")) #only can replace do not changes the original string\n",
        "print(name.replace('R', 'K'))\n",
        "print(name)"
      ],
      "id": "RaB1vB0RjJgU"
    },
    {
      "cell_type": "code",
      "execution_count": null,
      "metadata": {
        "colab": {
          "background_save": true,
          "base_uri": "https://localhost:8080/"
        },
        "id": "vQC_PtmnleWL",
        "outputId": "46de17c1-2490-4df0-c75d-e463d6e63b17"
      },
      "outputs": [
        {
          "name": "stdout",
          "output_type": "stream",
          "text": [
            "True\n",
            "True\n"
          ]
        }
      ],
      "source": [
        "print('T' in name) # Check the existance of charector in given string return true/false\n",
        "print('K' in name)"
      ],
      "id": "vQC_PtmnleWL"
    },
    {
      "cell_type": "code",
      "execution_count": null,
      "metadata": {
        "colab": {
          "base_uri": "https://localhost:8080/"
        },
        "id": "xuX7NoydmHvH",
        "outputId": "99fbafc1-6d9b-40ce-99d6-967f845ff869"
      },
      "outputs": [
        {
          "name": "stdout",
          "output_type": "stream",
          "text": [
            "7\n",
            "2\n",
            "20\n",
            "5\n",
            "5.5\n",
            "1\n",
            "25\n"
          ]
        }
      ],
      "source": [
        "#Operators\n",
        "print(5+2)\n",
        "print(5-3)\n",
        "print(10*2) #asterice\n",
        "print(11//2) #double slace point ko nhi leta\n",
        "print(11/2) #exact devide\n",
        "print(11%2) #modulus for remender count\n",
        "print (5**2) # double asterise use for squre"
      ],
      "id": "xuX7NoydmHvH"
    },
    {
      "cell_type": "code",
      "execution_count": null,
      "metadata": {
        "colab": {
          "base_uri": "https://localhost:8080/"
        },
        "id": "XAOeXBU2oA3E",
        "outputId": "69d0adad-6adb-44a7-ad56-f815c6a7ab61"
      },
      "outputs": [
        {
          "name": "stdout",
          "output_type": "stream",
          "text": [
            "7.0\n"
          ]
        }
      ],
      "source": [
        "#shortcut\n",
        "i= 5\n",
        "i=i+2\n",
        "i += 2 #means both value is same i=i+2 & i+=2 same -=,*= also can be done\n",
        "i -=2\n",
        "i *=3\n",
        "i /=3\n",
        "print (i)"
      ],
      "id": "XAOeXBU2oA3E"
    },
    {
      "cell_type": "code",
      "execution_count": null,
      "metadata": {
        "colab": {
          "base_uri": "https://localhost:8080/"
        },
        "id": "TTO5pydwouXw",
        "outputId": "b15f0abf-1ea7-49f4-9270-f2dd9b2d8bfe"
      },
      "outputs": [
        {
          "name": "stdout",
          "output_type": "stream",
          "text": [
            "17\n",
            "25\n"
          ]
        }
      ],
      "source": [
        "#operator_precedence\n",
        "result = 2+3*5 #Bodmos rull follow by python\n",
        "result1 = (2+3)*5\n",
        "print (result)\n",
        "print(result1)"
      ],
      "id": "TTO5pydwouXw"
    },
    {
      "cell_type": "code",
      "execution_count": null,
      "metadata": {
        "colab": {
          "base_uri": "https://localhost:8080/"
        },
        "id": "dOLa5dXpqAFU",
        "outputId": "f4304f3d-86e6-448f-83eb-788dcca12d42"
      },
      "outputs": [
        {
          "name": "stdout",
          "output_type": "stream",
          "text": [
            "True\n",
            "False\n",
            "True\n",
            "False\n",
            "True\n"
          ]
        }
      ],
      "source": [
        "#comparision operator\n",
        "print(3>2) #return boolian value\n",
        "print(3<2)\n",
        "print(3>=2)\n",
        "print(3==2)\n",
        "print(3!=2) #not,explanation mark"
      ],
      "id": "dOLa5dXpqAFU"
    },
    {
      "cell_type": "code",
      "execution_count": null,
      "metadata": {
        "colab": {
          "base_uri": "https://localhost:8080/"
        },
        "id": "pPCnrLPkrLvq",
        "outputId": "58bbffe0-b25a-4c74-c166-ad42608ffa7a"
      },
      "outputs": [
        {
          "name": "stdout",
          "output_type": "stream",
          "text": [
            "True\n",
            "False\n",
            "False\n"
          ]
        }
      ],
      "source": [
        "#Logical operator\n",
        "print (2>3 or 2<3)\n",
        "print (2>3 and 2<3)\n",
        "print (not 2<3)"
      ],
      "id": "pPCnrLPkrLvq"
    },
    {
      "cell_type": "code",
      "execution_count": null,
      "metadata": {
        "colab": {
          "base_uri": "https://localhost:8080/"
        },
        "id": "gaYuA37DLdZK",
        "outputId": "db86b945-d47d-4f83-80ca-475245fe1781"
      },
      "outputs": [
        {
          "name": "stdout",
          "output_type": "stream",
          "text": [
            "You are an adult\n",
            "You can vote\n",
            "thank you\n"
          ]
        }
      ],
      "source": [
        "#if-else\n",
        "age=20\n",
        "if age>=18:    #colan lagane ka mtlb av block of code jude hai esse\n",
        "  print(\"You are an adult\") # 4 spaces chodk code likane ka mtlb av ye uper vale code ka part hai\n",
        "  print(\"You can vote\")\n",
        "print(\"thank you\")"
      ],
      "id": "gaYuA37DLdZK"
    },
    {
      "cell_type": "code",
      "execution_count": null,
      "metadata": {
        "colab": {
          "base_uri": "https://localhost:8080/"
        },
        "id": "s8fYtXu1Nacq",
        "outputId": "8a740317-9a34-493b-eb19-5d0beff86bb9"
      },
      "outputs": [
        {
          "name": "stdout",
          "output_type": "stream",
          "text": [
            "thank you\n"
          ]
        }
      ],
      "source": [
        "age=17\n",
        "if age>=18:\n",
        "  print(\"You are an adult\")\n",
        "  print(\"You can vote\")\n",
        "print(\"thank you\")"
      ],
      "id": "s8fYtXu1Nacq"
    },
    {
      "cell_type": "code",
      "execution_count": null,
      "metadata": {
        "colab": {
          "base_uri": "https://localhost:8080/"
        },
        "id": "use7TZroN3ba",
        "outputId": "1062bdca-e2f7-42d1-8de4-27e85f93d40d"
      },
      "outputs": [
        {
          "name": "stdout",
          "output_type": "stream",
          "text": [
            "You are in school\n"
          ]
        }
      ],
      "source": [
        "age=17\n",
        "if age>=18:\n",
        "  print(\"You are an adult\")\n",
        "  print(\"You can vote\")\n",
        "elif age < 18 and age>3 :\n",
        "  print(\"You are in school\")\n",
        "else:\n",
        "#print(\"You are a child\")                                 show the error expected an indented block so must give space\n",
        "  print (\"You are a child\")"
      ],
      "id": "use7TZroN3ba"
    },
    {
      "cell_type": "code",
      "execution_count": null,
      "metadata": {
        "colab": {
          "base_uri": "https://localhost:8080/"
        },
        "id": "S6VTS05XUZKZ",
        "outputId": "a7c37b5c-bfcd-4d7d-be44-ef28dda85bd9"
      },
      "outputs": [
        {
          "name": "stdout",
          "output_type": "stream",
          "text": [
            "enter the first number : 101\n",
            "enter the operator (+,-,*,/,%) : +\n",
            "enter the second number : 7\n",
            "108\n"
          ]
        }
      ],
      "source": [
        "#calculator mini project\n",
        "first = input (\"enter the first number : \")\n",
        "operator = input (\"enter the operator (+,-,*,/,%) : \")\n",
        "second = input (\"enter the second number : \")\n",
        "first = int (first)\n",
        "second = int (second)\n",
        "\n",
        "if operator == (\"+\"):\n",
        "  print (first+second)\n",
        "elif operator == (\"-\"):\n",
        "  print (first-second)\n",
        "elif operator == (\"*\"):\n",
        "  print (first*second)\n",
        "elif operator == (\"/\"):\n",
        "  print (first/second)\n",
        "elif operator == (\"%\"):\n",
        "  print (first%second)\n",
        "else:\n",
        "  print (\"invalid operation\")\n"
      ],
      "id": "S6VTS05XUZKZ"
    },
    {
      "cell_type": "code",
      "execution_count": null,
      "metadata": {
        "colab": {
          "base_uri": "https://localhost:8080/"
        },
        "id": "5CnWk126Y_gq",
        "outputId": "16e57d12-2a25-4c2b-b0fd-8e077712676a"
      },
      "outputs": [
        {
          "name": "stdout",
          "output_type": "stream",
          "text": [
            "range(0, 5)\n"
          ]
        }
      ],
      "source": [
        "#range\n",
        "number=range(5) # Means we want to print 0,1,2,3,4\n",
        "print(number)"
      ],
      "id": "5CnWk126Y_gq"
    },
    {
      "cell_type": "code",
      "execution_count": null,
      "metadata": {
        "colab": {
          "base_uri": "https://localhost:8080/"
        },
        "id": "Pg1RG9UMaDRp",
        "outputId": "4066af47-a7fa-414a-959c-40b438c85a72"
      },
      "outputs": [
        {
          "name": "stdout",
          "output_type": "stream",
          "text": [
            "1\n",
            "2\n",
            "3\n",
            "4\n",
            "5\n"
          ]
        }
      ],
      "source": [
        "# While loop\n",
        "i = 1\n",
        "while i <=5:\n",
        "  print (i)\n",
        "  i = i + 1"
      ],
      "id": "Pg1RG9UMaDRp"
    },
    {
      "cell_type": "code",
      "execution_count": null,
      "metadata": {
        "colab": {
          "base_uri": "https://localhost:8080/"
        },
        "id": "ApTnqxBdbJdn",
        "outputId": "8c637a06-4dad-43cb-9233-d9ab2611e057"
      },
      "outputs": [
        {
          "name": "stdout",
          "output_type": "stream",
          "text": [
            "*\n",
            "**\n",
            "***\n",
            "****\n",
            "*****\n"
          ]
        }
      ],
      "source": [
        "i = 1 #patern loop\n",
        "while i <=5:\n",
        "  print (i* \"*\")\n",
        "  i = i + 1"
      ],
      "id": "ApTnqxBdbJdn"
    },
    {
      "cell_type": "code",
      "execution_count": null,
      "metadata": {
        "colab": {
          "base_uri": "https://localhost:8080/"
        },
        "id": "w680XCdBb1Zt",
        "outputId": "f31f71fc-933b-4f72-8414-698552d882c0"
      },
      "outputs": [
        {
          "name": "stdout",
          "output_type": "stream",
          "text": [
            "*****\n",
            "****\n",
            "***\n",
            "**\n",
            "*\n",
            "\n"
          ]
        }
      ],
      "source": [
        "i = 5     #opposte loop\n",
        "while i >=0:\n",
        "  print (i*\"*\")\n",
        "  i = i - 1"
      ],
      "id": "w680XCdBb1Zt"
    },
    {
      "cell_type": "code",
      "execution_count": null,
      "metadata": {
        "colab": {
          "base_uri": "https://localhost:8080/"
        },
        "id": "ifSTxCT_ciRJ",
        "outputId": "f838de20-5b6a-42a0-954c-f772fae83c24"
      },
      "outputs": [
        {
          "name": "stdout",
          "output_type": "stream",
          "text": [
            "0\n",
            "1\n",
            "2\n",
            "3\n",
            "4\n"
          ]
        }
      ],
      "source": [
        "#For loop\n",
        "for i in range(5):\n",
        "  print(i)"
      ],
      "id": "ifSTxCT_ciRJ"
    },
    {
      "cell_type": "code",
      "execution_count": null,
      "metadata": {
        "colab": {
          "base_uri": "https://localhost:8080/"
        },
        "id": "hhh66Fa7daCY",
        "outputId": "9fc9ddd3-4451-481d-ef13-63ccfa77e1b5"
      },
      "outputs": [
        {
          "name": "stdout",
          "output_type": "stream",
          "text": [
            "1\n",
            "2\n",
            "3\n",
            "4\n",
            "5\n"
          ]
        }
      ],
      "source": [
        "for i in range(5):\n",
        "  print(i+1)"
      ],
      "id": "hhh66Fa7daCY"
    },
    {
      "cell_type": "code",
      "execution_count": null,
      "metadata": {
        "colab": {
          "base_uri": "https://localhost:8080/"
        },
        "id": "Swe76-R-dfbi",
        "outputId": "e10d32b4-17ab-42ba-e8af-08fc7ada5576"
      },
      "outputs": [
        {
          "name": "stdout",
          "output_type": "stream",
          "text": [
            "[95, 98, 97, 'Math']\n"
          ]
        }
      ],
      "source": [
        "#list\n",
        "#collection of item\n",
        "marks = [95,98,97,\"Math\"] #means different data type ko v add kr skte hai\n",
        "print (marks)"
      ],
      "id": "Swe76-R-dfbi"
    },
    {
      "cell_type": "code",
      "execution_count": null,
      "metadata": {
        "colab": {
          "base_uri": "https://localhost:8080/"
        },
        "id": "Qz1op1JyeXeI",
        "outputId": "133d0ba4-391b-4e22-8355-fc89e5f12c5c"
      },
      "outputs": [
        {
          "name": "stdout",
          "output_type": "stream",
          "text": [
            "98\n",
            "Math\n",
            "[95, 98]\n",
            "[98, 97]\n"
          ]
        }
      ],
      "source": [
        "print (marks[1])\n",
        "print (marks[-1])  # index canbe print\n",
        "print (marks[0:2]) #means 0th & 1th intex print hoga\n",
        "print (marks[1:3])"
      ],
      "id": "Qz1op1JyeXeI"
    },
    {
      "cell_type": "code",
      "execution_count": null,
      "metadata": {
        "colab": {
          "base_uri": "https://localhost:8080/"
        },
        "id": "bgtLdczZfyKp",
        "outputId": "6b0badd8-d29b-445b-8c56-74d7347ea424"
      },
      "outputs": [
        {
          "name": "stdout",
          "output_type": "stream",
          "text": [
            "95\n",
            "98\n",
            "97\n",
            "Math\n"
          ]
        }
      ],
      "source": [
        "for score in marks:   #we can use for loop in list\n",
        "  print (score)\n"
      ],
      "id": "bgtLdczZfyKp"
    },
    {
      "cell_type": "code",
      "execution_count": null,
      "metadata": {
        "colab": {
          "base_uri": "https://localhost:8080/"
        },
        "id": "SOdCGJF5gPH6",
        "outputId": "280043a7-c8a4-4b9c-b426-edac90b3fe0b"
      },
      "outputs": [
        {
          "name": "stdout",
          "output_type": "stream",
          "text": [
            "[95, 98, 97, 'Math', 99]\n"
          ]
        }
      ],
      "source": [
        "marks.append(99) #By append we can add * at last items on list\n",
        "print(marks)"
      ],
      "id": "SOdCGJF5gPH6"
    },
    {
      "cell_type": "code",
      "execution_count": null,
      "metadata": {
        "colab": {
          "base_uri": "https://localhost:8080/"
        },
        "id": "bteeWSPXgjcI",
        "outputId": "552736ec-2505-43fb-e879-71102dc57871"
      },
      "outputs": [
        {
          "name": "stdout",
          "output_type": "stream",
          "text": [
            "[95, 92, 98, 97, 'Math', 99]\n"
          ]
        }
      ],
      "source": [
        "marks.insert(1,92) #by insert we can add an item in specific location for this 1st give location then value\n",
        "print (marks)"
      ],
      "id": "bteeWSPXgjcI"
    },
    {
      "cell_type": "code",
      "execution_count": null,
      "metadata": {
        "colab": {
          "base_uri": "https://localhost:8080/"
        },
        "id": "UMAh9gmWhjmG",
        "outputId": "d13f7768-6d34-48f5-baa0-ad5cb99b0f87"
      },
      "outputs": [
        {
          "name": "stdout",
          "output_type": "stream",
          "text": [
            "True\n",
            "6\n"
          ]
        }
      ],
      "source": [
        "print (98 in marks) #check the existence\n",
        "print(len(marks)) #check the length of list"
      ],
      "id": "UMAh9gmWhjmG"
    },
    {
      "cell_type": "code",
      "execution_count": null,
      "metadata": {
        "colab": {
          "base_uri": "https://localhost:8080/"
        },
        "id": "5AuMgwEjiDvP",
        "outputId": "a776cfaf-1d7b-435e-a6dc-73971d831bb1"
      },
      "outputs": [
        {
          "name": "stdout",
          "output_type": "stream",
          "text": [
            "95\n",
            "92\n",
            "98\n",
            "97\n",
            "Math\n",
            "99\n"
          ]
        }
      ],
      "source": [
        "#Whilw loop\n",
        "i = 0\n",
        "while i < len(marks):\n",
        "  print(marks[i])\n",
        "  i=i+1"
      ],
      "id": "5AuMgwEjiDvP"
    },
    {
      "cell_type": "code",
      "execution_count": null,
      "metadata": {
        "colab": {
          "base_uri": "https://localhost:8080/"
        },
        "id": "6w28h5MEkeQJ",
        "outputId": "4b6588ff-8fdf-45ac-dd5a-cd7537021330"
      },
      "outputs": [
        {
          "name": "stdout",
          "output_type": "stream",
          "text": [
            "[]\n"
          ]
        }
      ],
      "source": [
        "marks.clear() #For clearing the whole list\n",
        "print(marks)"
      ],
      "id": "6w28h5MEkeQJ"
    },
    {
      "cell_type": "code",
      "execution_count": null,
      "metadata": {
        "colab": {
          "base_uri": "https://localhost:8080/"
        },
        "id": "gMTD-BsFkz4s",
        "outputId": "c407d6f4-2712-48d1-9b5b-ca62a9952a66"
      },
      "outputs": [
        {
          "name": "stdout",
          "output_type": "stream",
          "text": [
            "ram\n",
            "shyam\n"
          ]
        }
      ],
      "source": [
        "#Break & continue\n",
        "students = [\"ram\",\"shyam\",\"radha\", \"radhika\",\"ritik\"]\n",
        "for student in students:\n",
        "  if student == \"radha\":\n",
        "    break;\n",
        "  print(student)"
      ],
      "id": "gMTD-BsFkz4s"
    },
    {
      "cell_type": "code",
      "execution_count": null,
      "metadata": {
        "colab": {
          "base_uri": "https://localhost:8080/"
        },
        "id": "gSbacyPwmCyU",
        "outputId": "d222f7f1-1298-46de-8d80-bf95a4e5fac6"
      },
      "outputs": [
        {
          "name": "stdout",
          "output_type": "stream",
          "text": [
            "ram\n",
            "radha\n",
            "radhika\n",
            "ritik\n"
          ]
        }
      ],
      "source": [
        "#continue\n",
        "students = [\"ram\",\"shyam\",\"radha\", \"radhika\",\"ritik\"]\n",
        "for student in students:\n",
        "  if student == \"shyam\":           #shyam bhale group ka part nhi ho lekin fir v loop continue hona chahiye\n",
        "    continue;\n",
        "  print(student)\n"
      ],
      "id": "gSbacyPwmCyU"
    },
    {
      "cell_type": "code",
      "execution_count": null,
      "metadata": {
        "colab": {
          "base_uri": "https://localhost:8080/"
        },
        "id": "QUfWoKabmmIQ",
        "outputId": "1bd27505-a03a-4fd9-f7f5-8b39dcb07fd0"
      },
      "outputs": [
        {
          "name": "stdout",
          "output_type": "stream",
          "text": [
            "3\n",
            "1\n",
            "1\n"
          ]
        }
      ],
      "source": [
        "#Tuple\n",
        "#Immutable\n",
        "marks = (95,72, 90,95,95)\n",
        "#marks[0] = 99 througth an error beacause of immutibility\n",
        "print(marks.count(95))  #touple can count num of occurance\n",
        "print(marks.count(90))\n",
        "print (marks.index(72)) #can chech index also (first occurance)"
      ],
      "id": "QUfWoKabmmIQ"
    },
    {
      "cell_type": "code",
      "execution_count": null,
      "metadata": {
        "colab": {
          "base_uri": "https://localhost:8080/"
        },
        "id": "D8AQyN6YnlL0",
        "outputId": "691a7d85-f252-4d76-97a7-3a12d5d19403"
      },
      "outputs": [
        {
          "name": "stdout",
          "output_type": "stream",
          "text": [
            "{72, 90, 95}\n"
          ]
        }
      ],
      "source": [
        "#Set\n",
        "#only print unique element\n",
        "marks = {95,72, 90,95,95}\n",
        "#print(marks[0])  run krne pr error ayega qki set index nhi leta\n",
        "#[] for list,() for touple & {} for set.  By defult touple leta hai\n",
        "print(marks)"
      ],
      "id": "D8AQyN6YnlL0"
    },
    {
      "cell_type": "code",
      "execution_count": null,
      "metadata": {
        "colab": {
          "base_uri": "https://localhost:8080/"
        },
        "id": "wVvJD6fGpo0o",
        "outputId": "bab9c79a-9d8d-448e-88f3-94ead603ce62"
      },
      "outputs": [
        {
          "name": "stdout",
          "output_type": "stream",
          "text": [
            "72\n",
            "90\n",
            "95\n"
          ]
        }
      ],
      "source": [
        "marks = {95,72, 90,95,95}\n",
        "for score in marks:\n",
        "  print (score)"
      ],
      "id": "wVvJD6fGpo0o"
    },
    {
      "cell_type": "code",
      "execution_count": null,
      "metadata": {
        "colab": {
          "base_uri": "https://localhost:8080/"
        },
        "id": "AFhfjqkDq9D5",
        "outputId": "fd6eb55c-77cc-47cb-cc47-010052b0670d"
      },
      "outputs": [
        {
          "name": "stdout",
          "output_type": "stream",
          "text": [
            "98\n",
            "dasharath\n"
          ]
        }
      ],
      "source": [
        "#Dictionary\n",
        "marks = {\"english\": 95, \"chemistry\": 98}\n",
        "\n",
        "information = {\"ram\" : \"dasharath\"}\n",
        "print(marks[\"chemistry\"])\n",
        "print (information[\"ram\"])"
      ],
      "id": "AFhfjqkDq9D5"
    },
    {
      "cell_type": "code",
      "execution_count": null,
      "metadata": {
        "colab": {
          "base_uri": "https://localhost:8080/"
        },
        "id": "YUGbc1eosLUi",
        "outputId": "7ed5615b-2a32-42bf-e39f-82bf99f829ab"
      },
      "outputs": [
        {
          "name": "stdout",
          "output_type": "stream",
          "text": [
            "{'english': 95, 'chemistry': 90, 'physics': 97}\n"
          ]
        }
      ],
      "source": [
        "marks[\"physics\"] = 97; #means marks ko add kr skte hai\n",
        "marks[\"chemistry\"] = 90; #means existing value can be change\n",
        "print (marks)"
      ],
      "id": "YUGbc1eosLUi"
    },
    {
      "cell_type": "code",
      "execution_count": null,
      "metadata": {
        "id": "hd-3daQRs8eP"
      },
      "outputs": [],
      "source": [
        "#Functions\n",
        "#in-built functions,                           ex- int(),str(),bool()\n",
        "#Module Functions     #jb realed function & related variable ko ek hi file me store kr diya jata hai #Ex- Math module\n",
        "#User-Defined Functions #"
      ],
      "id": "hd-3daQRs8eP"
    },
    {
      "cell_type": "code",
      "execution_count": null,
      "metadata": {
        "colab": {
          "base_uri": "https://localhost:8080/"
        },
        "id": "vlorAfHYuVXm",
        "outputId": "389049b4-bcf1-42b0-93ba-30f9a87ddc9a"
      },
      "outputs": [
        {
          "name": "stdout",
          "output_type": "stream",
          "text": [
            "['__doc__', '__loader__', '__name__', '__package__', '__spec__', 'acos', 'acosh', 'asin', 'asinh', 'atan', 'atan2', 'atanh', 'ceil', 'copysign', 'cos', 'cosh', 'degrees', 'e', 'erf', 'erfc', 'exp', 'expm1', 'fabs', 'factorial', 'floor', 'fmod', 'frexp', 'fsum', 'gamma', 'gcd', 'hypot', 'inf', 'isclose', 'isfinite', 'isinf', 'isnan', 'ldexp', 'lgamma', 'log', 'log10', 'log1p', 'log2', 'modf', 'nan', 'pi', 'pow', 'radians', 'remainder', 'sin', 'sinh', 'sqrt', 'tan', 'tanh', 'tau', 'trunc']\n"
          ]
        }
      ],
      "source": [
        "#Module Functions\n",
        "import math\n",
        "print (dir(math))        #printed all modules of math"
      ],
      "id": "vlorAfHYuVXm"
    },
    {
      "cell_type": "code",
      "execution_count": null,
      "metadata": {
        "colab": {
          "base_uri": "https://localhost:8080/"
        },
        "id": "CuBhHVEDukz4",
        "outputId": "104eedf1-8e56-4549-839b-2b10c719ea97"
      },
      "outputs": [
        {
          "name": "stdout",
          "output_type": "stream",
          "text": [
            "4.0\n"
          ]
        }
      ],
      "source": [
        "from math import sqrt      #from math import *           sare funtion ko import krne k liye\n",
        "print(sqrt(16))            #for squre root"
      ],
      "id": "CuBhHVEDukz4"
    },
    {
      "cell_type": "code",
      "execution_count": null,
      "metadata": {
        "id": "2dMqu6HGvSwh"
      },
      "outputs": [],
      "source": [
        "#User defined funtion\n",
        "#                   def function_name(parameters):\n",
        "#                     //do something"
      ],
      "id": "2dMqu6HGvSwh"
    },
    {
      "cell_type": "code",
      "execution_count": null,
      "metadata": {
        "colab": {
          "base_uri": "https://localhost:8080/"
        },
        "id": "bf_DchEFwCbr",
        "outputId": "da121815-0b98-4c77-a08e-9ba49f57e5e0"
      },
      "outputs": [
        {
          "name": "stdout",
          "output_type": "stream",
          "text": [
            "3\n"
          ]
        }
      ],
      "source": [
        "def print_sum(first,second):\n",
        "  print(first+second)\n",
        "print_sum(1,2)"
      ],
      "id": "bf_DchEFwCbr"
    },
    {
      "cell_type": "code",
      "execution_count": null,
      "metadata": {
        "colab": {
          "base_uri": "https://localhost:8080/"
        },
        "id": "vlp5_roywglf",
        "outputId": "43a7cd4c-5c54-43e8-f098-91f46ff35947"
      },
      "outputs": [
        {
          "name": "stdout",
          "output_type": "stream",
          "text": [
            "6\n"
          ]
        }
      ],
      "source": [
        "def print_sum(first,second=4):                      #By defaut second =4 lega ab\n",
        "  print(first+second)\n",
        "print_sum(2)"
      ],
      "id": "vlp5_roywglf"
    },
    {
      "cell_type": "markdown",
      "metadata": {
        "id": "UPfAdnZHvZo0"
      },
      "source": [
        "#Imp Practiced code"
      ],
      "id": "UPfAdnZHvZo0"
    },
    {
      "cell_type": "markdown",
      "metadata": {
        "id": "DAU6N89aZBy-"
      },
      "source": [
        "Range method 1"
      ],
      "id": "DAU6N89aZBy-"
    },
    {
      "cell_type": "code",
      "execution_count": null,
      "metadata": {
        "colab": {
          "base_uri": "https://localhost:8080/"
        },
        "id": "MKCJEVfEvX4_",
        "outputId": "cf48c2cf-3bcd-48eb-ad0b-01f2d7427390"
      },
      "outputs": [
        {
          "name": "stdout",
          "output_type": "stream",
          "text": [
            "[0, 1, 4, 9, 16, 25, 36, 49, 64, 81]\n"
          ]
        }
      ],
      "source": [
        "z= list (range (10))                                             # 0 se 9 tk ka hi squre hoga\n",
        "square = [number **2 for number in z]\n",
        "print (square)\n"
      ],
      "id": "MKCJEVfEvX4_"
    },
    {
      "cell_type": "markdown",
      "metadata": {
        "id": "Etzk-57wZgyA"
      },
      "source": [
        "Range method 2"
      ],
      "id": "Etzk-57wZgyA"
    },
    {
      "cell_type": "code",
      "execution_count": null,
      "metadata": {
        "colab": {
          "base_uri": "https://localhost:8080/"
        },
        "id": "D0w9ITzCwmGg",
        "outputId": "224f777b-9f7b-4265-b19c-8fb22a7af04d"
      },
      "outputs": [
        {
          "name": "stdout",
          "output_type": "stream",
          "text": [
            "[0, 1, 4, 9, 16, 25, 36, 49, 64, 81]\n"
          ]
        }
      ],
      "source": [
        "z= [*range(0,10)]                                                 # 0 se 9 tk ka hi squre hoga\n",
        "squre = [number **2 for number in z]\n",
        "print (squre)"
      ],
      "id": "D0w9ITzCwmGg"
    },
    {
      "cell_type": "markdown",
      "metadata": {
        "id": "zpZcOI7a46LY"
      },
      "source": [
        "Basics"
      ],
      "id": "zpZcOI7a46LY"
    },
    {
      "cell_type": "code",
      "execution_count": null,
      "metadata": {
        "colab": {
          "base_uri": "https://localhost:8080/"
        },
        "id": "hBRY8PDF5mzc",
        "outputId": "6f27f637-b8f2-479a-d8d1-52a7e1befa1d"
      },
      "outputs": [
        {
          "data": {
            "text/plain": [
              "9"
            ]
          },
          "execution_count": 41,
          "metadata": {},
          "output_type": "execute_result"
        }
      ],
      "source": [
        "list= [1,3,2,5,4,9,6,7]\n",
        "max (list)\n"
      ],
      "id": "hBRY8PDF5mzc"
    },
    {
      "cell_type": "code",
      "execution_count": null,
      "metadata": {
        "colab": {
          "base_uri": "https://localhost:8080/"
        },
        "id": "puIpT--bA-Sw",
        "outputId": "d49eac79-d864-4a0f-e570-e530b3549a83"
      },
      "outputs": [
        {
          "data": {
            "text/plain": [
              "1"
            ]
          },
          "execution_count": 42,
          "metadata": {},
          "output_type": "execute_result"
        }
      ],
      "source": [
        "min (list)"
      ],
      "id": "puIpT--bA-Sw"
    },
    {
      "cell_type": "code",
      "execution_count": null,
      "metadata": {
        "colab": {
          "base_uri": "https://localhost:8080/"
        },
        "id": "3EIeAqeD6Guu",
        "outputId": "f3f7a6dc-abdd-4788-f2be-b1caf5921db2"
      },
      "outputs": [
        {
          "data": {
            "text/plain": [
              "[1, 2, 3, 4, 5, 6, 7, 9]"
            ]
          },
          "execution_count": 43,
          "metadata": {},
          "output_type": "execute_result"
        }
      ],
      "source": [
        "sorted (list)                                               # temporary sort verginal not change"
      ],
      "id": "3EIeAqeD6Guu"
    },
    {
      "cell_type": "code",
      "execution_count": null,
      "metadata": {
        "colab": {
          "base_uri": "https://localhost:8080/"
        },
        "id": "yYph_BBL6LCj",
        "outputId": "468a8fe1-7f78-486d-d58b-0c08b2922f2d"
      },
      "outputs": [
        {
          "name": "stdout",
          "output_type": "stream",
          "text": [
            "[1, 2, 3, 4, 5, 6, 7, 9]\n"
          ]
        }
      ],
      "source": [
        "list.sort()                                                  # permanent sort\n",
        "print (list)"
      ],
      "id": "yYph_BBL6LCj"
    },
    {
      "cell_type": "code",
      "execution_count": null,
      "metadata": {
        "colab": {
          "base_uri": "https://localhost:8080/"
        },
        "id": "RsEf-H0U661m",
        "outputId": "a9ebdee7-9aac-4747-92bf-0408ce879003"
      },
      "outputs": [
        {
          "name": "stdout",
          "output_type": "stream",
          "text": [
            "[1, 8, 27, 64, 125, 216, 343, 729]\n"
          ]
        }
      ],
      "source": [
        "Y= [number**3 for number in list]\n",
        "print (Y)"
      ],
      "id": "RsEf-H0U661m"
    },
    {
      "cell_type": "code",
      "execution_count": null,
      "metadata": {
        "colab": {
          "base_uri": "https://localhost:8080/"
        },
        "id": "l8anhJyP7j80",
        "outputId": "f31f5b91-3bd9-48c2-a117-237b24fb0314"
      },
      "outputs": [
        {
          "name": "stdout",
          "output_type": "stream",
          "text": [
            "[8, 64, 216]\n"
          ]
        }
      ],
      "source": [
        "even_cube= [number**3 for number in list if number%2 ==0 ]\n",
        "print (even_cube)"
      ],
      "id": "l8anhJyP7j80"
    },
    {
      "cell_type": "code",
      "execution_count": null,
      "metadata": {
        "colab": {
          "base_uri": "https://localhost:8080/"
        },
        "id": "gH9_s4Du8Wnm",
        "outputId": "0b156920-c0ef-4437-bc56-3c69e54b2aff"
      },
      "outputs": [
        {
          "name": "stdout",
          "output_type": "stream",
          "text": [
            "[1, 9, 25, 49, 81]\n"
          ]
        }
      ],
      "source": [
        "odd_squre= [number**2 for number in list if number%2 !=0]\n",
        "print (odd_squre)"
      ],
      "id": "gH9_s4Du8Wnm"
    },
    {
      "cell_type": "code",
      "execution_count": null,
      "metadata": {
        "colab": {
          "base_uri": "https://localhost:8080/"
        },
        "id": "UuyLPhrX9Qif",
        "outputId": "111dcc62-034a-461c-b274-69b8889e5f42"
      },
      "outputs": [
        {
          "name": "stdout",
          "output_type": "stream",
          "text": [
            "[2, 4, 6, 8, 10, 12, 14, 16, 18, 20]\n",
            "[3, 6, 9, 12, 15, 18, 21, 24, 27, 30]\n",
            "[4, 8, 12, 16, 20, 24, 28, 32, 36, 40]\n",
            "[5, 10, 15, 20, 25, 30, 35, 40, 45, 50]\n"
          ]
        }
      ],
      "source": [
        "#Table\n",
        "x=[1,2,3,4,5,6,7,8,9,10]\n",
        "table_2= [number*2 for number in x]\n",
        "table_3= [number*3 for number in x]\n",
        "table_4= [number*4 for number in x]\n",
        "table_5= [number*5 for number in x]\n",
        "\n",
        "print (table_2)\n",
        "print (table_3)\n",
        "print (table_4)\n",
        "print (table_5)"
      ],
      "id": "UuyLPhrX9Qif"
    },
    {
      "cell_type": "code",
      "execution_count": null,
      "metadata": {
        "colab": {
          "base_uri": "https://localhost:8080/"
        },
        "id": "1Dh6-5_--2xv",
        "outputId": "3c0e2910-b262-4205-d3e6-0c8b95af9ae5"
      },
      "outputs": [
        {
          "name": "stdout",
          "output_type": "stream",
          "text": [
            "[0, 1, 2, 3, 4, 5, 6, 7, 8, 9, 10]\n",
            "[0, 1, 4, 9, 16, 25, 36, 49, 64, 81, 100]\n",
            "[0, 4, 16, 36, 64, 100]\n"
          ]
        }
      ],
      "source": [
        "r= [*range(0,11)]\n",
        "squre= [number **2 for number in r]\n",
        "squre_even= [number**2 for number in r if number%2==0]\n",
        "print (r)\n",
        "print (squre)\n",
        "print(squre_even)"
      ],
      "id": "1Dh6-5_--2xv"
    },
    {
      "cell_type": "markdown",
      "source": [
        "#100 Python Question"
      ],
      "metadata": {
        "id": "TO-RfOI0oqPW"
      },
      "id": "TO-RfOI0oqPW"
    },
    {
      "cell_type": "code",
      "execution_count": null,
      "id": "8b216bb3",
      "metadata": {
        "id": "8b216bb3",
        "outputId": "d0009fe7-6b43-4e9b-92fd-8f2c60a66ea9",
        "colab": {
          "base_uri": "https://localhost:8080/"
        }
      },
      "outputs": [
        {
          "output_type": "stream",
          "name": "stdout",
          "text": [
            "Enter your age : 5\n",
            "Enter your age : 7\n",
            "Enter your age : 9\n",
            "age3 is the greatest\n"
          ]
        }
      ],
      "source": [
        "## 1.User will input (3ages).Find the oldest one\n",
        "\n",
        "age1 = int(input(\"Enter your age : \"))\n",
        "age2 = int(input(\"Enter your age : \"))\n",
        "age3 = int(input(\"Enter your age : \"))\n",
        "\n",
        "if (age1>=age2) and (age1>=age3) :\n",
        "    print(\"age 1 is the greatest\")\n",
        "elif (age2>=age1) and (age2>=age3) :\n",
        "    print(\"age 2 is the greatest\")\n",
        "\n",
        "else :\n",
        "    print('age3 is the greatest')"
      ]
    },
    {
      "cell_type": "code",
      "execution_count": null,
      "id": "15d01252",
      "metadata": {
        "id": "15d01252",
        "outputId": "566beb9d-661b-47c6-8881-61b47edb84ad",
        "colab": {
          "base_uri": "https://localhost:8080/"
        }
      },
      "outputs": [
        {
          "output_type": "stream",
          "name": "stdout",
          "text": [
            "Enter the temperature in Celsius : 32\n",
            "Temp in Fahrenhite is  : 69.75999999999999\n"
          ]
        }
      ],
      "source": [
        "##2. Write a program that will convert celsius value to fahrenheit\n",
        "\n",
        "temp =  float(input(\"Enter the temperature in Celsius : \"))\n",
        "farh =  (temp*1.18 +32)\n",
        "print(\"Temp in Fahrenhite is  :\", farh)"
      ]
    },
    {
      "cell_type": "code",
      "execution_count": null,
      "id": "8b563d28",
      "metadata": {
        "id": "8b563d28",
        "outputId": "be16fd06-93a3-4e75-b9b0-f84f9a0ab06e",
        "colab": {
          "base_uri": "https://localhost:8080/"
        }
      },
      "outputs": [
        {
          "output_type": "stream",
          "name": "stdout",
          "text": [
            "Enter num1  : 25\n",
            "Enter num2 : 26\n",
            "after swapping both ....\n",
            "num1 : 26\n",
            "num2 : 25\n"
          ]
        }
      ],
      "source": [
        "##3. User will input (2numbers).Write a program to swap the numbers\n",
        "\n",
        "c= 0\n",
        "\n",
        "a = int(input(\"Enter num1  : \"))\n",
        "b = int(input(\"Enter num2 : \"))\n",
        "\n",
        "c=a\n",
        "a=b\n",
        "b=c\n",
        "\n",
        "print (\"after swapping both ....\")\n",
        "\n",
        "print (\"num1 :\", a)\n",
        "print (\"num2 :\" , b)"
      ]
    },
    {
      "cell_type": "code",
      "source": [
        "import random\n",
        "\n",
        "# List of Ramnavami wishes\n",
        "ramnavami_wishes = [\n",
        "    \"Wishing you a blessed and joyful Ramnavami!\",\n",
        "    \"May Lord Rama bless you with happiness and prosperity. Happy Ramnavami!\",\n",
        "    \"May the divine blessings of Lord Rama bring peace and harmony to your life. Happy Ramnavami!\",\n",
        "    \"On the auspicious occasion of Ramnavami, may you be showered with love, blessings, and grace of Lord Rama.\",\n",
        "    \"May Lord Rama guide you on the path of righteousness and fill your life with happiness. Happy Ramnavami!\"\n",
        "]\n",
        "\n",
        "# Function to select a random Ramnavami wish\n",
        "def get_ramnavami_wish():\n",
        "    return random.choice(ramnavami_wishes)\n",
        "\n",
        "# Main function to display the Ramnavami wish\n",
        "def main():\n",
        "    print(\"Happy Ramnavami!\")\n",
        "    print(get_ramnavami_wish())\n",
        "\n",
        "# Entry point of the program\n",
        "if __name__ == \"__main__\":\n",
        "    main()"
      ],
      "metadata": {
        "colab": {
          "base_uri": "https://localhost:8080/"
        },
        "id": "YCEelwsku5Vq",
        "outputId": "ec825852-d239-42d4-d1ee-242ddfc1b71e"
      },
      "id": "YCEelwsku5Vq",
      "execution_count": null,
      "outputs": [
        {
          "output_type": "stream",
          "name": "stdout",
          "text": [
            "Happy Ramnavami!\n",
            "May the divine blessings of Lord Rama bring peace and harmony to your life. Happy Ramnavami!\n"
          ]
        }
      ]
    },
    {
      "cell_type": "code",
      "execution_count": null,
      "id": "7aed3974",
      "metadata": {
        "id": "7aed3974",
        "outputId": "4ee67905-4caa-4f39-f5e5-af1864bdfaab",
        "colab": {
          "base_uri": "https://localhost:8080/"
        }
      },
      "outputs": [
        {
          "output_type": "stream",
          "name": "stdout",
          "text": [
            "Enter num1  : 5\n",
            "Enter num2 : 4\n",
            "after swapping both ....\n",
            "num1 : 4\n",
            "num2 : 5\n"
          ]
        }
      ],
      "source": [
        "##3.1. Write a program to swap the numbers without using 3rd variable\n",
        "\n",
        "\n",
        "a = int(input(\"Enter num1  : \"))\n",
        "b = int(input(\"Enter num2 : \"))\n",
        "\n",
        "a=a+b\n",
        "b=a-b\n",
        "a=a-b\n",
        "\n",
        "print (\"after swapping both ....\")\n",
        "print (\"num1 :\", a)\n",
        "print (\"num2 :\" , b)"
      ]
    },
    {
      "cell_type": "code",
      "execution_count": null,
      "id": "7fbc1634",
      "metadata": {
        "id": "7fbc1634",
        "outputId": "ec26d4f7-c9ad-458b-8188-4f3c7d8ed360",
        "colab": {
          "base_uri": "https://localhost:8080/"
        }
      },
      "outputs": [
        {
          "output_type": "stream",
          "name": "stdout",
          "text": [
            "Enter number :123\n",
            "sum of digits : 6\n"
          ]
        }
      ],
      "source": [
        "#4.Write a program that will give you the sum of 3 digits\n",
        "\n",
        "num = int(input ('Enter number :'))\n",
        "\n",
        "a = num%10\n",
        "rem = num//10\n",
        "\n",
        "b = rem%10\n",
        "rem = rem//10\n",
        "\n",
        "c = rem%10\n",
        "\n",
        "sum = a+b+c\n",
        "print (\"sum of digits :\" , sum)\n"
      ]
    },
    {
      "cell_type": "code",
      "execution_count": null,
      "id": "d8351b20",
      "metadata": {
        "id": "d8351b20",
        "outputId": "f32f280b-cb50-4a6f-d85d-5e7b22e1e9c1",
        "colab": {
          "base_uri": "https://localhost:8080/"
        }
      },
      "outputs": [
        {
          "output_type": "stream",
          "name": "stdout",
          "text": [
            "Enter number :1234\n",
            "New number is :  4321\n",
            "False\n"
          ]
        }
      ],
      "source": [
        "#5.Write a program that will reverse a four digit number. Also it checks whether the reverse is true.\n",
        "\n",
        "original_number = int(input ('Enter number :'))\n",
        "num= original_number\n",
        "\n",
        "d1 = num%10\n",
        "num = num//10\n",
        "d2 = num % 10\n",
        "num = num//10\n",
        "d3 = num % 10\n",
        "num = num//10\n",
        "d4 = num % 10\n",
        "new_num = 1000*d1 +100*d2+ 10*d3 + d4\n",
        "\n",
        "print ('New number is : ', new_num)\n",
        "#if last number is 0 then this programme will not work\n",
        "#check\n",
        "if original_number == new_num:\n",
        "  print ('True')\n",
        "else:\n",
        "  print ('False')"
      ]
    },
    {
      "cell_type": "code",
      "execution_count": null,
      "id": "833d641d",
      "metadata": {
        "id": "833d641d",
        "outputId": "78d87d17-6ab8-4ec4-e6b4-37e586a2cb17"
      },
      "outputs": [
        {
          "name": "stdout",
          "output_type": "stream",
          "text": [
            "Enter a number : 11\n",
            "Odd number\n"
          ]
        }
      ],
      "source": [
        "## 6.Write a program that will tell whether the number entered by the user is odd or even\n",
        "\n",
        "num = int(input ('Enter a number : '))\n",
        "if num%2 == 0:\n",
        "    print(\"even number\")\n",
        "\n",
        "elif num%2 == 1 :\n",
        "    print (\"Odd number\")\n"
      ]
    },
    {
      "cell_type": "code",
      "execution_count": null,
      "id": "2187c491",
      "metadata": {
        "id": "2187c491",
        "outputId": "aa008fb7-3811-4ac2-f8d9-b0144a0879db",
        "colab": {
          "base_uri": "https://localhost:8080/"
        }
      },
      "outputs": [
        {
          "output_type": "stream",
          "name": "stdout",
          "text": [
            "Enter a year: 2024\n",
            "2024 is a leap year\n"
          ]
        }
      ],
      "source": [
        "##7 Write a program that will tell whether the given year is a leap year or not.\n",
        "\n",
        "\n",
        "year = int(input(\"Enter a year: \"))\n",
        "\n",
        "# divided by 100 means century year (ending with 00)\n",
        "# century year divided by 400 is leap year\n",
        "if (year % 400 == 0) and (year % 100 == 0):\n",
        "    print(\"{0} is a leap year\".format(year))\n",
        "\n",
        "# not divided by 100 means not a century year\n",
        "# year divided by 4 is a leap year\n",
        "elif (year % 4 ==0) and (year % 100 != 0):\n",
        "    print(\"{0} is a leap year\".format(year))\n",
        "\n",
        "# if not divided by both 400 (century year) and 4 (not century year)\n",
        "# year is not leap year\n",
        "else:\n",
        "    print(\"{0} is not a leap year\".format(year))"
      ]
    },
    {
      "cell_type": "code",
      "execution_count": null,
      "id": "b711f5e9",
      "metadata": {
        "id": "b711f5e9",
        "outputId": "9fcdfc4a-1283-4492-e2aa-f6fe564193e9",
        "colab": {
          "base_uri": "https://localhost:8080/"
        }
      },
      "outputs": [
        {
          "output_type": "stream",
          "name": "stdout",
          "text": [
            "Enter coordinate-1 x-val: 1\n",
            "Enter coordinate-1 y-val: 2\n",
            "Enter coordinate-2 x-val: 3\n",
            "Enter coordinate-2 y-val: 4\n",
            "Euclindean Distance =  2.8284271247461903\n"
          ]
        }
      ],
      "source": [
        "##8 Write a program to find the euclidean distance between two coordinates.\n",
        "x1 = int(input(\"Enter coordinate-1 x-val: \"))\n",
        "y1 = int(input(\"Enter coordinate-1 y-val: \"))\n",
        "\n",
        "x2 = int(input(\"Enter coordinate-2 x-val: \"))\n",
        "y2 = int(input(\"Enter coordinate-2 y-val: \"))\n",
        "\n",
        "Euc = ((x2-x1)**2 + (y2-y1)**2)** 0.5\n",
        "\n",
        "print(\"Euclindean Distance = \", Euc)"
      ]
    },
    {
      "cell_type": "code",
      "execution_count": null,
      "id": "3fe4ed2a",
      "metadata": {
        "id": "3fe4ed2a",
        "outputId": "f970a060-bd8a-4708-d9b0-4eb433e2a09c"
      },
      "outputs": [
        {
          "name": "stdout",
          "output_type": "stream",
          "text": [
            "Enter angle 1: 90\n",
            "Enter angle 2: 60\n",
            "Enter angle 3: 30\n",
            "Valid triangle\n"
          ]
        }
      ],
      "source": [
        "##9 Write a program that take a user input of three angles and will find out whether it can form a triangle or not.\n",
        "a = int(input(\"Enter angle 1: \"))\n",
        "b = int(input(\"Enter angle 2: \"))\n",
        "c = int(input(\"Enter angle 3: \"))\n",
        "\n",
        "if (a+b+c == 180) and a!=0 and b!=0 and c!=0 :\n",
        "    print (\"Valid triangle\")\n",
        "else :\n",
        "    print (\"Not a valid triangle\")"
      ]
    },
    {
      "cell_type": "code",
      "execution_count": null,
      "id": "0941085e",
      "metadata": {
        "id": "0941085e",
        "outputId": "f6df285e-8867-428b-ea53-61d92cfe1f0b"
      },
      "outputs": [
        {
          "name": "stdout",
          "output_type": "stream",
          "text": [
            "Enter CP :890\n",
            "Enter SP :900\n",
            "Profit\n"
          ]
        }
      ],
      "source": [
        "##10 Write a program that will take user input of cost price and selling price and determine whether its a loss or a profit\n",
        "\n",
        "CP = int(input(\"Enter CP :\"))\n",
        "SP = int(input(\"Enter SP :\"))\n",
        "\n",
        "if CP > SP:\n",
        "    print (\"Loss\")\n",
        "\n",
        "elif CP < SP :\n",
        "    print (\"Profit\")\n",
        "\n",
        "else :\n",
        "    print(\"Neither profit nor loss\")"
      ]
    },
    {
      "cell_type": "code",
      "execution_count": null,
      "id": "473d545b",
      "metadata": {
        "id": "473d545b",
        "outputId": "9c2c9d15-eb02-4c5f-ef02-40632ee9ab42"
      },
      "outputs": [
        {
          "name": "stdout",
          "output_type": "stream",
          "text": [
            "Enter your principal : 800\n",
            "Enter your rate of interest : 7\n",
            "Enter your time period in years : 10\n",
            "Your amount is Rs  1360.0 on a simple interest of :  560.0 %\n"
          ]
        }
      ],
      "source": [
        "##11 Write a program to find the simple interest when the value of principle,rate of interest and time period is given.\n",
        "\n",
        "p = int(input(\"Enter your principal : \"))\n",
        "r = int(input(\"Enter your rate of interest : \"))\n",
        "t = int(input(\"Enter your time period in years : \"))\n",
        "\n",
        "si = p*r*t/100\n",
        "a = si+p\n",
        "\n",
        "print (\"Your amount is Rs \", a, \"on a simple interest of : \", si, \"%\")"
      ]
    },
    {
      "cell_type": "code",
      "execution_count": null,
      "id": "0152ce79",
      "metadata": {
        "id": "0152ce79",
        "outputId": "8508bed3-8fab-4dc3-bbb4-b14c5dc9481b"
      },
      "outputs": [
        {
          "name": "stdout",
          "output_type": "stream",
          "text": [
            "Enter your Cylinder's radius : 10\n",
            "Enter your Cylinder's height : 45\n",
            "Volume of the cylinder is : 14130.0 cm3 and cost of milk will be Rs 565.2\n"
          ]
        }
      ],
      "source": [
        "##12 Write a program to find the volume of the cylinder. Also find the cost when ,when the cost of 1litre milk is 40Rs.\n",
        "\n",
        "r = int(input(\"Enter your Cylinder's radius : \"))\n",
        "h = int(input(\"Enter your Cylinder's height : \"))\n",
        "\n",
        "v = 3.14*(r**2)*h\n",
        "cost = 40 * v/1000\n",
        "print(\"Volume of the cylinder is :\", v,\"cm3 and cost of milk will be Rs\", cost)"
      ]
    },
    {
      "cell_type": "code",
      "execution_count": null,
      "id": "f73aec5a",
      "metadata": {
        "id": "f73aec5a",
        "outputId": "f3690c41-86e4-4cdc-abc5-40dc74d3889d"
      },
      "outputs": [
        {
          "name": "stdout",
          "output_type": "stream",
          "text": [
            "Enter the number : 36\n",
            "Divisible by both 3 and 6\n"
          ]
        }
      ],
      "source": [
        "#13 Write  a program that will tell whether the given number is divisible by 3 & 6.\n",
        "\n",
        "num = int(input(\"Enter the number : \"))\n",
        "if (num%3==0 and num%6==0):\n",
        "    print(\"Divisible by both 3 and 6\")\n",
        "else :\n",
        "    print(\"Number not divisible by both 3 and 6\")"
      ]
    },
    {
      "cell_type": "markdown",
      "id": "e0200ed8",
      "metadata": {
        "id": "e0200ed8"
      },
      "source": [
        "####14-  Write a program that will determine weather when the value of temperature and humidity is provided by the user.\n",
        "\n",
        "    TEMPERATURE(C)      HUMIDITY(%)         WEATHER\n",
        "     >= 30              >=90                Hot and Humid\n",
        "     >= 30              < 90                Hot\n",
        "     <30                >= 90               Cool and Humid\n",
        "     <30                <90                 Cool"
      ]
    },
    {
      "cell_type": "code",
      "execution_count": null,
      "id": "2e23cda1",
      "metadata": {
        "id": "2e23cda1",
        "outputId": "aa620ec4-2c18-4d1e-b897-28d085667aeb"
      },
      "outputs": [
        {
          "name": "stdout",
          "output_type": "stream",
          "text": [
            "Enter temperature in celsius : 34\n",
            "Enter humidity in percentage : 60\n",
            "Hot\n"
          ]
        }
      ],
      "source": [
        "temp = int(input(\"Enter temperature in celsius : \"))\n",
        "humid = int(input(\"Enter humidity in percentage : \"))\n",
        "\n",
        "if (temp>=30 and humid >=90):\n",
        "    print('Hot and Humid')\n",
        "elif (temp>=30 and humid <90):\n",
        "    print('Hot')\n",
        "elif (temp<30 and humid >=90):\n",
        "    print('Cool and Humid')\n",
        "else :\n",
        "    print(\"Cool\")\n"
      ]
    },
    {
      "cell_type": "code",
      "execution_count": null,
      "id": "c06648ff",
      "metadata": {
        "id": "c06648ff",
        "outputId": "e2b2dad7-e59a-44a4-af7b-9933087cdece"
      },
      "outputs": [
        {
          "name": "stdout",
          "output_type": "stream",
          "text": [
            "Enter the first digit : 3\n",
            "Enter the second digit : 1\n",
            "Enter the third digit : 5\n",
            "Sum of square of digits is :  35\n"
          ]
        }
      ],
      "source": [
        "## 15- Write a program that will take three digits from the user and add the square of each digit.\n",
        "\n",
        "num1 = int(input(\"Enter the first digit : \"))\n",
        "num2 = int(input(\"Enter the second digit : \"))\n",
        "num3 = int(input(\"Enter the third digit : \"))\n",
        "\n",
        "sum = (num1**2 + num2**2 + num3**2)\n",
        "print (\"Sum of square of digits is : \", sum)"
      ]
    },
    {
      "cell_type": "code",
      "execution_count": null,
      "id": "d89d2b74",
      "metadata": {
        "id": "d89d2b74",
        "outputId": "df62fe61-19c1-4938-8f85-89a5a27b8564",
        "colab": {
          "base_uri": "https://localhost:8080/"
        }
      },
      "outputs": [
        {
          "output_type": "stream",
          "name": "stdout",
          "text": [
            "Enter your number : 145\n",
            "Not a Armstrong number\n"
          ]
        }
      ],
      "source": [
        "##16-  Write a program that will check whether the number is armstrong (or narcissist) number or not.\n",
        "\n",
        "### let us consider ABC of order ‘n’ then ABC is an Armstrong number if: ABC= An+Bn+Cn\n",
        "#### 153 = 1*1*1 + 5*5*5 + 3*3*3  // 153 is an Armstrong number\n",
        "\n",
        "#Method_2\n",
        "user_input = int (input(\"Enter your number : \"))\n",
        "num = user_input\n",
        "a= num%10\n",
        "num=num//10\n",
        "b= num%10\n",
        "c= num//10\n",
        "\n",
        "if (a**3)+(b**3)+(c**3) == user_input:\n",
        "  print (\"Armstrong number\")\n",
        "else:\n",
        "  print (\"Not a Armstrong number\")"
      ]
    },
    {
      "cell_type": "code",
      "execution_count": null,
      "id": "4766dd8b",
      "metadata": {
        "id": "4766dd8b",
        "outputId": "1e1d93fa-01cb-4220-cb95-21938c4be621"
      },
      "outputs": [
        {
          "name": "stdout",
          "output_type": "stream",
          "text": [
            "Enter the number : 13\n",
            "13 is a prime number\n"
          ]
        }
      ],
      "source": [
        "##17- Write a program that will check whether the number is prime number or not.\n",
        "\n",
        "#take user input\n",
        "num = int(input(\"Enter the number : \"))\n",
        "\n",
        "# define a flag variable\n",
        "flag = False\n",
        "\n",
        "# prime numbers are greater than 1\n",
        "if num > 1:\n",
        "    # check for factors\n",
        "    for i in range(2, num):\n",
        "        if (num % i) == 0:\n",
        "            # if factor is found, set flag to True\n",
        "            flag = True\n",
        "            # break out of loop\n",
        "            break\n",
        "\n",
        "# check if flag is True\n",
        "if flag:\n",
        "    print(num, \"is not a prime number\")\n",
        "else:\n",
        "    print(num, \"is a prime number\")"
      ]
    },
    {
      "cell_type": "code",
      "execution_count": null,
      "id": "430542dc",
      "metadata": {
        "id": "430542dc"
      },
      "outputs": [],
      "source": [
        "##18 Write a program that will check whether the number is perfect number or not.\n",
        "### if the sum of a number's positive divisors excluding the number itself is equal to that number..\n",
        "#### For example, 6 is a perfect number in Python because 6 = 1+2+3 (it's divisors)\n",
        "\n"
      ]
    },
    {
      "cell_type": "code",
      "execution_count": null,
      "id": "122048e2",
      "metadata": {
        "id": "122048e2"
      },
      "outputs": [],
      "source": [
        "##19 Write a program to display the Fibonacci sequence up to n-th term\n"
      ]
    },
    {
      "cell_type": "code",
      "execution_count": null,
      "id": "e6a18572",
      "metadata": {
        "id": "e6a18572",
        "outputId": "0597b0cd-2fff-4e0c-8c73-f331346883ba"
      },
      "outputs": [
        {
          "name": "stdout",
          "output_type": "stream",
          "text": [
            "Enter you annual CTC :1600000\n",
            "Salary after tax deduction : Rs 1280000.0\n",
            "In hand salary per month is Rs 87466.66666666667\n",
            "0.08746666666666666 Cr\n"
          ]
        }
      ],
      "source": [
        "##20 Write a program that will give you the in hand salary after deduction of HRA(10%), DA(5%), PF(3%) and tax\n",
        "## (if salary is between 5-10 lakh–10%),(11-20lakh–20%),(20< _   – 30%)(0-1lakh print k).\n",
        "\n",
        "user_ip = float(input('Enter you annual CTC :'))\n",
        "\n",
        "if user_ip > 500000 and user_ip <1000000 :\n",
        "    tax = (10/100)*user_ip\n",
        "    salary = user_ip-tax\n",
        "\n",
        "elif user_ip >1000000 and user_ip <2000000:\n",
        "    tax = (20/100)*user_ip\n",
        "    salary = user_ip-tax\n",
        "else :\n",
        "    tax = (30/100)*user_ip\n",
        "    salary = user_ip - tax\n",
        "\n",
        "print(\"Salary after tax deduction : Rs\", salary)\n",
        "\n",
        "hra = (10/100)*salary\n",
        "da = (5/100)*salary\n",
        "pf = (3/100)*salary\n",
        "\n",
        "in_hand = (salary-hra-da-pf)/12\n",
        "print(\"In hand salary per month is Rs\", in_hand)\n",
        "\n",
        "if in_hand <=999:\n",
        "    print(in_hand)\n",
        "\n",
        "elif in_hand >=1000 and in_hand<=9999:\n",
        "    print(\"Salary is :\", 'k')\n",
        "\n",
        "elif in_hand >=100000 and in_hand<=9999999:\n",
        "    print(\"Salary is :\", 'l')\n",
        "\n",
        "else :\n",
        "    print(in_hand / 1000000, 'Cr')"
      ]
    },
    {
      "cell_type": "code",
      "execution_count": null,
      "id": "df76ab13",
      "metadata": {
        "id": "df76ab13",
        "outputId": "aecbd953-8663-48d0-a3ea-2963dfb47c26"
      },
      "outputs": [
        {
          "name": "stdout",
          "output_type": "stream",
          "text": [
            "\n",
            "Hi! Welcome to my page\n",
            "What would you like to do ?\n",
            "\n",
            "1. Convert cm to inches\n",
            "2. Convert km to miles\n",
            "3. Convert usd to inr\n",
            "4. Exit\n",
            "3\n",
            "Enter value in usd :600\n",
            "Value in INR is : 45978.0\n"
          ]
        }
      ],
      "source": [
        "##21 Write a menu driven program - 1.cm to ft  2.kl to miles  3.usd to inr  4.exit\n",
        "\n",
        "user_inp = input('''\n",
        "Hi! Welcome to my page\n",
        "What would you like to do ?\n",
        "\n",
        "1. Convert cm to inches\n",
        "2. Convert km to miles\n",
        "3. Convert usd to inr\n",
        "4. Exit\n",
        "''')\n",
        "\n",
        "if user_inp =='1' :\n",
        "    cm = float(input('Enter value in cm :'))\n",
        "    inch = cm * 0.394\n",
        "    print ('Value in inches is :', inch)\n",
        "\n",
        "elif user_inp =='2':\n",
        "    km = float(input('Enter value in km :'))\n",
        "    mile = km * 0.621\n",
        "    print ('Value in miles is :', mile)\n",
        "\n",
        "elif user_inp =='3' :\n",
        "    usd = float(input('Enter value in usd :'))\n",
        "    inr = usd * 76.63\n",
        "    print ('Value in INR is :', inr)\n",
        "\n",
        "else :\n",
        "    print('Exit')"
      ]
    },
    {
      "cell_type": "code",
      "execution_count": null,
      "id": "a7aa6dde",
      "metadata": {
        "id": "a7aa6dde"
      },
      "outputs": [],
      "source": [
        "## 22- Write a program that will tell the number of dogs and chicken are there when the user will provide the value of total heads and legs\n"
      ]
    },
    {
      "cell_type": "code",
      "execution_count": null,
      "id": "2f84781f",
      "metadata": {
        "id": "2f84781f",
        "outputId": "da19dea7-5ed5-41f3-b83d-e1e9c9580427"
      },
      "outputs": [
        {
          "name": "stdout",
          "output_type": "stream",
          "text": [
            "Enter the number16\n",
            "Sum of all numbers :  136\n"
          ]
        }
      ],
      "source": [
        "# 23- Write a program to find the sum of first n numbers, where n will be provided by the user.\n",
        "## Eg if the user provides n=10 the output should be 55.\n",
        "\n",
        "num = int(input(\"Enter the number\"))\n",
        "sum = 0\n",
        "for i in range(1, num+1):\n",
        "    sum = sum+i\n",
        "\n",
        "print (\"Sum of all numbers : \", sum)"
      ]
    },
    {
      "cell_type": "code",
      "execution_count": null,
      "id": "7c43ab97",
      "metadata": {
        "id": "7c43ab97"
      },
      "outputs": [],
      "source": [
        "## 24- Write a program that can multiply 2 numbers provided by the user without using the * operator\n"
      ]
    },
    {
      "cell_type": "code",
      "execution_count": null,
      "id": "271177db",
      "metadata": {
        "id": "271177db",
        "outputId": "79eab8e6-7948-4b83-9b95-7cbcfd4f7faf"
      },
      "outputs": [
        {
          "name": "stdout",
          "output_type": "stream",
          "text": [
            "Enter the number : 5\n",
            "Factorial is  120\n"
          ]
        }
      ],
      "source": [
        "## 25-Write a program that can find the factorial of a given number provided by the user.\n",
        "\n",
        "num = int(input(\"Enter the number : \"))\n",
        "fact=1\n",
        "for i in range(2,num+1):\n",
        "    fact = fact*i\n",
        "print('Factorial is ',fact)"
      ]
    },
    {
      "cell_type": "code",
      "execution_count": null,
      "id": "d9befcb0",
      "metadata": {
        "id": "d9befcb0",
        "outputId": "e028cef4-5625-4d65-bdaa-7e44f282c993"
      },
      "outputs": [
        {
          "name": "stdout",
          "output_type": "stream",
          "text": [
            "1\n",
            "3\n",
            "5\n",
            "7\n",
            "9\n",
            "11\n",
            "13\n",
            "15\n",
            "17\n",
            "19\n",
            "21\n",
            "23\n",
            "25\n",
            "27\n",
            "29\n",
            "31\n",
            "33\n",
            "35\n",
            "37\n",
            "39\n",
            "41\n",
            "43\n",
            "45\n",
            "47\n",
            "49\n"
          ]
        }
      ],
      "source": [
        "##26-  Write a program to print the first 25 odd numbers\n",
        "\n",
        "for i in range(0,25) :\n",
        "    num = 2*i+1\n",
        "    print(num)"
      ]
    },
    {
      "cell_type": "code",
      "execution_count": null,
      "id": "bbed61be",
      "metadata": {
        "id": "bbed61be"
      },
      "outputs": [],
      "source": [
        "##27- Print all the armstrong numbers in the range of 100 to 1000"
      ]
    },
    {
      "cell_type": "markdown",
      "id": "b4d01b68",
      "metadata": {
        "id": "b4d01b68"
      },
      "source": [
        "####28- The current population of a town is 10000. The population of the town is increasing at the rate of 10% per year.\n",
        "You have to write a program to find out the population at the end of each of the last 10 years.\n",
        "\n",
        "For eg current population is 10000 so the output should be like this:\n",
        "\n",
        "    10th year - 10000\n",
        "    9th year - 9000\n",
        "    8th year - 8100 and so on"
      ]
    },
    {
      "cell_type": "code",
      "source": [],
      "metadata": {
        "id": "efaujNLpGO7O"
      },
      "id": "efaujNLpGO7O",
      "execution_count": null,
      "outputs": []
    },
    {
      "cell_type": "code",
      "execution_count": null,
      "id": "ec49ceef",
      "metadata": {
        "id": "ec49ceef",
        "outputId": "4ac57cac-f532-41a9-f4af-3a598a6c5010"
      },
      "outputs": [
        {
          "name": "stdout",
          "output_type": "stream",
          "text": [
            "1 2\n",
            "1 3\n",
            "1 4\n",
            "2 1\n",
            "2 3\n",
            "2 4\n",
            "3 1\n",
            "3 2\n",
            "3 4\n",
            "4 1\n",
            "4 2\n",
            "4 3\n"
          ]
        }
      ],
      "source": [
        "## 29- Write a program to print all the unique combinations of 1,2,3 and 4\n",
        "\n",
        "for i in range(1,5):\n",
        "    for j in range(1,5):\n",
        "        if i!=j:\n",
        "            print(i,j)"
      ]
    },
    {
      "cell_type": "code",
      "execution_count": null,
      "id": "03bb0739",
      "metadata": {
        "id": "03bb0739"
      },
      "outputs": [],
      "source": [
        "##30- User will provide 2 numbers you have to find the HCF and LCM of those 2 numbers"
      ]
    },
    {
      "cell_type": "code",
      "execution_count": null,
      "id": "83695d74",
      "metadata": {
        "id": "83695d74",
        "outputId": "91fd5460-e111-4f13-8ea4-6cec6d68d07b"
      },
      "outputs": [
        {
          "name": "stdout",
          "output_type": "stream",
          "text": [
            "1 )  2\n",
            "2 )  3\n",
            "3 )  5\n",
            "4 )  7\n",
            "5 )  11\n",
            "6 )  13\n",
            "7 )  17\n",
            "8 )  19\n",
            "9 )  23\n",
            "10 )  29\n",
            "11 )  31\n",
            "12 )  37\n",
            "13 )  41\n",
            "14 )  43\n",
            "15 )  47\n",
            "16 )  53\n",
            "17 )  59\n",
            "18 )  61\n",
            "19 )  67\n",
            "20 )  71\n",
            "21 )  73\n",
            "22 )  79\n",
            "23 )  83\n",
            "24 )  89\n",
            "25 )  97\n"
          ]
        }
      ],
      "source": [
        "#31- Print first 25 prime numbers\n",
        "\n",
        "counter = 1\n",
        "num = 2\n",
        "while counter <=25:\n",
        "    for i in range (2, num):\n",
        "        if num % i==0:\n",
        "            break\n",
        "    else:\n",
        "        print(counter, ') ',num)\n",
        "        counter = counter+1\n",
        "    num= num+1"
      ]
    },
    {
      "cell_type": "code",
      "execution_count": null,
      "id": "4abd47a8",
      "metadata": {
        "id": "4abd47a8"
      },
      "outputs": [],
      "source": [
        "##32- Print the first 20 numbers of a Fibonacci series"
      ]
    },
    {
      "cell_type": "code",
      "execution_count": null,
      "id": "a17daf6b",
      "metadata": {
        "id": "a17daf6b",
        "outputId": "d4d05b8b-5ef7-45d5-975f-2dce1dbf37f1"
      },
      "outputs": [
        {
          "name": "stdout",
          "output_type": "stream",
          "text": [
            "Enter your principal : 890\n",
            "Enter your rate of interest : 12\n",
            "Enter your time period in years : 8\n",
            "Your amount is Rs 2203.607226902382\n",
            "Your Compound interest is  1313.607226902382\n"
          ]
        }
      ],
      "source": [
        "## 33- Write a program to find the compound interest\n",
        "\n",
        "p = int(input(\"Enter your principal : \"))\n",
        "r = int(input(\"Enter your rate of interest : \"))\n",
        "t = int(input(\"Enter your time period in years : \"))\n",
        "\n",
        "a = p*(1+r/100)**t\n",
        "print(\"Your amount is Rs\", a)\n",
        "\n",
        "ci = a-p\n",
        "print('Your Compound interest is ', ci)"
      ]
    },
    {
      "cell_type": "code",
      "execution_count": null,
      "id": "63d6430d",
      "metadata": {
        "id": "63d6430d",
        "outputId": "af6f88c3-262d-4f52-e36e-78b6302498ea"
      },
      "outputs": [
        {
          "name": "stdout",
          "output_type": "stream",
          "text": [
            "Enter an integer : 7\n",
            "n is : 7\n",
            "nn is : 49\n",
            "nnn is : 343\n",
            "Value of n+nn+nnn is : 399\n"
          ]
        }
      ],
      "source": [
        "##34-  Write a Python program that accepts an integer (n) and computes the value of n+nn+nnn\n",
        "\n",
        "n = int(input(\"Enter an integer : \"))\n",
        "sum = int(n+n**2+n**3)\n",
        "print(\"n is :\", n)\n",
        "print(\"nn is :\", n**2)\n",
        "print(\"nnn is :\", n**3)\n",
        "\n",
        "print(\"Value of n+nn+nnn is :\", sum)"
      ]
    },
    {
      "cell_type": "code",
      "execution_count": null,
      "id": "8862d73b",
      "metadata": {
        "id": "8862d73b",
        "outputId": "a4677474-7a7e-4582-d6a8-78b3737e1e4d"
      },
      "outputs": [
        {
          "name": "stdout",
          "output_type": "stream",
          "text": [
            "Enter a number : 908876\n",
            "Length of number is : 6\n"
          ]
        }
      ],
      "source": [
        "##35- Take a number from the user and find the number of digits in it\n",
        "\n",
        "num = int(input(\"Enter a number : \"))\n",
        "num= str(num)\n",
        "digits = len(num)\n",
        "\n",
        "print('Length of number is :' , digits)"
      ]
    },
    {
      "cell_type": "code",
      "execution_count": null,
      "id": "5950f319",
      "metadata": {
        "id": "5950f319",
        "outputId": "3b520ef5-1f96-4085-b4aa-41092228094d"
      },
      "outputs": [
        {
          "name": "stdout",
          "output_type": "stream",
          "text": [
            "Enter a number : 50\n",
            "1\n",
            "2\n",
            "5\n",
            "10\n",
            "25\n",
            "50\n"
          ]
        }
      ],
      "source": [
        "## 36- Print all factors of a given number provided by the user\n",
        "\n",
        "x = int(input(\"Enter a number : \"))\n",
        "\n",
        "for i in range(1, x + 1):\n",
        "       if x % i == 0:\n",
        "            print(i)"
      ]
    },
    {
      "cell_type": "code",
      "execution_count": null,
      "id": "541b965d",
      "metadata": {
        "id": "541b965d"
      },
      "outputs": [],
      "source": [
        "## 37- Find the reverse of a number provided by the user(any number of digit)\n"
      ]
    },
    {
      "cell_type": "markdown",
      "id": "e49c6798",
      "metadata": {
        "id": "e49c6798"
      },
      "source": [
        "#### 38- Write a program to print the following pattern\n",
        "\n",
        "    *\n",
        "    **\n",
        "    ***\n",
        "    ****\n",
        "    *****"
      ]
    },
    {
      "cell_type": "code",
      "execution_count": null,
      "id": "79c5f5e9",
      "metadata": {
        "id": "79c5f5e9",
        "outputId": "24f96e05-f04d-4de9-8798-dc27c61007c9"
      },
      "outputs": [
        {
          "name": "stdout",
          "output_type": "stream",
          "text": [
            "*\n",
            "**\n",
            "***\n",
            "****\n",
            "*****\n"
          ]
        }
      ],
      "source": [
        "for i in range(1,6):\n",
        "    for j in range(1,6):\n",
        "        if i==j:\n",
        "            print(i*'*')"
      ]
    },
    {
      "cell_type": "markdown",
      "id": "1aa3a8f8",
      "metadata": {
        "id": "1aa3a8f8"
      },
      "source": [
        "#### 39-Write a program to print the following pattern\n",
        "\n",
        "    *\n",
        "    **\n",
        "    ***\n",
        "    **\n",
        "    *"
      ]
    },
    {
      "cell_type": "code",
      "execution_count": null,
      "id": "89d34f4f",
      "metadata": {
        "id": "89d34f4f",
        "outputId": "d3263183-52ae-4b42-b3b7-78e5dba48133"
      },
      "outputs": [
        {
          "name": "stdout",
          "output_type": "stream",
          "text": [
            "*\n",
            "**\n",
            "***\n",
            "**\n",
            "*\n"
          ]
        }
      ],
      "source": [
        "for i in range(1,4):\n",
        "    for j in range(1,4):\n",
        "        if i==j:\n",
        "            print(i*'*')\n",
        "\n",
        "for i in range(2,0,-1):\n",
        "    for j in range(2,0,-1):\n",
        "        if i==j:\n",
        "            print(i*'*')"
      ]
    },
    {
      "cell_type": "markdown",
      "id": "3101f263",
      "metadata": {
        "id": "3101f263"
      },
      "source": [
        "#### 40-Write  a program to print the following pattern\n",
        "\n",
        "            *\n",
        "          * * *\n",
        "        * * * * *\n",
        "       * * * * * * *\n",
        "    * * * * * * * * *"
      ]
    },
    {
      "cell_type": "code",
      "execution_count": null,
      "id": "4cdd5083",
      "metadata": {
        "id": "4cdd5083",
        "outputId": "95c20a83-406d-4e83-d58b-d2f2086d9844"
      },
      "outputs": [
        {
          "name": "stdout",
          "output_type": "stream",
          "text": [
            "Enter number of rows: 6\n",
            "          * \n",
            "        * * * \n",
            "      * * * * * \n",
            "    * * * * * * * \n",
            "  * * * * * * * * * \n",
            "* * * * * * * * * * * \n"
          ]
        }
      ],
      "source": [
        "rows = int(input(\"Enter number of rows: \"))\n",
        "\n",
        "k = 0\n",
        "\n",
        "for i in range(1, rows+1):\n",
        "    for space in range(1, (rows-i)+1):\n",
        "        print(end=\"  \")\n",
        "\n",
        "    while k!=(2*i-1):\n",
        "        print(\"* \", end=\"\")\n",
        "        k += 1\n",
        "\n",
        "    k = 0\n",
        "    print()"
      ]
    },
    {
      "cell_type": "markdown",
      "id": "50bf85a7",
      "metadata": {
        "id": "50bf85a7"
      },
      "source": [
        "#### 41- Write a program to print the following pattern\n",
        "\n",
        "        *\n",
        "       * *\n",
        "      * * *\n",
        "     * * * *"
      ]
    },
    {
      "cell_type": "code",
      "execution_count": null,
      "id": "9bebe119",
      "metadata": {
        "id": "9bebe119",
        "outputId": "2208f003-ef97-4fff-97c3-5b8902344882"
      },
      "outputs": [
        {
          "name": "stdout",
          "output_type": "stream",
          "text": [
            "Please enter the number of rows :7\n",
            "      * \n",
            "     * * \n",
            "    * * * \n",
            "   * * * * \n",
            "  * * * * * \n",
            " * * * * * * \n",
            "* * * * * * * \n"
          ]
        }
      ],
      "source": [
        "row = int(input(\"Please enter the number of rows :\"))\n",
        "\n",
        "for i in range(0, row):\n",
        "    for j in range(0, row-i-1):\n",
        "        print(end= ' ')\n",
        "    for k in range(0, i+1):\n",
        "        print('*', end= ' ')\n",
        "    print()"
      ]
    },
    {
      "cell_type": "markdown",
      "id": "59f096d0",
      "metadata": {
        "id": "59f096d0"
      },
      "source": [
        "#### 42- Write a program to print the following pattern\n",
        "    1\n",
        "    1 2 1\n",
        "    1 2 3 2 1\n",
        "    1 2 3 4 3 2 1\n",
        "    1 2 3 4 5 4 3 2 1"
      ]
    },
    {
      "cell_type": "code",
      "execution_count": null,
      "id": "c762b463",
      "metadata": {
        "id": "c762b463",
        "outputId": "6b975ee8-14ad-4829-a45d-550ce3e5b543"
      },
      "outputs": [
        {
          "name": "stdout",
          "output_type": "stream",
          "text": [
            "Enter number of rows : 6\n",
            "1  \n",
            "1 2 1  \n",
            "1 2 3 2 1  \n",
            "1 2 3 4 3 2 1  \n",
            "1 2 3 4 5 4 3 2 1  \n",
            "1 2 3 4 5 6 5 4 3 2 1  \n"
          ]
        }
      ],
      "source": [
        "row = int(input('Enter number of rows : '))\n",
        "\n",
        "for i in range(1, row+1) :\n",
        "    for j in range(1, i+1) :\n",
        "        print(j, end = ' ')\n",
        "    for k in range(i-1, 0, -1):\n",
        "        print(k, end =' ')\n",
        "    print(' ')"
      ]
    },
    {
      "cell_type": "markdown",
      "id": "909bfe06",
      "metadata": {
        "id": "909bfe06"
      },
      "source": [
        "#### 43- Write a program to print the following pattern\n",
        "    1\n",
        "    2 3\n",
        "    4 5 6\n",
        "    7 8 9 10"
      ]
    },
    {
      "cell_type": "code",
      "execution_count": null,
      "id": "b7023f26",
      "metadata": {
        "id": "b7023f26",
        "outputId": "c3f91f9b-e9fa-4ff7-b442-678a3bafe98f"
      },
      "outputs": [
        {
          "name": "stdout",
          "output_type": "stream",
          "text": [
            "Enter number of rows : 7\n",
            "1 \n",
            "2 3 \n",
            "4 5 6 \n",
            "7 8 9 10 \n",
            "11 12 13 14 15 \n",
            "16 17 18 19 20 21 \n",
            "22 23 24 25 26 27 28 \n"
          ]
        }
      ],
      "source": [
        "row = int(input('Enter number of rows : '))\n",
        "k=1\n",
        "\n",
        "for i in range(1, row+1) :\n",
        "    for j in range(1, i+1) :\n",
        "        print(k, end=' ')\n",
        "        k = k+1\n",
        "\n",
        "    print(\"\\r\")"
      ]
    },
    {
      "cell_type": "code",
      "execution_count": null,
      "id": "6e78434b",
      "metadata": {
        "id": "6e78434b"
      },
      "outputs": [],
      "source": [
        "##44 Write a program to calculate the sum of the following series till the nth term :- 1/1! + 2/2! + 3/3! + 4/4! +…….+ n/n!\n",
        "## n will be provided by the user"
      ]
    },
    {
      "cell_type": "markdown",
      "id": "76a13e41",
      "metadata": {
        "id": "76a13e41"
      },
      "source": [
        "### 45- The natural logarithm can be approximated by the following series.\n",
        "\n",
        "#### If x is input through the keyboard, write a program to calculate the sum of the first seven terms of this series.\n",
        "\n",
        "![](https://media.cheggcdn.com/media/c64/c64e1a30-a1f9-4dfc-9722-6ffefe7b1368/phpOJW3Ov.png)"
      ]
    },
    {
      "cell_type": "code",
      "execution_count": null,
      "id": "6e14f6ed",
      "metadata": {
        "scrolled": true,
        "id": "6e14f6ed",
        "outputId": "dae6150e-43e6-41c5-fabb-db4617f5c050"
      },
      "outputs": [
        {
          "name": "stdout",
          "output_type": "stream",
          "text": [
            "Enter your number : 11\n",
            "Enter nth value : 4\n",
            "4165.416666666667\n"
          ]
        }
      ],
      "source": [
        "## 45 Write a Python Program to Find the Sum of the Series till the nth term :- 1 + x^2/2 + x^3/3 + … x^n/n\n",
        "## n will be provided by the user\n",
        "\n",
        "\n",
        "x = int(input('Enter your number : '))\n",
        "num = int(input('Enter nth value : '))\n",
        "\n",
        "sum = 1\n",
        "\n",
        "for i in range (2, num+1):\n",
        "    sum = sum + ((x**i)/i)\n",
        "\n",
        "print(sum)"
      ]
    },
    {
      "cell_type": "code",
      "execution_count": null,
      "id": "e67d3fe0",
      "metadata": {
        "id": "e67d3fe0"
      },
      "outputs": [],
      "source": [
        "##46- The natural logarithm can be approximated by the following series.\n",
        "##If x is input through the keyboard, write a program to calculate the sum of the first seven terms of this series."
      ]
    },
    {
      "cell_type": "code",
      "execution_count": null,
      "id": "88744a64",
      "metadata": {
        "id": "88744a64",
        "outputId": "cf0250e1-3c8f-408f-8bca-45bbd713c84e"
      },
      "outputs": [
        {
          "name": "stdout",
          "output_type": "stream",
          "text": [
            "Please enter a number : 8\n",
            "Please enter a number : 9\n",
            "Please enter a number : 11\n",
            "Please enter a number : 23\n",
            "Please enter a number : 44\n",
            "Please enter a number : 854\n",
            "Please enter a number : 99\n",
            "Please enter a number : 0\n",
            "\n",
            "Sum is : 1048 and Average of all numbers enter is : 149.71428571428572\n"
          ]
        }
      ],
      "source": [
        "# 47- Write a program that keeps on accepting a number from the user until the user enters Zero.\n",
        "## Display the sum and average of all the numbers.\n",
        "\n",
        "i=1\n",
        "count = 1\n",
        "su=0\n",
        "\n",
        "\n",
        "while i!=0 :\n",
        "    x = int(input('Please enter a number : '))\n",
        "    i = x\n",
        "    if x==0:\n",
        "        break\n",
        "    else :\n",
        "        su =su+x\n",
        "        avg = su/count\n",
        "        count = count+1\n",
        "    continue\n",
        "\n",
        "print ('\\nSum is :' , su, 'and Average of all numbers enter is :' , avg)"
      ]
    },
    {
      "cell_type": "code",
      "execution_count": null,
      "id": "1396a69f",
      "metadata": {
        "id": "1396a69f",
        "outputId": "7023bb07-39a0-45a7-e7f0-af91ee81d495",
        "colab": {
          "base_uri": "https://localhost:8080/"
        }
      },
      "outputs": [
        {
          "output_type": "stream",
          "name": "stdout",
          "text": [
            "Enter a string : My name is Ritik\n",
            "Length of string entered is  16\n"
          ]
        }
      ],
      "source": [
        "##48 Find the length of a given string without using the len() function.\n",
        "\n",
        "counter =0\n",
        "string = input ('Enter a string : ')\n",
        "for item in string :\n",
        "    counter = counter+1\n",
        "print(\"Length of string entered is \", counter)"
      ]
    },
    {
      "cell_type": "code",
      "execution_count": null,
      "id": "ea7cb9da",
      "metadata": {
        "id": "ea7cb9da"
      },
      "outputs": [],
      "source": [
        "#48-  Write a program that accepts 2 numbers from the user a numerator and a denominator and then simplifies it\n",
        "## Eg if the num = 5, den = 15 the answer should be ⅓\n",
        "### Eg if the num = 6, den = 9 the answer should be ⅔"
      ]
    },
    {
      "cell_type": "code",
      "execution_count": null,
      "id": "0260efcb",
      "metadata": {
        "id": "0260efcb",
        "outputId": "dc76bca4-b420-4dee-fe84-97f635fe382b",
        "colab": {
          "base_uri": "https://localhost:8080/"
        }
      },
      "outputs": [
        {
          "output_type": "stream",
          "name": "stdout",
          "text": [
            "Enter your email id : scientistritiktiwari@gmail.com\n",
            "Username is : scientistritiktiwari\n"
          ]
        }
      ],
      "source": [
        "# 49- Extract username from a given email.\n",
        "## Eg if the email is nitish24singh@gmail.com then the username should be nitish24singh\n",
        "\n",
        "#username=\"\"\n",
        "email = input ('Enter your email id : ')\n",
        "\n",
        "#for item in email:\n",
        "#   while(item!='@'):\n",
        "#      username= username+item\n",
        "\n",
        "#print ('username is :', username)\n",
        "\n",
        "username,mail = email.split('@')\n",
        "print('Username is :', username)"
      ]
    },
    {
      "cell_type": "code",
      "execution_count": null,
      "id": "d6990bc8",
      "metadata": {
        "id": "d6990bc8",
        "outputId": "d05f5951-762f-47ca-c232-eb06000cc899",
        "colab": {
          "base_uri": "https://localhost:8080/"
        }
      },
      "outputs": [
        {
          "output_type": "stream",
          "name": "stdout",
          "text": [
            "Enter a string : jai shri ram\n",
            "Enter the character : a\n",
            "2\n"
          ]
        }
      ],
      "source": [
        "#50- Count the frequency of a particular character in a provided string.\n",
        "## Eg 'hello how are you' is the string,  the frequency of h in this string is 2.\n",
        "\n",
        "counter = 0\n",
        "\n",
        "string = input ('Enter a string : ')\n",
        "char = input ('Enter the character : ')\n",
        "\n",
        "for item in string :\n",
        "    if item==char:\n",
        "        counter =counter+1\n",
        "print(counter)"
      ]
    },
    {
      "cell_type": "code",
      "execution_count": null,
      "id": "dc2ddece",
      "metadata": {
        "id": "dc2ddece",
        "outputId": "0f55ebe0-dc71-45a8-e112-6e431eda2ed8"
      },
      "outputs": [
        {
          "name": "stdout",
          "output_type": "stream",
          "text": [
            "Enter a string : What can happen will happen\n",
            "Enter the character : t\n",
            "3\n"
          ]
        }
      ],
      "source": [
        "## 51- Find the index position of a particular character in another string.\n",
        "\n",
        "string = input ('Enter a string : ')\n",
        "char = input ('Enter the character : ')\n",
        "\n",
        "counter = 0\n",
        "\n",
        "for item in string :\n",
        "    if item!=char:\n",
        "        counter = counter+1\n",
        "    else :\n",
        "        break\n",
        "print(counter)"
      ]
    },
    {
      "cell_type": "code",
      "execution_count": null,
      "id": "6d9d5bf9",
      "metadata": {
        "id": "6d9d5bf9",
        "outputId": "4c1400b7-7b7f-4aca-87c3-2bc8249d66eb"
      },
      "outputs": [
        {
          "name": "stdout",
          "output_type": "stream",
          "text": [
            "Enter a string : Will you have toast for breakfast today ?\n",
            "Number of vowels :  13\n"
          ]
        }
      ],
      "source": [
        "#52- Count the number of vowels in a string provided by the user.\n",
        "\n",
        "counter = 0\n",
        "string = input ('Enter a string : ')\n",
        "vowels = ('aeiouAEIOU')\n",
        "\n",
        "for item in string :\n",
        "    if item in vowels :\n",
        "        counter = counter+1\n",
        "    else:\n",
        "        pass\n",
        "print('Number of vowels : ', counter)"
      ]
    },
    {
      "cell_type": "code",
      "execution_count": null,
      "id": "83bd42f6",
      "metadata": {
        "id": "83bd42f6",
        "outputId": "5384e9ee-101f-4245-a3f5-e38400c34c0e"
      },
      "outputs": [
        {
          "name": "stdout",
          "output_type": "stream",
          "text": [
            "Enter a string : Never ever give up\n",
            "Enter the character : e\n",
            "Nvr vr giv up\n"
          ]
        }
      ],
      "source": [
        "#53- Write a program which can remove a particular character from a string\n",
        "\n",
        "string = input ('Enter a string : ')\n",
        "char = input ('Enter the character : ')\n",
        "for item in string :\n",
        "    if item==char:\n",
        "        string = string.replace(item, '')\n",
        "\n",
        "\n",
        "print(string)"
      ]
    },
    {
      "cell_type": "code",
      "execution_count": null,
      "id": "7c3cec2c",
      "metadata": {
        "id": "7c3cec2c",
        "outputId": "22a1ce05-acf5-48c1-e36f-f446ce25ba1b",
        "colab": {
          "base_uri": "https://localhost:8080/"
        }
      },
      "outputs": [
        {
          "output_type": "stream",
          "name": "stdout",
          "text": [
            "Enter a string : ramar\n",
            "String is palindrome\n"
          ]
        }
      ],
      "source": [
        "# 54- Write a program that can check whether a given string is palindrome or not.\n",
        "\n",
        "string = input ('Enter a string : ')\n",
        "\n",
        "rev = string[::-1]\n",
        "if string==rev:\n",
        "    print('String is palindrome')\n",
        "else :\n",
        "    print('String is not palindrome')"
      ]
    },
    {
      "cell_type": "code",
      "execution_count": null,
      "id": "d8796ce6",
      "metadata": {
        "id": "d8796ce6",
        "outputId": "5fe5d544-0fef-4b1a-c1f5-4d9b54e5c260"
      },
      "outputs": [
        {
          "name": "stdout",
          "output_type": "stream",
          "text": [
            "[2, 9, 0, 5, 8, 4, 7, 1]\n"
          ]
        }
      ],
      "source": [
        "## 55- Write a python program to remove all the duplicates from a list\n",
        "\n",
        "lst = [2,9,0,5,8,5,4,2,7,2,0,1]\n",
        "\n",
        "b = []\n",
        "for item in lst :\n",
        "    if item not in b :\n",
        "        b.append(item)\n",
        "print(b)"
      ]
    },
    {
      "cell_type": "code",
      "execution_count": null,
      "id": "0181872b",
      "metadata": {
        "id": "0181872b",
        "outputId": "c5be5420-1f83-4347-e96a-9df7b65f3342"
      },
      "outputs": [
        {
          "name": "stdout",
          "output_type": "stream",
          "text": [
            "Enter a string : just to BE sURe!\n",
            "Entered string in the form of list : ['just', 'to', 'BE', 'sURe!']\n",
            "Just To Be Sure! \n"
          ]
        }
      ],
      "source": [
        "## 56- Write a python program to convert a string to title case without using the title()\n",
        "\n",
        "#The titlecase is a capitalization style used for titles so that the first letter of each word is uppercase\n",
        "##and the remaining letters are lowercase. For example: Python Title Case Tutorial\n",
        "\n",
        "string = input ('Enter a string : ')\n",
        "# we will convert this string into a list of strings\n",
        "lst = string.split()\n",
        "print('Entered string in the form of list :' , lst)\n",
        "final=''\n",
        "\n",
        "for item in lst :\n",
        "    final = final + item[0].upper()+item[1:].lower()+ ' '\n",
        "\n",
        "\n",
        "print(final)"
      ]
    },
    {
      "cell_type": "code",
      "execution_count": null,
      "id": "cb77c4bc",
      "metadata": {
        "id": "cb77c4bc",
        "outputId": "546797ca-b36e-4251-ecfa-9c5e9c482997"
      },
      "outputs": [
        {
          "name": "stdout",
          "output_type": "stream",
          "text": [
            "9\n"
          ]
        }
      ],
      "source": [
        "# 57- Write a python program to find the max item from a list without using the max function\n",
        "\n",
        "lst = [2,0,5,8,5,4,2,7,2,0,1,9]\n",
        "n = 0\n",
        "for item in lst :\n",
        "    if item>n:\n",
        "        n = item\n",
        "\n",
        "print(n)"
      ]
    },
    {
      "cell_type": "code",
      "execution_count": null,
      "id": "03a22212",
      "metadata": {
        "id": "03a22212",
        "outputId": "3b30b8e6-b770-46c8-9f01-7df6087d1f97"
      },
      "outputs": [
        {
          "name": "stdout",
          "output_type": "stream",
          "text": [
            "Reversed list is : ['baJPAi', 'ANUSHKA', 'hello']\n"
          ]
        }
      ],
      "source": [
        "#58-  Write a python program to reverse a list\n",
        "\n",
        "lst =   ['hello', 'ANUSHKA', 'baJPAi']\n",
        "rev = []\n",
        "\n",
        "for item in lst[: :-1]:\n",
        "    rev.append(item)\n",
        "\n",
        "print('Reversed list is :', rev)"
      ]
    },
    {
      "cell_type": "code",
      "execution_count": null,
      "id": "303599e2",
      "metadata": {
        "id": "303599e2",
        "outputId": "551fce2d-b987-44a7-c0db-3292cbf403db"
      },
      "outputs": [
        {
          "name": "stdout",
          "output_type": "stream",
          "text": [
            "Enter number to search : 5\n",
            "Number found\n"
          ]
        }
      ],
      "source": [
        "## 59- Write a python program to search a given number from a list\n",
        "\n",
        "lst = [2,0,5,8,5,4,2,7,2,0,1,9]\n",
        "\n",
        "num = int(input ('Enter number to search : '))\n",
        "\n",
        "for item in lst :\n",
        "    if item==num:\n",
        "        print('Number found')\n",
        "        break\n",
        "else :\n",
        "    print('Not found')"
      ]
    },
    {
      "cell_type": "code",
      "execution_count": null,
      "id": "e5f4fcff",
      "metadata": {
        "id": "e5f4fcff",
        "outputId": "662aa2bf-58e2-410f-ee10-8ec77cd9253a"
      },
      "outputs": [
        {
          "name": "stdout",
          "output_type": "stream",
          "text": [
            "New squared list :  [4, 0, 64, 25, 49, 4, 1, 81]\n"
          ]
        }
      ],
      "source": [
        "# 60- Write a program that can create a new list from a given list\n",
        "## where each item in the new list is square of the item of the old list\n",
        "\n",
        "lst = [2,0,8,5,7,2,1,9]\n",
        "sq = []\n",
        "\n",
        "for item in lst :\n",
        "    sq.append(item*item)\n",
        "print('New squared list : ', sq)"
      ]
    },
    {
      "cell_type": "code",
      "execution_count": null,
      "id": "c2be0883",
      "metadata": {
        "id": "c2be0883",
        "outputId": "6e88acb2-b9ee-48dc-8ab9-f1ea97b422fa"
      },
      "outputs": [
        {
          "name": "stdout",
          "output_type": "stream",
          "text": [
            "Enter a string : It's raining heavily \n",
            "Reversed string is : heavily raining It's \n"
          ]
        }
      ],
      "source": [
        "#61-Write a program that can reverse words of a given string.\n",
        "## Eg:  Hello how are you\n",
        "### Output : you are how Hello\n",
        "\n",
        "string = input ('Enter a string : ')\n",
        "string = string.split()\n",
        "rev = ''\n",
        "\n",
        "for item in string[: : -1] :\n",
        "    rev = rev + item + \" \"\n",
        "\n",
        "print('Reversed string is :' , rev)"
      ]
    },
    {
      "cell_type": "code",
      "execution_count": null,
      "id": "8783e599",
      "metadata": {
        "id": "8783e599",
        "outputId": "1c297792-e694-4502-8def-2a3fa4db6f27"
      },
      "outputs": [
        {
          "name": "stdout",
          "output_type": "stream",
          "text": [
            "Enter a string : Cherish every moment in life\n",
            "number of items in the given string are : 5\n"
          ]
        }
      ],
      "source": [
        "## 62- Write a program that can count the number of words in a given string\n",
        "\n",
        "string = input ('Enter a string : ')\n",
        "string = string.split()\n",
        "\n",
        "count = 0\n",
        "\n",
        "for item in string:\n",
        "    count = count+1\n",
        "\n",
        "print('number of items in the given string are :', count)"
      ]
    },
    {
      "cell_type": "code",
      "execution_count": 4,
      "id": "4c8512fb",
      "metadata": {
        "id": "4c8512fb",
        "outputId": "c3d928af-e951-4569-83e0-c131a05e31ad",
        "colab": {
          "base_uri": "https://localhost:8080/"
        }
      },
      "outputs": [
        {
          "output_type": "stream",
          "name": "stdout",
          "text": [
            "List is ascending\n",
            "List is ascending\n",
            "List is ascending\n",
            "List is ascending\n"
          ]
        }
      ],
      "source": [
        "## 63- Write a program to check if a list is in ascending order or not\n",
        "\n",
        "lst = [1,2,3,4]\n",
        "asc = 0\n",
        "\n",
        "for item in lst :\n",
        "    if asc <= item:\n",
        "        asc = item\n",
        "        print('List is ascending')\n",
        "\n",
        "    else :\n",
        "        print (\"List is not ascending\")\n",
        "        break"
      ]
    },
    {
      "cell_type": "code",
      "execution_count": null,
      "id": "bbeada5f",
      "metadata": {
        "id": "bbeada5f",
        "outputId": "fbf08d37-b773-4c23-8de2-aa0c340acc09"
      },
      "outputs": [
        {
          "name": "stdout",
          "output_type": "stream",
          "text": [
            "Odd list : [5, 7, 1, 9] and Even List : [2, 0, 8, 2]\n"
          ]
        }
      ],
      "source": [
        "## 64- Create 2 lists from a given list where 1st list will contain all the odd numbers from the original list\n",
        "### and the 2nd one will contain all the even numbers\n",
        "\n",
        "lst = [2,0,8,5,7,2,1,9]\n",
        "asc = 0\n",
        "odd=[]\n",
        "even=[]\n",
        "\n",
        "for item in lst :\n",
        "    if item%2==0:\n",
        "        even.append(item)\n",
        "\n",
        "    else :\n",
        "        odd.append(item)\n",
        "\n",
        "print('Odd list :', odd, 'and Even List :', even)"
      ]
    },
    {
      "cell_type": "code",
      "execution_count": null,
      "id": "afbe5287",
      "metadata": {
        "id": "afbe5287",
        "outputId": "7ffb2be3-65e9-432f-d6a1-c0b41a49b3f6"
      },
      "outputs": [
        {
          "name": "stdout",
          "output_type": "stream",
          "text": [
            "Merged list is : [2, 0, 8, 9, 1, 7, 6, 3]\n"
          ]
        }
      ],
      "source": [
        "## 65- Write a program to merge 2 list without using the + operator\n",
        "\n",
        "l1 = [2,0,8,9]\n",
        "l2 = [1,7,6,3]\n",
        "\n",
        "merged = []\n",
        "\n",
        "for item in l1 :\n",
        "    merged.append(item)\n",
        "for item in l2 :\n",
        "    merged.append(item)\n",
        "\n",
        "print('Merged list is :' , merged)"
      ]
    },
    {
      "cell_type": "code",
      "execution_count": 5,
      "id": "008dd272",
      "metadata": {
        "id": "008dd272"
      },
      "outputs": [],
      "source": [
        "## 66-Write a program to replace an item with a different item if found in the list"
      ]
    },
    {
      "cell_type": "code",
      "execution_count": 6,
      "id": "9a3c2909",
      "metadata": {
        "id": "9a3c2909"
      },
      "outputs": [],
      "source": [
        "# 67- Write a program that can convert a 2D list to 1D list"
      ]
    },
    {
      "cell_type": "code",
      "execution_count": 7,
      "id": "af4d3235",
      "metadata": {
        "id": "af4d3235",
        "outputId": "a74c0e1a-16f1-42b7-f6a3-7547a8430655",
        "colab": {
          "base_uri": "https://localhost:8080/"
        }
      },
      "outputs": [
        {
          "output_type": "stream",
          "name": "stdout",
          "text": [
            "Union is : [2, 0, 8, 9, 1, 7, 0, 6, 3] and Intersection is : [1, 7]\n"
          ]
        }
      ],
      "source": [
        "# Write a program that can perform union and intersection on 2 given list.\n",
        "68\n",
        "\n",
        "l1 = [2,0,8,9,1,7,0]\n",
        "l2 = [1,7,6,3]\n",
        "\n",
        "union = []\n",
        "\n",
        "inter = []\n",
        "for item in l1 :\n",
        "    if item in l2 :\n",
        "        inter.append(item)\n",
        "\n",
        "for p in l1:\n",
        "    union.append(p)\n",
        "for q in l2:\n",
        "    if q not in union:\n",
        "        union.append(q)\n",
        "\n",
        "print('Union is :', union, 'and Intersection is :', inter)"
      ]
    },
    {
      "cell_type": "code",
      "execution_count": null,
      "id": "a85ae55b",
      "metadata": {
        "id": "a85ae55b",
        "outputId": "b5cc53b7-d69d-4995-a56a-70606882cd97"
      },
      "outputs": [
        {
          "name": "stdout",
          "output_type": "stream",
          "text": [
            "max : 3\n",
            "max : 7\n",
            "max : 7\n"
          ]
        }
      ],
      "source": [
        "# 69- Write a program that can print the max item of each row of a matrix\n",
        "\n",
        "l1 = [[1, 2, 3],[3, 6, 7], [7 ,5, 4]]\n",
        "\n",
        "for item in l1:\n",
        "    max = 0\n",
        "    for i in item :\n",
        "        if i>max:\n",
        "            max = i\n",
        "    print('max :', max)"
      ]
    },
    {
      "cell_type": "code",
      "execution_count": 9,
      "id": "20e9f4f0",
      "metadata": {
        "id": "20e9f4f0",
        "outputId": "9c201d7e-4d4a-4040-83fe-4f2e48ad62f7",
        "colab": {
          "base_uri": "https://localhost:8080/"
        }
      },
      "outputs": [
        {
          "output_type": "stream",
          "name": "stdout",
          "text": [
            "127\n",
            "<class 'str'>\n"
          ]
        }
      ],
      "source": [
        "## 70- Write a program that can convert an integer to string.\n",
        "\n",
        "n = int(127)\n",
        "n = str(n)\n",
        "print(n)\n",
        "print(type(n))"
      ]
    },
    {
      "cell_type": "code",
      "execution_count": 10,
      "id": "8f33d2cb",
      "metadata": {
        "id": "8f33d2cb",
        "outputId": "c0be9b3d-1e32-4049-a1df-fd8d1553df7f",
        "colab": {
          "base_uri": "https://localhost:8080/"
        }
      },
      "outputs": [
        {
          "output_type": "stream",
          "name": "stdout",
          "text": [
            "Dimension of matrix is : [ 3 , 2 ]\n"
          ]
        }
      ],
      "source": [
        "## 71- Write a program to print the shape of a matrix\n",
        "\n",
        "l1 = [[1, 8],[6, 9], [7, 4]]\n",
        "\n",
        "row = 0\n",
        "col = 0\n",
        "\n",
        "for item in l1 :\n",
        "    if type(item)==list:\n",
        "        row = row+1\n",
        "for item in l1 :\n",
        "    for i in item :\n",
        "        col = col+1\n",
        "    break\n",
        "\n",
        "\n",
        "print('Dimension of matrix is : [', row,',',col, ']')"
      ]
    },
    {
      "cell_type": "code",
      "execution_count": 12,
      "id": "10eeafcb",
      "metadata": {
        "id": "10eeafcb"
      },
      "outputs": [],
      "source": [
        "## 72-Write a program that can check if you can perform matrix multiplication on 2 matrices"
      ]
    },
    {
      "cell_type": "code",
      "execution_count": 13,
      "id": "3916e8ab",
      "metadata": {
        "id": "3916e8ab"
      },
      "outputs": [],
      "source": [
        "## 73- Write a program to perform matrix multiplication on 2 matrices"
      ]
    },
    {
      "cell_type": "code",
      "execution_count": 14,
      "id": "a5e8c6c4",
      "metadata": {
        "id": "a5e8c6c4",
        "outputId": "8f604f79-3835-4907-b2fd-45c37ccc1cc1",
        "colab": {
          "base_uri": "https://localhost:8080/"
        }
      },
      "outputs": [
        {
          "output_type": "stream",
          "name": "stdout",
          "text": [
            "[0, 0, 1, 2, 7, 8, 9]\n"
          ]
        }
      ],
      "source": [
        "#74- Write a program that can sort a given unsorted list. Dont use any built in function for sorting.\n",
        "\n",
        "\n",
        "l1 = [2,0,8,9,1,7,0]\n",
        "for item in range(len(l1)) :\n",
        "    for k in range(0, len(l1)-1):\n",
        "        if l1[k]>l1[k+1]:\n",
        "            temp = l1[k]\n",
        "            l1[k] = l1[k+1]\n",
        "            l1[k+1] = temp\n",
        "\n",
        "\n",
        "print(l1)"
      ]
    },
    {
      "cell_type": "code",
      "execution_count": 15,
      "id": "d8dc314c",
      "metadata": {
        "id": "d8dc314c",
        "outputId": "180ca5c9-805a-4e01-94d0-ae5d6e0da810",
        "colab": {
          "base_uri": "https://localhost:8080/"
        }
      },
      "outputs": [
        {
          "output_type": "stream",
          "name": "stdout",
          "text": [
            "Hain 13\n"
          ]
        }
      ],
      "source": [
        "# 75-Write a program that can find the most used word in a bollywood song\n",
        "\n",
        "song = '''Kyun Aajkal Neend Kam Khwaab Jyada Hai\n",
        "Lagta Khuda Ka Koi Nek Iraada Hain\n",
        "Kal Ka Fakir Dil Aaj Shehzada Hain\n",
        "Lagta Khuda Ka Koi Nek Iraada Hain\n",
        "( Kya Mujhe Pyar Hain Aah\n",
        "Kaisa Khumaar Hain Aah )... (x2)\n",
        "\n",
        "\n",
        "Pathhar Ke Inn Raston Pe\n",
        "Phoolon Ki Ek Chadar Hain\n",
        "Jabse Milen Ho Hamko\n",
        "Badla Har Ek Manzar Hain\n",
        "Dekho Jahaan Mein Neele Neele Aasmaan Tale\n",
        "Rang Naye Naye Hain Jaise Ghulte Hue\n",
        "Soye The Khwaab Mere Jaage Tere Waaste\n",
        "Tere Khayaalon Me Hai Bheege Mere Raaste\n",
        "( Kya Mujhe Pyar Hain Aah\n",
        "Kaisa Khumaar Hain Aah )... (x2)\n",
        "\n",
        "\n",
        "Tum Kyon Chale Aate Ho\n",
        "Har Roj In Khwaabon Mein\n",
        "Chupke Se Aa Bhi Jaaon\n",
        "Ek Din Meri Baahon Mein\n",
        "Tere Hi Sapanen Andheron Mein Ujaalon Mein\n",
        "Koi Nasha Hain Teri Aankhon Ke Pyaalon Mein\n",
        "Tu Mere Khwaabon Mein Jawaabon Mein Sawaalon Mein\n",
        "Har Din Chura Tumehn Main Laata Hoon Khayalon Mein\n",
        "( Kya Mujhe Pyar Hain Aah\n",
        "Kaisa Khumaar Hain Aah )'''\n",
        "\n",
        "most_used = {}\n",
        "counter = 0\n",
        "for word in song.split():\n",
        "    if word in most_used:\n",
        "        most_used[word]= most_used[word]+1\n",
        "    else :\n",
        "        most_used[word]=1\n",
        "\n",
        "max_word = max(most_used.values())\n",
        "\n",
        "for i in most_used:\n",
        "    if most_used[i] == max_word:\n",
        "        print(i, max_word)\n",
        "        break"
      ]
    },
    {
      "cell_type": "code",
      "execution_count": 16,
      "id": "c832a48a",
      "metadata": {
        "id": "c832a48a",
        "outputId": "5f40d3d5-4769-4ee5-fe73-422d6d321eab",
        "colab": {
          "base_uri": "https://localhost:8080/"
        }
      },
      "outputs": [
        {
          "output_type": "stream",
          "name": "stdout",
          "text": [
            "{1: 1, 2: 4, 3: 9, 4: 16, 5: 25, 6: 36, 7: 49, 8: 64, 9: 81}\n"
          ]
        }
      ],
      "source": [
        "# 76- Assume a list with numbers from 1 to 10 and then convert it into a dictionary where the key would be the numbers\n",
        "## of the list and the values would be the square of those numbers.\n",
        "\n",
        "l1 = [1,2,3,4,5,6,7,8,9]\n",
        "dic = {}\n",
        "\n",
        "for i in l1:\n",
        "    dic[i] = i**2\n",
        "print(dic)"
      ]
    },
    {
      "cell_type": "code",
      "execution_count": 19,
      "id": "7d988f71",
      "metadata": {
        "id": "7d988f71",
        "outputId": "10f4d9a7-1f79-4872-eab9-46dcda506554",
        "colab": {
          "base_uri": "https://localhost:8080/"
        }
      },
      "outputs": [
        {
          "output_type": "execute_result",
          "data": {
            "text/plain": [
              "{1: 1, 2: 4, 3: 9, 4: 16, 5: 25, 6: 36, 7: 49, 8: 64, 9: 81}"
            ]
          },
          "metadata": {},
          "execution_count": 19
        }
      ],
      "source": [
        "## 77- Write a program to merge two given dictionary\n",
        "\n",
        "d1 = {1: 1, 2: 4, 3: 9, 4: 16}\n",
        "d2 = {5: 25, 6: 36, 7: 49, 8: 64, 9: 81}\n",
        "\n",
        "d3 = {}\n",
        "\n",
        "for i in d1:\n",
        "    d3[i] = d1[i]\n",
        "\n",
        "for j in d2 :\n",
        "    d3[j] = d2[j]\n",
        "d3"
      ]
    },
    {
      "cell_type": "code",
      "execution_count": 20,
      "id": "710f4efc",
      "metadata": {
        "id": "710f4efc",
        "outputId": "50945112-9a88-435f-f7ba-50b9d70514fb",
        "colab": {
          "base_uri": "https://localhost:8080/"
        }
      },
      "outputs": [
        {
          "output_type": "stream",
          "name": "stdout",
          "text": [
            "max item from dict : 500\n",
            "min item from dict : 100\n",
            "{'a': 500, 'b': 200, 'c': 100}\n"
          ]
        }
      ],
      "source": [
        "# 78-Write a program to swap the key value pair for max and min values\n",
        "## Eg if the dict is like this {‘a’:1,’b’:2,’c’:3}\n",
        "### Output should be {a:3,b:2,c:1}\n",
        "\n",
        "d = {'a':100, 'b':200, 'c':500 }\n",
        "\n",
        "maxi = max(d.values())\n",
        "mini = min(d.values())\n",
        "\n",
        "for item in d :\n",
        "    if d[item] == maxi:\n",
        "        print('max item from dict :' , d[item])\n",
        "        break\n",
        "\n",
        "for j in d :\n",
        "    if d[j]==mini:\n",
        "        print('min item from dict :' , d[j])\n",
        "        break\n",
        "\n",
        "d[item] = mini\n",
        "d[j] = maxi\n",
        "\n",
        "print(d)"
      ]
    },
    {
      "cell_type": "code",
      "execution_count": 29,
      "id": "3652e595",
      "metadata": {
        "id": "3652e595",
        "outputId": "cbf992a2-057f-4508-e201-7037fe0b8c93",
        "colab": {
          "base_uri": "https://localhost:8080/",
          "height": 209
        }
      },
      "outputs": [
        {
          "output_type": "display_data",
          "data": {
            "text/plain": [
              "<Figure size 1000x700 with 1 Axes>"
            ],
            "image/png": "[encoded data removed]"
          },
          "metadata": {}
        }
      ],
      "source": [
        "#79- Write a program to find histogram of a given set of numbers. Take bin size from user.\n",
        "## Print the result in the form of a dictionary\n",
        "\n",
        "\n",
        "from matplotlib import pyplot as plt\n",
        "import numpy as np\n",
        "\n",
        "\n",
        " # Creating dataset\n",
        "a = np.array([62, 97, 15, 43, 56,\n",
        "              73, 51, 54, 11,\n",
        "              20, 51, 5, 79, 31,\n",
        "              27, 10])\n",
        "\n",
        "# Creating histogram, taking bin size from user\n",
        "l = int(10)\n",
        "bins = [item for item in range(0,100,l)]\n",
        "fig, ax = plt.subplots(figsize =(10, 7))\n",
        "plt.xticks(bins, rotation ='vertical')\n",
        "ax.hist(a, bins = bins, color = 'coral')\n",
        "\n",
        "# Show plot\n",
        "plt.xticks(visible = True)\n",
        "plt.show()"
      ]
    },
    {
      "cell_type": "code",
      "execution_count": null,
      "id": "9df9611e",
      "metadata": {
        "id": "9df9611e",
        "outputId": "cc5e8389-0e65-4e0f-de8f-2bc5f6cfab77"
      },
      "outputs": [
        {
          "name": "stdout",
          "output_type": "stream",
          "text": [
            "Enter a string :Harry Potter fears none\n",
            "{'Upper': 2, 'Lower': 18}\n"
          ]
        }
      ],
      "source": [
        "# 80- Write a function that accepts a string and returns the number of upper case chars and lower case chars as a dictionary\n",
        "\n",
        "string = input('Enter a string :')\n",
        "d = {}\n",
        "upper =0\n",
        "lower =0\n",
        "\n",
        "for item in string :\n",
        "    if (item.isupper()) :\n",
        "        upper = upper+1\n",
        "    elif (item.islower()):\n",
        "        lower = lower+1\n",
        "\n",
        "\n",
        "d = {'Upper' : upper, 'Lower' : lower}\n",
        "print(d)"
      ]
    },
    {
      "cell_type": "code",
      "execution_count": 30,
      "id": "7c932bff",
      "metadata": {
        "id": "7c932bff"
      },
      "outputs": [],
      "source": [
        "#81- Write a function that accepts a list of strings and performs Bag of words and convert it to numerical vectors."
      ]
    },
    {
      "cell_type": "code",
      "execution_count": null,
      "id": "67142e36",
      "metadata": {
        "id": "67142e36",
        "outputId": "59ea4b50-d828-4911-831a-fc894d51bb30"
      },
      "outputs": [
        {
          "name": "stdout",
          "output_type": "stream",
          "text": [
            "\n",
            "    1. Enter 1 to register\n",
            "    2. Enter 2 for Login\n",
            "    3. Enter 3 to exit\n",
            "    1\n",
            "Enter your name :Anushka\n",
            "Enter your email :a@gmail.com\n",
            "Enter your password :expert\n",
            "Registration Successful\n",
            "\n",
            "\n",
            "    1. Enter 1 to register\n",
            "    2. Enter 2 for Login\n",
            "    3. Enter 3 to exit\n",
            "    2\n",
            "Enter your email :a@gmail.com\n",
            "Enter your password :exp\n",
            "Incorrect Password\n"
          ]
        }
      ],
      "source": [
        "# 82-Write a dummy program that can perform login and registration using a menu driven program\n",
        "\n",
        "db = {}\n",
        "\n",
        "def user_menu() :\n",
        "\n",
        "    user_input = input('''\n",
        "    1. Enter 1 to register\n",
        "    2. Enter 2 for Login\n",
        "    3. Enter 3 to exit\n",
        "    ''')\n",
        "\n",
        "    if user_input == '1' :\n",
        "        register()\n",
        "    elif user_input == '2' :\n",
        "        login()\n",
        "    elif user_input == '3' :\n",
        "        print('Bye')\n",
        "    else :\n",
        "        print('Invalid Input. Please try again!')\n",
        "\n",
        "def register() :\n",
        "    name = input('Enter your name :')\n",
        "    email = input('Enter your email :')\n",
        "    password = input('Enter your password :')\n",
        "\n",
        "    db[email] = [name, password]\n",
        "    print('Registration Successful')\n",
        "    print()\n",
        "    user_menu()\n",
        "\n",
        "def login() :\n",
        "    email = input('Enter your email :')\n",
        "    password = input('Enter your password :')\n",
        "    flag = 0\n",
        "\n",
        "    for d in db :\n",
        "        if email ==d :\n",
        "            flag = 1\n",
        "            if password == db[d][1] :\n",
        "                print('Welcome')\n",
        "            else :\n",
        "                print('Incorrect Password')\n",
        "    if flag ==0 :\n",
        "        print('Email not found')\n",
        "\n",
        "user_menu()"
      ]
    },
    {
      "cell_type": "code",
      "execution_count": 31,
      "id": "f0acf750",
      "metadata": {
        "id": "f0acf750"
      },
      "outputs": [],
      "source": [
        "### 83- Write a program that accepts neighbors(set of 2D co-ordinates) and a point(single 2D co-ordinate) and\n",
        "## tells nearest neighbor(in terms of euclidean distance)"
      ]
    },
    {
      "cell_type": "code",
      "execution_count": 35,
      "id": "4e956133",
      "metadata": {
        "id": "4e956133",
        "colab": {
          "base_uri": "https://localhost:8080/"
        },
        "outputId": "9131f44b-1b26-4e0f-a1c8-9d554161bdbf"
      },
      "outputs": [
        {
          "output_type": "execute_result",
          "data": {
            "text/plain": [
              "120"
            ]
          },
          "metadata": {},
          "execution_count": 35
        }
      ],
      "source": [
        "#84-  Write a function that accepts a number and returns it’s factorial. You can not use any loop\n",
        "\n",
        "#we will make use of recurssion here\n",
        "\n",
        "def fact(num) :\n",
        "    if num ==1:\n",
        "        return 1\n",
        "    else:\n",
        "        return num*fact(num-1)\n",
        "fact(5)"
      ]
    }
  ],
  "metadata": {
    "kernelspec": {
      "display_name": "Python 3 (ipykernel)",
      "language": "python",
      "name": "python3"
    },
    "language_info": {
      "codemirror_mode": {
        "name": "ipython",
        "version": 3
      },
      "file_extension": ".py",
      "mimetype": "text/x-python",
      "name": "python",
      "nbconvert_exporter": "python",
      "pygments_lexer": "ipython3",
      "version": "3.8.12"
    },
    "colab": {
      "provenance": [],
      "include_colab_link": true
    }
  },
  "nbformat": 4,
  "nbformat_minor": 5
}