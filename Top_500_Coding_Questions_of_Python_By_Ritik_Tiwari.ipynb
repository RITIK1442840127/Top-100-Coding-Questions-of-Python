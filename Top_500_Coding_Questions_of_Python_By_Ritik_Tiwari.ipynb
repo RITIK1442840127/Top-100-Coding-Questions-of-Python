{
  "cells": [
    {
      "cell_type": "markdown",
      "metadata": {
        "id": "view-in-github",
        "colab_type": "text"
      },
      "source": [
        "<a href=\"https://colab.research.google.com/github/RITIK1442840127/Top-100-Coding-Questions-of-Python/blob/main/Top_500_Coding_Questions_of_Python_By_Ritik_Tiwari.ipynb\" target=\"_parent\"><img src=\"https://colab.research.google.com/assets/colab-badge.svg\" alt=\"Open In Colab\"/></a>"
      ]
    },
    {
      "cell_type": "markdown",
      "metadata": {
        "id": "09wvG2BPCpVY"
      },
      "source": [
        "#Basic"
      ]
    },
    {
      "cell_type": "code",
      "execution_count": null,
      "metadata": {
        "colab": {
          "base_uri": "https://localhost:8080/"
        },
        "id": "y4UHuEqnx7Ve",
        "outputId": "76d0aaec-40c7-4c0f-d815-1e114ac38949"
      },
      "outputs": [
        {
          "name": "stdout",
          "output_type": "stream",
          "text": [
            "Hellow Ritik\n"
          ]
        }
      ],
      "source": [
        "#Start\n",
        "print (\"Hellow Ritik\")"
      ]
    },
    {
      "cell_type": "code",
      "execution_count": null,
      "metadata": {
        "colab": {
          "base_uri": "https://localhost:8080/"
        },
        "id": "FCpHVgWNyJRh",
        "outputId": "40721d36-161d-4be3-b553-1bc62a0180b2"
      },
      "outputs": [
        {
          "name": "stdout",
          "output_type": "stream",
          "text": [
            "Ritik\n",
            "27\n"
          ]
        }
      ],
      "source": [
        "#Variable\n",
        "name = \"Ritik\"\n",
        "age = 27\n",
        "print (name); print (age)"
      ]
    },
    {
      "cell_type": "code",
      "execution_count": null,
      "metadata": {
        "colab": {
          "base_uri": "https://localhost:8080/"
        },
        "id": "dV2OQOFrCDuZ",
        "outputId": "b4eaa5eb-111a-4f95-b018-d0b0e4a696f4"
      },
      "outputs": [
        {
          "name": "stdout",
          "output_type": "stream",
          "text": [
            "Rishu\n",
            "27.7\n"
          ]
        }
      ],
      "source": [
        "#Variable value can be change\n",
        "name= \"Rishu\"\n",
        "age= 27.7\n",
        "print(name); print (age)"
      ]
    },
    {
      "cell_type": "code",
      "execution_count": null,
      "metadata": {
        "colab": {
          "base_uri": "https://localhost:8080/"
        },
        "id": "wC7vt5X9NW4l",
        "outputId": "b9a9b3ee-7605-4219-973a-6c917ab8dcbc"
      },
      "outputs": [
        {
          "name": "stdout",
          "output_type": "stream",
          "text": [
            "what is your name:  Ritik\n"
          ]
        }
      ],
      "source": [
        "#taking user input\n",
        "name= input (\"what is your name:  \")"
      ]
    },
    {
      "cell_type": "code",
      "execution_count": null,
      "metadata": {
        "colab": {
          "base_uri": "https://localhost:8080/"
        },
        "id": "5YSU7-BlUF12",
        "outputId": "6cedb214-5d0f-4c9a-a476-3836bb384aeb"
      },
      "outputs": [
        {
          "name": "stdout",
          "output_type": "stream",
          "text": [
            "Enter your age : 25\n",
            "27\n"
          ]
        }
      ],
      "source": [
        "#Type conversion\n",
        "age= input(\"Enter your age : \")\n",
        "new_age = int (age)+2\n",
        "print (new_age)"
      ]
    },
    {
      "cell_type": "code",
      "execution_count": null,
      "metadata": {
        "colab": {
          "base_uri": "https://localhost:8080/"
        },
        "id": "-0u7sioHUup5",
        "outputId": "4f66584e-7dc4-4de7-8c9f-f6dfc264a13a"
      },
      "outputs": [
        {
          "name": "stdout",
          "output_type": "stream",
          "text": [
            "12.0\n"
          ]
        }
      ],
      "source": [
        "num= 12\n",
        "print(float(num))"
      ]
    },
    {
      "cell_type": "code",
      "execution_count": null,
      "metadata": {
        "colab": {
          "base_uri": "https://localhost:8080/"
        },
        "id": "Rwf9Q66lMk5a",
        "outputId": "30de6682-f533-497d-d2fe-833e2d2d1cbd"
      },
      "outputs": [
        {
          "name": "stdout",
          "output_type": "stream",
          "text": [
            "Enter the 1st num : 23\n",
            "Enter the 2nd num : 34\n",
            "Enter the 3rd num: 23\n",
            "233423\n",
            "80\n"
          ]
        }
      ],
      "source": [
        "first= input (\"Enter the 1st num : \")\n",
        "second = input (\"Enter the 2nd num : \")\n",
        "third = input (\"Enter the 3rd num: \")\n",
        "sum = (first+second+third)\n",
        "sum1= (int(first)+ int(second)+ int(third))\n",
        "print(sum)\n",
        "print (sum1)"
      ]
    },
    {
      "cell_type": "code",
      "execution_count": null,
      "metadata": {
        "colab": {
          "base_uri": "https://localhost:8080/"
        },
        "id": "gQeL5rMNYz-X",
        "outputId": "ba9da0c3-3b26-4d01-e971-d6c5a345d332"
      },
      "outputs": [
        {
          "name": "stdout",
          "output_type": "stream",
          "text": [
            "RITIK TIWARI\n",
            "ritik tiwari\n",
            "Ritik Tiwari\n"
          ]
        }
      ],
      "source": [
        "#Change into Uppercase / lowercase letter\n",
        "name= \"Ritik Tiwari\"\n",
        "print (name.upper())\n",
        "print (name.lower())\n",
        "print(name)"
      ]
    },
    {
      "cell_type": "code",
      "execution_count": null,
      "metadata": {
        "colab": {
          "base_uri": "https://localhost:8080/"
        },
        "id": "6w4X16aRoXKZ",
        "outputId": "dd817faf-e5db-4945-80be-41eab01853a3"
      },
      "outputs": [
        {
          "name": "stdout",
          "output_type": "stream",
          "text": [
            "0\n",
            "6\n",
            "8\n",
            "-1\n"
          ]
        }
      ],
      "source": [
        "print (name.find(\"R\"))\n",
        "print(name.find(\"Tiwari\"))\n",
        "print (name.find(\"wari\"))\n",
        "print (name.find(\"z\"))"
      ]
    },
    {
      "cell_type": "code",
      "execution_count": null,
      "metadata": {
        "colab": {
          "base_uri": "https://localhost:8080/"
        },
        "id": "9GTZVmcnr9Z3",
        "outputId": "23859283-9fa2-4234-d394-6f3d009c9e58"
      },
      "outputs": [
        {
          "name": "stdout",
          "output_type": "stream",
          "text": [
            "Tiwari Tiwari\n",
            "Titik Tiwari\n",
            "Ritik Tiwari\n"
          ]
        }
      ],
      "source": [
        "print(name.replace (\"Ritik\",\"Tiwari\"))\n",
        "print (name.replace(\"R\",\"T\"))\n",
        "print (name)"
      ]
    },
    {
      "cell_type": "code",
      "execution_count": null,
      "metadata": {
        "colab": {
          "base_uri": "https://localhost:8080/"
        },
        "id": "G9C0mo8Mtnqj",
        "outputId": "92eec36e-b417-42c6-915a-6f7a1bd86209"
      },
      "outputs": [
        {
          "name": "stdout",
          "output_type": "stream",
          "text": [
            "True\n",
            "True\n",
            "False\n"
          ]
        }
      ],
      "source": [
        "print(\"T\" in name)\n",
        "print (\"R\" in name)\n",
        "print (\"Z\" in name)"
      ]
    },
    {
      "cell_type": "code",
      "execution_count": null,
      "metadata": {
        "colab": {
          "base_uri": "https://localhost:8080/"
        },
        "id": "FRQdWs1k9HGZ",
        "outputId": "805a286b-6c64-40a7-f84c-726aa7a15745"
      },
      "outputs": [
        {
          "name": "stdout",
          "output_type": "stream",
          "text": [
            "15\n",
            "5\n",
            "50\n",
            "50.5\n",
            "50\n",
            "1\n",
            "100\n",
            "1000\n"
          ]
        }
      ],
      "source": [
        "#Mathmatics\n",
        "print (5+10)\n",
        "print(10-5)\n",
        "print (10*5)\n",
        "print (101/2)\n",
        "print (101//2)\n",
        "print (101%2)\n",
        "print (10**2)\n",
        "print(10**3)"
      ]
    },
    {
      "cell_type": "code",
      "execution_count": null,
      "metadata": {
        "colab": {
          "base_uri": "https://localhost:8080/"
        },
        "id": "NnySlQleFhcg",
        "outputId": "b7bce7ba-ac1c-436f-fa2a-6ca5aa27417d"
      },
      "outputs": [
        {
          "name": "stdout",
          "output_type": "stream",
          "text": [
            "5.0\n"
          ]
        }
      ],
      "source": [
        "#Shortcut\n",
        "i=5\n",
        "i+=2\n",
        "i-=2\n",
        "i*=5\n",
        "i/=5\n",
        "print(i)\n"
      ]
    },
    {
      "cell_type": "code",
      "execution_count": null,
      "metadata": {
        "colab": {
          "base_uri": "https://localhost:8080/"
        },
        "id": "lN2YKcliQzaw",
        "outputId": "c2c6d76b-ba9f-4bea-e593-f1a5ae19824b"
      },
      "outputs": [
        {
          "name": "stdout",
          "output_type": "stream",
          "text": [
            "52\n",
            "70\n"
          ]
        }
      ],
      "source": [
        "#Operator precedence\n",
        "result = 2+5*10\n",
        "result1 = (2+5)*10\n",
        "print (result)\n",
        "print(result1)"
      ]
    },
    {
      "cell_type": "code",
      "execution_count": null,
      "metadata": {
        "colab": {
          "base_uri": "https://localhost:8080/"
        },
        "id": "Xyd8gnG-k0On",
        "outputId": "31c39e02-e6f4-4f33-82f4-2117c45b992d"
      },
      "outputs": [
        {
          "name": "stdout",
          "output_type": "stream",
          "text": [
            "False\n",
            "True\n",
            "True\n",
            "False\n",
            "False\n",
            "True\n"
          ]
        }
      ],
      "source": [
        "#Comparision operator\n",
        "print (2>3)\n",
        "print (3>2)\n",
        "print (2<3)\n",
        "print (2>=3)\n",
        "print (2==3)\n",
        "print(2!=3)"
      ]
    },
    {
      "cell_type": "code",
      "execution_count": null,
      "metadata": {
        "colab": {
          "base_uri": "https://localhost:8080/"
        },
        "id": "o41pyIhQmckd",
        "outputId": "39e9927a-cadf-4863-e170-6d7102b8dce3"
      },
      "outputs": [
        {
          "name": "stdout",
          "output_type": "stream",
          "text": [
            "True\n",
            "False\n",
            "False\n"
          ]
        }
      ],
      "source": [
        "#Logical operator\n",
        "print (2>5 or 2<5)\n",
        "print (2>5 and 2<5)\n",
        "print (not 2<5)\n"
      ]
    },
    {
      "cell_type": "code",
      "execution_count": null,
      "metadata": {
        "colab": {
          "base_uri": "https://localhost:8080/"
        },
        "id": "0ymgYFgdhhPq",
        "outputId": "f5d2ac8c-a909-4e5a-ade8-10b7edb55f11"
      },
      "outputs": [
        {
          "name": "stdout",
          "output_type": "stream",
          "text": [
            "You are alive\n",
            "You are in heaven\n"
          ]
        }
      ],
      "source": [
        "#If-else\n",
        "num=100\n",
        "if num>=90:\n",
        "   print (\"You are alive\")\n",
        "print (\"You are in heaven\")"
      ]
    },
    {
      "cell_type": "code",
      "execution_count": null,
      "metadata": {
        "colab": {
          "base_uri": "https://localhost:8080/"
        },
        "id": "mDc_PXulfAKO",
        "outputId": "9c6e4e0f-d87f-4c47-a827-8230f7c0d98b"
      },
      "outputs": [
        {
          "name": "stdout",
          "output_type": "stream",
          "text": [
            "You are in heaven\n"
          ]
        }
      ],
      "source": [
        "num =100\n",
        "if num<=90:\n",
        "  print (\"You are alive\")\n",
        "print (\"You are in heaven\")"
      ]
    },
    {
      "cell_type": "code",
      "execution_count": null,
      "metadata": {
        "colab": {
          "base_uri": "https://localhost:8080/"
        },
        "id": "21H_5xnQynUR",
        "outputId": "82a1c2b2-37e7-43dc-f53a-948e582d9f63"
      },
      "outputs": [
        {
          "name": "stdout",
          "output_type": "stream",
          "text": [
            "You are young\n"
          ]
        }
      ],
      "source": [
        "#If,elif,else\n",
        "num = 60\n",
        "if num > 70:\n",
        "  print (\"You are old\")\n",
        "elif num > 30 and num < 65:\n",
        "     print ('You are young')\n",
        "else:\n",
        "     print (\"You are child\")\n"
      ]
    },
    {
      "cell_type": "code",
      "execution_count": null,
      "metadata": {
        "colab": {
          "base_uri": "https://localhost:8080/"
        },
        "id": "vRwdnToo1AO8",
        "outputId": "3b5343ee-7c98-4dd0-f61c-720c886dee70"
      },
      "outputs": [
        {
          "name": "stdout",
          "output_type": "stream",
          "text": [
            " You are in school or collage\n"
          ]
        }
      ],
      "source": [
        "age=17\n",
        "if age>18:\n",
        "  print(\"You are adult, You can vote\")\n",
        "elif age > 14 and age<18:\n",
        "  print (\" You are in school or collage\")\n",
        "else:\n",
        "  print (\"You are a child\")"
      ]
    },
    {
      "cell_type": "code",
      "execution_count": null,
      "metadata": {
        "colab": {
          "base_uri": "https://localhost:8080/"
        },
        "id": "PAI1-2K2_V38",
        "outputId": "09d84bf6-b7c0-4150-c4e9-699866c54b9d"
      },
      "outputs": [
        {
          "name": "stdout",
          "output_type": "stream",
          "text": [
            "range(0, 5)\n"
          ]
        }
      ],
      "source": [
        "number = range (5)\n",
        "print (number)"
      ]
    },
    {
      "cell_type": "code",
      "execution_count": null,
      "metadata": {
        "colab": {
          "base_uri": "https://localhost:8080/"
        },
        "id": "U8XPY7sZHQvt",
        "outputId": "ab6d36f8-f67c-488a-efbe-4c7fe9aed655"
      },
      "outputs": [
        {
          "name": "stdout",
          "output_type": "stream",
          "text": [
            "Enter your first num : 75\n",
            "Enter the operator (+,_,*,/,%)+\n",
            "Enter your second num : 33\n",
            "108\n"
          ]
        }
      ],
      "source": [
        "#Calculator\n",
        "first = input (\"Enter your first num : \")\n",
        "operator = input (\"Enter the operator (+,_,*,/,%)\")\n",
        "second = input (\"Enter your second num : \")\n",
        "first = int(first)\n",
        "second = int (second)\n",
        "if operator == (\"+\"):\n",
        "  print (first+second)\n",
        "elif operator == (\"-\"):\n",
        "  print (first-second)\n",
        "elif operator == (\"*\"):\n",
        "  print (first*second)\n",
        "elif operator == (\"/\"):\n",
        "  print (first/second)\n",
        "elif operator == (\"%\"):\n",
        "  print (first%second)\n",
        "else :\n",
        "  print (\"your operation is wrong\")"
      ]
    },
    {
      "cell_type": "code",
      "execution_count": null,
      "metadata": {
        "colab": {
          "base_uri": "https://localhost:8080/"
        },
        "id": "HRXkHSVyJbOI",
        "outputId": "0cfa1969-83f1-4f88-855d-d95f89b0c689"
      },
      "outputs": [
        {
          "name": "stdout",
          "output_type": "stream",
          "text": [
            "1\n",
            "2\n",
            "3\n",
            "4\n",
            "5\n",
            "6\n",
            "7\n",
            "8\n",
            "9\n",
            "10\n"
          ]
        }
      ],
      "source": [
        "#While loop\n",
        "i=1\n",
        "while i<=10:\n",
        "  print(i)\n",
        "  i=i+1"
      ]
    },
    {
      "cell_type": "code",
      "execution_count": null,
      "metadata": {
        "colab": {
          "base_uri": "https://localhost:8080/"
        },
        "id": "pssqP2jNM96t",
        "outputId": "76282054-df40-4def-8708-a7567acdd69a"
      },
      "outputs": [
        {
          "name": "stdout",
          "output_type": "stream",
          "text": [
            "1\n",
            "2\n",
            "3\n",
            "4\n",
            "5\n"
          ]
        }
      ],
      "source": [
        "i=1\n",
        "while i<=5:\n",
        "  print (i)\n",
        "  i=i+1"
      ]
    },
    {
      "cell_type": "code",
      "execution_count": null,
      "metadata": {
        "colab": {
          "base_uri": "https://localhost:8080/"
        },
        "id": "RaXzxW-ifbTe",
        "outputId": "bc73f766-d1b0-4ef3-cf4d-33be8379eec6"
      },
      "outputs": [
        {
          "name": "stdout",
          "output_type": "stream",
          "text": [
            "मांमांमांमांमांमांमांमांमांमां\n",
            "मांमांमांमांमांमांमांमांमां\n",
            "मांमांमांमांमांमांमांमां\n",
            "मांमांमांमांमांमांमां\n",
            "मांमांमांमांमांमां\n",
            "मांमांमांमांमां\n",
            "मांमांमांमां\n",
            "मांमांमां\n",
            "मांमां\n",
            "मां\n"
          ]
        }
      ],
      "source": [
        "i=10\n",
        "while i>=1:\n",
        "  print (i*(\"मां \"))\n",
        "  i=i-1"
      ]
    },
    {
      "cell_type": "code",
      "execution_count": null,
      "metadata": {
        "colab": {
          "base_uri": "https://localhost:8080/"
        },
        "id": "-GlULPhNlxX8",
        "outputId": "feb5aa63-acd9-4186-fe5f-d01a9b6f749a"
      },
      "outputs": [
        {
          "name": "stdout",
          "output_type": "stream",
          "text": [
            "$\n",
            "$$\n",
            "$$$\n",
            "$$$$\n",
            "$$$$$\n",
            "$$$$$$\n",
            "$$$$$$$\n"
          ]
        }
      ],
      "source": [
        "i=1\n",
        "while i<=7:\n",
        "  print(i*(\"$\"))\n",
        "  i=i+1"
      ]
    },
    {
      "cell_type": "code",
      "execution_count": null,
      "metadata": {
        "colab": {
          "base_uri": "https://localhost:8080/"
        },
        "id": "FPedc3OfeGfL",
        "outputId": "ec34270d-cad2-40ac-9aa8-0039e42d4f36"
      },
      "outputs": [
        {
          "name": "stdout",
          "output_type": "stream",
          "text": [
            "शुभ दीपावली\n",
            "शुभ दीपावलीशुभ दीपावली\n",
            "शुभ दीपावलीशुभ दीपावलीशुभ दीपावली\n",
            "शुभ दीपावलीशुभ दीपावलीशुभ दीपावलीशुभ दीपावली\n",
            "शुभ दीपावलीशुभ दीपावलीशुभ दीपावलीशुभ दीपावलीशुभ दीपावली\n",
            "शुभ दीपावलीशुभ दीपावलीशुभ दीपावलीशुभ दीपावलीशुभ दीपावलीशुभ दीपावली\n",
            "शुभ दीपावलीशुभ दीपावलीशुभ दीपावलीशुभ दीपावलीशुभ दीपावलीशुभ दीपावलीशुभ दीपावली\n",
            "शुभ दीपावलीशुभ दीपावलीशुभ दीपावलीशुभ दीपावलीशुभ दीपावलीशुभ दीपावलीशुभ दीपावलीशुभ दीपावली\n",
            "शुभ दीपावलीशुभ दीपावलीशुभ दीपावलीशुभ दीपावलीशुभ दीपावलीशुभ दीपावलीशुभ दीपावलीशुभ दीपावलीशुभ दीपावली\n",
            "शुभ दीपावलीशुभ दीपावलीशुभ दीपावलीशुभ दीपावलीशुभ दीपावलीशुभ दीपावलीशुभ दीपावलीशुभ दीपावलीशुभ दीपावलीशुभ दीपावली\n"
          ]
        }
      ],
      "source": [
        "i=1\n",
        "while i<=10:\n",
        "  print(i*\"शुभ दीपावली\")\n",
        "  i=i+1"
      ]
    },
    {
      "cell_type": "code",
      "execution_count": null,
      "metadata": {
        "colab": {
          "base_uri": "https://localhost:8080/"
        },
        "id": "095JePH4emcv",
        "outputId": "c9b02a47-b2ef-438b-e081-21733b7363c6"
      },
      "outputs": [
        {
          "name": "stdout",
          "output_type": "stream",
          "text": [
            "0\n",
            "1\n",
            "2\n",
            "3\n",
            "4\n"
          ]
        }
      ],
      "source": [
        "#for loop\n",
        "for i in range (5):\n",
        "  print (i)"
      ]
    },
    {
      "cell_type": "code",
      "execution_count": null,
      "metadata": {
        "colab": {
          "base_uri": "https://localhost:8080/"
        },
        "id": "8KreHsePe_AB",
        "outputId": "91eedf4c-b320-4230-d315-a6141e1baaff"
      },
      "outputs": [
        {
          "name": "stdout",
          "output_type": "stream",
          "text": [
            "\n",
            "$\n",
            "$$\n",
            "$$$\n",
            "$$$$\n"
          ]
        }
      ],
      "source": [
        "for i in range(5):\n",
        "  print(i*\"$\")"
      ]
    },
    {
      "cell_type": "code",
      "execution_count": null,
      "metadata": {
        "colab": {
          "base_uri": "https://localhost:8080/"
        },
        "id": "OJVvcZrP3hKZ",
        "outputId": "29437312-bab1-4115-8228-b3a677e2b89d"
      },
      "outputs": [
        {
          "name": "stdout",
          "output_type": "stream",
          "text": [
            "1\n",
            "2\n",
            "3\n",
            "4\n",
            "5\n"
          ]
        }
      ],
      "source": [
        "for i in range (5):\n",
        "  print(i+1)"
      ]
    },
    {
      "cell_type": "code",
      "execution_count": null,
      "metadata": {
        "colab": {
          "base_uri": "https://localhost:8080/"
        },
        "id": "mRf_V35F4UbV",
        "outputId": "8b5497f4-139c-4ca9-99dd-50d9cecff5b2"
      },
      "outputs": [
        {
          "output_type": "stream",
          "name": "stdout",
          "text": [
            "R\n"
          ]
        }
      ],
      "source": [
        "#List\n",
        "R= [1,2,3,\"a\",4,5,7]\n",
        "print (\"R\")"
      ]
    },
    {
      "cell_type": "code",
      "source": [
        "print (R[1])\n",
        "print(R[-1])"
      ],
      "metadata": {
        "colab": {
          "base_uri": "https://localhost:8080/"
        },
        "id": "K5XWh81VDQT1",
        "outputId": "cbc4b1fa-aaf7-471e-b209-84bd2af6d0dc"
      },
      "execution_count": null,
      "outputs": [
        {
          "output_type": "stream",
          "name": "stdout",
          "text": [
            "2\n",
            "7\n"
          ]
        }
      ]
    },
    {
      "cell_type": "code",
      "source": [
        "print (R[1:4])"
      ],
      "metadata": {
        "colab": {
          "base_uri": "https://localhost:8080/"
        },
        "id": "FSgDqa5qLrDf",
        "outputId": "4b515bf2-1f8c-43a0-b380-af69ffec2985"
      },
      "execution_count": null,
      "outputs": [
        {
          "output_type": "stream",
          "name": "stdout",
          "text": [
            "[2, 3, 'a']\n"
          ]
        }
      ]
    },
    {
      "cell_type": "code",
      "source": [
        "print(R[0:5])"
      ],
      "metadata": {
        "colab": {
          "base_uri": "https://localhost:8080/"
        },
        "id": "vJRFQqFUMHhn",
        "outputId": "b0eaef3c-a8c1-4900-d1a7-610dae8ad297"
      },
      "execution_count": null,
      "outputs": [
        {
          "output_type": "stream",
          "name": "stdout",
          "text": [
            "[1, 2, 3, 'a', 4]\n"
          ]
        }
      ]
    },
    {
      "cell_type": "code",
      "source": [
        "R.append(10)\n",
        "print(R)"
      ],
      "metadata": {
        "colab": {
          "base_uri": "https://localhost:8080/"
        },
        "id": "ljzltUW_MOBR",
        "outputId": "80490a87-c01a-4061-fb3d-66f536278cca"
      },
      "execution_count": null,
      "outputs": [
        {
          "output_type": "stream",
          "name": "stdout",
          "text": [
            "[1, 2, 3, 'a', 4, 5, 7, 10]\n"
          ]
        }
      ]
    },
    {
      "cell_type": "code",
      "source": [
        "R.insert (1,10)\n",
        "print(R)"
      ],
      "metadata": {
        "colab": {
          "base_uri": "https://localhost:8080/"
        },
        "id": "v8tDRuXcMkER",
        "outputId": "6566fb87-d61f-4aea-d8cc-346c36906ff8"
      },
      "execution_count": null,
      "outputs": [
        {
          "output_type": "stream",
          "name": "stdout",
          "text": [
            "[1, 10, 2, 3, 'a', 4, 5, 7, 10]\n"
          ]
        }
      ]
    },
    {
      "cell_type": "code",
      "source": [
        "print (10 in R)\n",
        "print (\"a\" in R)"
      ],
      "metadata": {
        "colab": {
          "base_uri": "https://localhost:8080/"
        },
        "id": "ISBVimSmRd4s",
        "outputId": "a6e6d347-7b41-464b-d06c-f41b35cac6db"
      },
      "execution_count": null,
      "outputs": [
        {
          "output_type": "stream",
          "name": "stdout",
          "text": [
            "True\n",
            "True\n"
          ]
        }
      ]
    },
    {
      "cell_type": "code",
      "source": [
        "print(len(R))"
      ],
      "metadata": {
        "colab": {
          "base_uri": "https://localhost:8080/"
        },
        "id": "k9_AtsYoSKnx",
        "outputId": "ea290749-fa0b-4a56-d049-6dafcfc8585b"
      },
      "execution_count": null,
      "outputs": [
        {
          "output_type": "stream",
          "name": "stdout",
          "text": [
            "9\n"
          ]
        }
      ]
    },
    {
      "cell_type": "code",
      "source": [
        "#While loop\n",
        "i=0\n",
        "while i < len(R):\n",
        "  print (R[i])\n",
        "  i=i+1\n"
      ],
      "metadata": {
        "colab": {
          "base_uri": "https://localhost:8080/"
        },
        "id": "bAw6gmcPSQ3u",
        "outputId": "96e98ff2-de83-459f-dc4b-7e86ff70dc18"
      },
      "execution_count": null,
      "outputs": [
        {
          "output_type": "stream",
          "name": "stdout",
          "text": [
            "1\n",
            "10\n",
            "2\n",
            "3\n",
            "a\n",
            "4\n",
            "5\n",
            "7\n",
            "10\n"
          ]
        }
      ]
    },
    {
      "cell_type": "code",
      "source": [
        "i=0\n",
        "while i<(len(R)):\n",
        "  print (R[i])\n",
        "  i=i+2"
      ],
      "metadata": {
        "colab": {
          "base_uri": "https://localhost:8080/"
        },
        "id": "4T-6ioGFUWvf",
        "outputId": "a17a539e-c3e1-4ac0-98a6-8041a29f25ff"
      },
      "execution_count": null,
      "outputs": [
        {
          "output_type": "stream",
          "name": "stdout",
          "text": [
            "1\n",
            "2\n",
            "a\n",
            "5\n",
            "10\n"
          ]
        }
      ]
    },
    {
      "cell_type": "code",
      "source": [
        "i=1\n",
        "while i<=10:\n",
        "  print (i*(\"  🪔  \"))\n",
        "  i=i+1\n",
        "i=1\n",
        "while i<=5:\n",
        "  print (i*(\" Happy_Diwali \"))\n",
        "  i=i+1\n",
        "i=1\n",
        "while i<=10:\n",
        "  print (i*(\"  🙏  \"))\n",
        "  i=i+1"
      ],
      "metadata": {
        "colab": {
          "base_uri": "https://localhost:8080/"
        },
        "id": "mf-imW7RUOkU",
        "outputId": "c82f2aa9-fb39-4bc4-dbc5-1a1c51e9d481"
      },
      "execution_count": null,
      "outputs": [
        {
          "output_type": "stream",
          "name": "stdout",
          "text": [
            "  🪔  \n",
            "  🪔    🪔  \n",
            "  🪔    🪔    🪔  \n",
            "  🪔    🪔    🪔    🪔  \n",
            "  🪔    🪔    🪔    🪔    🪔  \n",
            "  🪔    🪔    🪔    🪔    🪔    🪔  \n",
            "  🪔    🪔    🪔    🪔    🪔    🪔    🪔  \n",
            "  🪔    🪔    🪔    🪔    🪔    🪔    🪔    🪔  \n",
            "  🪔    🪔    🪔    🪔    🪔    🪔    🪔    🪔    🪔  \n",
            "  🪔    🪔    🪔    🪔    🪔    🪔    🪔    🪔    🪔    🪔  \n",
            " Happy_Diwali \n",
            " Happy_Diwali  Happy_Diwali \n",
            " Happy_Diwali  Happy_Diwali  Happy_Diwali \n",
            " Happy_Diwali  Happy_Diwali  Happy_Diwali  Happy_Diwali \n",
            " Happy_Diwali  Happy_Diwali  Happy_Diwali  Happy_Diwali  Happy_Diwali \n",
            "  🙏  \n",
            "  🙏    🙏  \n",
            "  🙏    🙏    🙏  \n",
            "  🙏    🙏    🙏    🙏  \n",
            "  🙏    🙏    🙏    🙏    🙏  \n",
            "  🙏    🙏    🙏    🙏    🙏    🙏  \n",
            "  🙏    🙏    🙏    🙏    🙏    🙏    🙏  \n",
            "  🙏    🙏    🙏    🙏    🙏    🙏    🙏    🙏  \n",
            "  🙏    🙏    🙏    🙏    🙏    🙏    🙏    🙏    🙏  \n",
            "  🙏    🙏    🙏    🙏    🙏    🙏    🙏    🙏    🙏    🙏  \n"
          ]
        }
      ]
    },
    {
      "cell_type": "code",
      "source": [
        "marks =[12,12,14,15,18]\n",
        "print(marks)"
      ],
      "metadata": {
        "colab": {
          "base_uri": "https://localhost:8080/"
        },
        "id": "RWzkRwLPWTK5",
        "outputId": "ad2caf69-372f-484c-f12b-1f9fecb49adb"
      },
      "execution_count": null,
      "outputs": [
        {
          "output_type": "stream",
          "name": "stdout",
          "text": [
            "[12, 12, 14, 15, 18]\n"
          ]
        }
      ]
    },
    {
      "cell_type": "code",
      "source": [
        "marks.clear()\n",
        "print(marks)"
      ],
      "metadata": {
        "colab": {
          "base_uri": "https://localhost:8080/"
        },
        "id": "pdWCAfCMXmak",
        "outputId": "0d9eeba1-656a-4616-f1d9-7abf6f30cf43"
      },
      "execution_count": null,
      "outputs": [
        {
          "output_type": "stream",
          "name": "stdout",
          "text": [
            "[]\n"
          ]
        }
      ]
    },
    {
      "cell_type": "code",
      "source": [
        "#Break\n",
        "indian_team = [\"sachin\", \"dhoni\", \"ritik\", \"virat\", \"rohit\"]\n",
        "for team in indian_team:\n",
        "  if team == \"ritik\":\n",
        "     break;\n",
        "  print(team)"
      ],
      "metadata": {
        "colab": {
          "base_uri": "https://localhost:8080/"
        },
        "id": "lfE-zURsUxc3",
        "outputId": "caf01d38-c239-42e8-ac57-018b8a4bceb1"
      },
      "execution_count": null,
      "outputs": [
        {
          "output_type": "stream",
          "name": "stdout",
          "text": [
            "sachin\n",
            "dhoni\n"
          ]
        }
      ]
    },
    {
      "cell_type": "code",
      "source": [
        "#continue\n",
        "for team in indian_team:\n",
        "  if team== \"ritik\":\n",
        "    continue;\n",
        "  print (team)"
      ],
      "metadata": {
        "colab": {
          "base_uri": "https://localhost:8080/"
        },
        "id": "s1J5Geo1WnYk",
        "outputId": "fcc0fa8d-8fbc-45eb-c943-bb8fcac5cc92"
      },
      "execution_count": null,
      "outputs": [
        {
          "output_type": "stream",
          "name": "stdout",
          "text": [
            "sachin\n",
            "dhoni\n",
            "virat\n",
            "rohit\n"
          ]
        }
      ]
    },
    {
      "cell_type": "code",
      "source": [
        "#touple\n",
        "x= (12,12,14,15,16,\"ram\",12)\n",
        "print (x.count (12))\n",
        "print (x.count(14))\n",
        "print (x.count(10))\n",
        "print (x.index(\"ram\"))"
      ],
      "metadata": {
        "colab": {
          "base_uri": "https://localhost:8080/"
        },
        "id": "eZKwZKrTZzYb",
        "outputId": "dfab09f4-d6fb-46fb-9652-bbdf34dda9d0"
      },
      "execution_count": null,
      "outputs": [
        {
          "output_type": "stream",
          "name": "stdout",
          "text": [
            "3\n",
            "1\n",
            "0\n",
            "5\n"
          ]
        }
      ]
    },
    {
      "cell_type": "code",
      "source": [
        "#set\n",
        "sun = { 10,12,12,15,16,18,20 ,'r'}\n",
        "print(sun)"
      ],
      "metadata": {
        "colab": {
          "base_uri": "https://localhost:8080/"
        },
        "id": "8bEYihb5b2wF",
        "outputId": "5aa2dc47-7ce5-487f-a3b4-e04e22e37105"
      },
      "execution_count": null,
      "outputs": [
        {
          "output_type": "stream",
          "name": "stdout",
          "text": [
            "{16, 18, 20, 'r', 10, 12, 15}\n"
          ]
        }
      ]
    },
    {
      "cell_type": "code",
      "source": [
        "marks = {12,14,15,19,12,15}\n",
        "for score in marks:\n",
        "  print (score)"
      ],
      "metadata": {
        "colab": {
          "base_uri": "https://localhost:8080/"
        },
        "id": "ocirZm4kgYBa",
        "outputId": "5f7dbc77-671a-4cfb-eb80-833f71df1cff"
      },
      "execution_count": null,
      "outputs": [
        {
          "output_type": "stream",
          "name": "stdout",
          "text": [
            "19\n",
            "12\n",
            "14\n",
            "15\n"
          ]
        }
      ]
    },
    {
      "cell_type": "code",
      "source": [
        "#Dictionary\n",
        "marks = {\"math\": 100, \"physics\": 98, \"chemistry\": 95}\n",
        "information = {\"ram\": \"ayodhya\" }\n",
        "print (marks[\"physics\"])\n",
        "print (information[\"ram\"])\n"
      ],
      "metadata": {
        "id": "YDz0towPhA3m",
        "colab": {
          "base_uri": "https://localhost:8080/"
        },
        "outputId": "6d8c383e-69d2-48ae-e806-3fea07f7e7eb"
      },
      "execution_count": null,
      "outputs": [
        {
          "output_type": "stream",
          "name": "stdout",
          "text": [
            "98\n",
            "ayodhya\n"
          ]
        }
      ]
    },
    {
      "cell_type": "code",
      "source": [
        "marks[\"hindi\"]=90;\n",
        "marks[\"math\"]=99;\n",
        "print(marks)"
      ],
      "metadata": {
        "colab": {
          "base_uri": "https://localhost:8080/"
        },
        "id": "LhXo3RqteYWM",
        "outputId": "d9b2a7a7-757d-4db1-c121-2e823f8c528e"
      },
      "execution_count": null,
      "outputs": [
        {
          "output_type": "stream",
          "name": "stdout",
          "text": [
            "{'math': 99, 'physics': 98, 'chemistry': 95, 'hindi': 90}\n"
          ]
        }
      ]
    },
    {
      "cell_type": "code",
      "source": [
        "import math\n",
        "print (dir(math))"
      ],
      "metadata": {
        "colab": {
          "base_uri": "https://localhost:8080/"
        },
        "id": "rKhsXTzYf3a7",
        "outputId": "8c84d1b7-dfe6-4ac6-cbf3-a14b4c87eb89"
      },
      "execution_count": null,
      "outputs": [
        {
          "output_type": "stream",
          "name": "stdout",
          "text": [
            "['__doc__', '__loader__', '__name__', '__package__', '__spec__', 'acos', 'acosh', 'asin', 'asinh', 'atan', 'atan2', 'atanh', 'ceil', 'comb', 'copysign', 'cos', 'cosh', 'degrees', 'dist', 'e', 'erf', 'erfc', 'exp', 'expm1', 'fabs', 'factorial', 'floor', 'fmod', 'frexp', 'fsum', 'gamma', 'gcd', 'hypot', 'inf', 'isclose', 'isfinite', 'isinf', 'isnan', 'isqrt', 'lcm', 'ldexp', 'lgamma', 'log', 'log10', 'log1p', 'log2', 'modf', 'nan', 'nextafter', 'perm', 'pi', 'pow', 'prod', 'radians', 'remainder', 'sin', 'sinh', 'sqrt', 'tan', 'tanh', 'tau', 'trunc', 'ulp']\n"
          ]
        }
      ]
    },
    {
      "cell_type": "code",
      "source": [
        "from math import sqrt\n",
        "print(sqrt(225))"
      ],
      "metadata": {
        "colab": {
          "base_uri": "https://localhost:8080/"
        },
        "id": "0PFB_gXjgCP3",
        "outputId": "3152af71-4727-4720-f74f-ba1a8cd6825b"
      },
      "execution_count": null,
      "outputs": [
        {
          "output_type": "stream",
          "name": "stdout",
          "text": [
            "15.0\n"
          ]
        }
      ]
    },
    {
      "cell_type": "code",
      "source": [
        "def print_sum (first, second):\n",
        "  print (first+second)\n",
        "print_sum (2,3)\n"
      ],
      "metadata": {
        "id": "yH3Pl6qagPDb",
        "colab": {
          "base_uri": "https://localhost:8080/"
        },
        "outputId": "ba5294ec-9126-4b5b-ff97-722da7f12930"
      },
      "execution_count": null,
      "outputs": [
        {
          "output_type": "stream",
          "name": "stdout",
          "text": [
            "5\n"
          ]
        }
      ]
    },
    {
      "cell_type": "code",
      "source": [
        "def print_sum(first, second=5):\n",
        "  print(first+second)\n",
        "print_sum(10)"
      ],
      "metadata": {
        "colab": {
          "base_uri": "https://localhost:8080/"
        },
        "id": "iW61y--o2KRI",
        "outputId": "f619b5e6-96af-4ad8-b717-9d52cedd67ea"
      },
      "execution_count": null,
      "outputs": [
        {
          "output_type": "stream",
          "name": "stdout",
          "text": [
            "15\n"
          ]
        }
      ]
    },
    {
      "cell_type": "markdown",
      "source": [
        "##Imp practiced question"
      ],
      "metadata": {
        "id": "tXq97CzA26c0"
      }
    },
    {
      "cell_type": "code",
      "source": [
        "#range\n",
        "z=list (range (10))\n",
        "print (z)"
      ],
      "metadata": {
        "id": "RECSW2TD3B_s",
        "colab": {
          "base_uri": "https://localhost:8080/"
        },
        "outputId": "7407927c-cf35-45bf-b88f-d5cc62a1f8d6"
      },
      "execution_count": null,
      "outputs": [
        {
          "output_type": "stream",
          "name": "stdout",
          "text": [
            "[0, 1, 2, 3, 4, 5, 6, 7, 8, 9]\n"
          ]
        }
      ]
    },
    {
      "cell_type": "code",
      "source": [
        "square = [number**2 for number in z]\n",
        "cube = [number**3 for number in z]\n",
        "print(z)\n",
        "print(square)\n",
        "print(cube)"
      ],
      "metadata": {
        "colab": {
          "base_uri": "https://localhost:8080/"
        },
        "id": "ZCpicThP8iad",
        "outputId": "b2159325-1a82-4c62-9661-653a034bab28"
      },
      "execution_count": null,
      "outputs": [
        {
          "output_type": "stream",
          "name": "stdout",
          "text": [
            "[0, 1, 2, 3, 4, 5, 6, 7, 8, 9]\n",
            "[0, 1, 4, 9, 16, 25, 36, 49, 64, 81]\n",
            "[0, 1, 8, 27, 64, 125, 216, 343, 512, 729]\n"
          ]
        }
      ]
    },
    {
      "cell_type": "code",
      "source": [
        "z= [*range(10)]\n",
        "square = [number**2 for number in z]\n",
        "print(z)\n",
        "print(square)"
      ],
      "metadata": {
        "colab": {
          "base_uri": "https://localhost:8080/"
        },
        "id": "rlWs42Sw9I4D",
        "outputId": "b7d3975d-65e5-404b-e498-fc7c250cdb25"
      },
      "execution_count": null,
      "outputs": [
        {
          "output_type": "stream",
          "name": "stdout",
          "text": [
            "[0, 1, 2, 3, 4, 5, 6, 7, 8, 9]\n",
            "[0, 1, 4, 9, 16, 25, 36, 49, 64, 81]\n"
          ]
        }
      ]
    },
    {
      "cell_type": "code",
      "source": [
        "list= [2,3,1,23,34,5,4,4,34]\n",
        "max(list)"
      ],
      "metadata": {
        "colab": {
          "base_uri": "https://localhost:8080/"
        },
        "id": "s4Wf2rir7hMz",
        "outputId": "69d0b271-7192-4fec-c5c4-ca9d459fcf3b"
      },
      "execution_count": null,
      "outputs": [
        {
          "output_type": "execute_result",
          "data": {
            "text/plain": [
              "34"
            ]
          },
          "metadata": {},
          "execution_count": 2
        }
      ]
    },
    {
      "cell_type": "code",
      "source": [
        "min(list)"
      ],
      "metadata": {
        "colab": {
          "base_uri": "https://localhost:8080/"
        },
        "id": "miVAzYo-76hq",
        "outputId": "7f74c600-ddf4-4d28-cee1-fc96efc096ec"
      },
      "execution_count": null,
      "outputs": [
        {
          "output_type": "execute_result",
          "data": {
            "text/plain": [
              "1"
            ]
          },
          "metadata": {},
          "execution_count": 3
        }
      ]
    },
    {
      "cell_type": "code",
      "source": [
        "#temprary sort\n",
        "sorted(list)"
      ],
      "metadata": {
        "colab": {
          "base_uri": "https://localhost:8080/"
        },
        "id": "yOr00JPk7_Rk",
        "outputId": "6ce9fa0e-7f1c-411a-da5a-68ee8452c784"
      },
      "execution_count": null,
      "outputs": [
        {
          "output_type": "execute_result",
          "data": {
            "text/plain": [
              "[1, 2, 3, 4, 4, 5, 23, 34, 34]"
            ]
          },
          "metadata": {},
          "execution_count": 4
        }
      ]
    },
    {
      "cell_type": "code",
      "source": [
        "print(list)"
      ],
      "metadata": {
        "colab": {
          "base_uri": "https://localhost:8080/"
        },
        "id": "KXPnrYRo8Hty",
        "outputId": "418fc252-be2a-419b-ecb6-0b431e80e318"
      },
      "execution_count": null,
      "outputs": [
        {
          "output_type": "stream",
          "name": "stdout",
          "text": [
            "[2, 3, 1, 23, 34, 5, 4, 4, 34]\n"
          ]
        }
      ]
    },
    {
      "cell_type": "code",
      "source": [
        "#permanent sort\n",
        "list.sort()"
      ],
      "metadata": {
        "id": "thX05biX8MGW"
      },
      "execution_count": null,
      "outputs": []
    },
    {
      "cell_type": "code",
      "source": [
        "print(list)"
      ],
      "metadata": {
        "colab": {
          "base_uri": "https://localhost:8080/"
        },
        "id": "wKPBwqXE8dAD",
        "outputId": "d12ac6e1-bd34-4975-b12a-418fd0e139cd"
      },
      "execution_count": null,
      "outputs": [
        {
          "output_type": "stream",
          "name": "stdout",
          "text": [
            "[1, 2, 3, 4, 4, 5, 23, 34, 34]\n"
          ]
        }
      ]
    },
    {
      "cell_type": "code",
      "source": [
        "cube = [number **3 for number in list ]\n",
        "print(cube)"
      ],
      "metadata": {
        "colab": {
          "base_uri": "https://localhost:8080/"
        },
        "id": "0uAok5L38spE",
        "outputId": "4631f1f1-e408-4587-9304-34837ccd8e3c"
      },
      "execution_count": null,
      "outputs": [
        {
          "output_type": "stream",
          "name": "stdout",
          "text": [
            "[1, 8, 27, 64, 64, 125, 12167, 39304, 39304]\n"
          ]
        }
      ]
    },
    {
      "cell_type": "code",
      "source": [
        "even_cube = [number**3 for number in list if number%2 == 0 ]\n",
        "print(even_cube)"
      ],
      "metadata": {
        "colab": {
          "base_uri": "https://localhost:8080/"
        },
        "id": "T4fT5MMu9qhm",
        "outputId": "13ed6277-aae0-48cc-cfa5-8f672ced2717"
      },
      "execution_count": null,
      "outputs": [
        {
          "output_type": "stream",
          "name": "stdout",
          "text": [
            "[8, 64, 64, 39304, 39304]\n"
          ]
        }
      ]
    },
    {
      "cell_type": "code",
      "source": [
        "odd_cube = [ number**3 for number in list if number%2 != 0]\n",
        "print(odd_cube)"
      ],
      "metadata": {
        "colab": {
          "base_uri": "https://localhost:8080/"
        },
        "id": "eXmnW1P--VAD",
        "outputId": "e670b312-6d45-4e30-f7b1-cfceacab7666"
      },
      "execution_count": null,
      "outputs": [
        {
          "output_type": "stream",
          "name": "stdout",
          "text": [
            "[1, 27, 125, 12167]\n"
          ]
        }
      ]
    },
    {
      "cell_type": "code",
      "source": [
        "#Table\n",
        "x= [1,2,3,4,5,6,7,8,9,10]\n",
        "second = [number*2 for number in x]\n",
        "third = [number*3 for number in x]\n",
        "fourth = [number*4 for number in x]\n",
        "fifty = [number*5 for number in x]\n",
        "print(x)\n",
        "print(second)\n",
        "print(third)\n",
        "print(fourth)\n",
        "print(fifty)"
      ],
      "metadata": {
        "colab": {
          "base_uri": "https://localhost:8080/"
        },
        "id": "YHmDSVr--zLt",
        "outputId": "687186e7-34c9-4fef-d42c-8da6578448f1"
      },
      "execution_count": null,
      "outputs": [
        {
          "output_type": "stream",
          "name": "stdout",
          "text": [
            "[1, 2, 3, 4, 5, 6, 7, 8, 9, 10]\n",
            "[2, 4, 6, 8, 10, 12, 14, 16, 18, 20]\n",
            "[3, 6, 9, 12, 15, 18, 21, 24, 27, 30]\n",
            "[4, 8, 12, 16, 20, 24, 28, 32, 36, 40]\n",
            "[5, 10, 15, 20, 25, 30, 35, 40, 45, 50]\n"
          ]
        }
      ]
    },
    {
      "cell_type": "code",
      "source": [
        "r= [*range(0,11)]\n",
        "s= [ number**2 for number in r]\n",
        "se= [number**2 for number in r if number%2 == 0]\n",
        "print(r)\n",
        "print(s)\n",
        "print(se)"
      ],
      "metadata": {
        "colab": {
          "base_uri": "https://localhost:8080/"
        },
        "id": "qqanZqgyDmuT",
        "outputId": "2b384fd7-c667-436b-c4e1-6d5198c203f7"
      },
      "execution_count": null,
      "outputs": [
        {
          "output_type": "stream",
          "name": "stdout",
          "text": [
            "[0, 1, 2, 3, 4, 5, 6, 7, 8, 9, 10]\n",
            "[0, 1, 4, 9, 16, 25, 36, 49, 64, 81, 100]\n",
            "[0, 4, 16, 36, 64, 100]\n"
          ]
        }
      ]
    },
    {
      "cell_type": "markdown",
      "source": [
        "#Top 100 coding questions"
      ],
      "metadata": {
        "id": "xZwV5nHKFN0R"
      }
    },
    {
      "cell_type": "code",
      "source": [
        "#user will input 3 ages & find the oldest one\n",
        "age1 = int(input ( \"enter your ege : \"))\n",
        "age2= int(input (\"enter your age : \"))\n",
        "age3= int(input(\"enter your age : \"))\n",
        "if (age1>age2) and (age1>age3):\n",
        "  print (\"age1 is oldest\")\n",
        "elif (age2>age1) and (age2>age3):\n",
        "  print(\"age2 is oldest\")\n",
        "else:\n",
        "  print(\"age3 is oldest\")\n"
      ],
      "metadata": {
        "id": "yH-XmdiRFUE-",
        "colab": {
          "base_uri": "https://localhost:8080/"
        },
        "outputId": "e6ed0c84-d3c5-4dc8-82c7-473843f8f38a"
      },
      "execution_count": null,
      "outputs": [
        {
          "output_type": "stream",
          "name": "stdout",
          "text": [
            "enter your ege : 80\n",
            "enter your age : 70\n",
            "enter your age : 77\n",
            "age1 is oldest\n"
          ]
        }
      ]
    },
    {
      "cell_type": "code",
      "source": [
        "# write a progam that will convert tempature which is in degree celsius into fahrenheit\n",
        "dc = float (input (\"enter tem in dc : \"))\n",
        "fh = ((dc*1.18)+32)\n",
        "print (\"the tem in fahrenheit is :\", fh )"
      ],
      "metadata": {
        "colab": {
          "base_uri": "https://localhost:8080/"
        },
        "id": "rYE47So_SJBt",
        "outputId": "857617f6-67ab-4257-f32f-d31d5dc7c6a9"
      },
      "execution_count": null,
      "outputs": [
        {
          "output_type": "stream",
          "name": "stdout",
          "text": [
            "enter tem in dc : 25\n",
            "the tem in fahrenheit is : 61.5\n"
          ]
        }
      ]
    },
    {
      "cell_type": "code",
      "source": [
        "#user will input 3 num & swap the num\n",
        "c=0\n",
        "a = int(input ( \"enter the first num  \" ))\n",
        "b = int(input ( \"enter the second num   \" ))\n",
        "c=a\n",
        "a=b\n",
        "b=c\n",
        "print(\"after swaping both the num\")\n",
        "print (\"num1:\",a)\n",
        "print (\"num2:\",b)"
      ],
      "metadata": {
        "colab": {
          "base_uri": "https://localhost:8080/"
        },
        "id": "p0sy71iGq_O2",
        "outputId": "b0fa0685-78bf-4a59-825a-355fc53cd844"
      },
      "execution_count": null,
      "outputs": [
        {
          "output_type": "stream",
          "name": "stdout",
          "text": [
            "enter the first num  2\n",
            "enter the second num   4\n",
            "after swaping both the num\n",
            "num1: 4\n",
            "num2: 2\n"
          ]
        }
      ]
    },
    {
      "cell_type": "code",
      "source": [
        "#write a program to swap the number without using 3rd variable\n",
        "a= int (input (\"my first num is : \"))\n",
        "b= int (input (\"my second num is : \"))\n",
        "a= a+b\n",
        "b= a-b\n",
        "a= a-b\n",
        "print (\"after swaping both the num.....\")\n",
        "print (\"first num : \", a )\n",
        "print (\"second num : \", b )\n",
        "\n"
      ],
      "metadata": {
        "id": "oxw5fVsBy_EQ",
        "colab": {
          "base_uri": "https://localhost:8080/"
        },
        "outputId": "7357fd45-39dc-4467-db83-a7832e597192"
      },
      "execution_count": null,
      "outputs": [
        {
          "output_type": "stream",
          "name": "stdout",
          "text": [
            "my first num is : 34\n",
            "my second num is : 43\n",
            "after swaping both the num.....\n",
            "first num :  43\n",
            "second num :  34\n"
          ]
        }
      ]
    },
    {
      "cell_type": "code",
      "source": [
        "#write a program that will give you sum of digit\n",
        "num = int (input( \"enter your num :\" ))\n",
        "a = num%10\n",
        "rem = num//10\n",
        "b= rem%10\n",
        "rem= rem//10\n",
        "c = rem%10\n",
        "sum = a+b+c\n",
        "print(\"sum of digit :\", sum )"
      ],
      "metadata": {
        "id": "nsZYmCdsDchG",
        "colab": {
          "base_uri": "https://localhost:8080/"
        },
        "outputId": "68089dab-bf7b-452d-d78a-ebe09bf05604"
      },
      "execution_count": null,
      "outputs": [
        {
          "output_type": "stream",
          "name": "stdout",
          "text": [
            "enter your num :127\n",
            "sum of digit : 10\n"
          ]
        }
      ]
    },
    {
      "cell_type": "code",
      "source": [
        "#5.Write a program that will reverse a four digit number. Also it checks whether the reverse is true.\n",
        "original_num = int (input(\"original 4 digit num is :\"))\n",
        "num = original_num\n",
        "a = num%10\n",
        "rem = num//10\n",
        "b= rem%10\n",
        "rem = rem//10\n",
        "c= rem%10\n",
        "rem = rem//10\n",
        "d = rem %10\n",
        "reverse_num = (a*1000)+(b*100)+(c*10)+d\n",
        "print ('New number is : ', reverse_num)\n",
        "# checking the num is reversed or not\n",
        "if original_num == reverse_num:\n",
        "  print (\"true\")\n",
        "else:\n",
        "  print (\"false\")"
      ],
      "metadata": {
        "colab": {
          "base_uri": "https://localhost:8080/"
        },
        "id": "Xe6smTsJ8C2M",
        "outputId": "d18bca72-31b5-4c8f-9077-6e27cc578790"
      },
      "execution_count": null,
      "outputs": [
        {
          "output_type": "stream",
          "name": "stdout",
          "text": [
            "original 4 digit num is :1234\n",
            "New number is :  4321\n",
            "false\n"
          ]
        }
      ]
    },
    {
      "cell_type": "code",
      "source": [
        "## 6.Write a program that will tell whether the number entered by the user is odd or even\n",
        "a = int (input (\"enter your num\"))\n",
        "if a%2 == 0 :\n",
        "         print (\"The num is even\")\n",
        "else:\n",
        "         print (\"The num is odd\")"
      ],
      "metadata": {
        "colab": {
          "base_uri": "https://localhost:8080/"
        },
        "id": "IgLd3ZXFaT7z",
        "outputId": "979df455-7260-4967-9360-2ffe3314c0f1"
      },
      "execution_count": null,
      "outputs": [
        {
          "output_type": "stream",
          "name": "stdout",
          "text": [
            "enter your num127\n",
            "The num is odd\n"
          ]
        }
      ]
    },
    {
      "cell_type": "code",
      "source": [
        "## Write a program that will tell whether the given year is a leap year or not.\n",
        "x = int(input(\"enter the year...\"))\n",
        "if (x%100==0) and (x%400==0):\n",
        "  print (\"it is a leap year\")\n",
        "elif (x%4==0) and (x%100 != 0):\n",
        "  print (\"it is a leap year\")\n",
        "else :\n",
        "  print (\"it is not a leap year\")"
      ],
      "metadata": {
        "colab": {
          "base_uri": "https://localhost:8080/"
        },
        "id": "D4tAcs2mXAAQ",
        "outputId": "63398259-4271-4cb1-e4df-c641ce8f14e8"
      },
      "execution_count": null,
      "outputs": [
        {
          "output_type": "stream",
          "name": "stdout",
          "text": [
            "enter the year...2024\n",
            "it is a leap year\n"
          ]
        }
      ]
    },
    {
      "cell_type": "code",
      "source": [
        "##Write a program to find the euclidean distance between two coordinates.\n",
        "x1= int(input(\"enter value of x1 : \"))\n",
        "x2= int(input(\"enter value of x2 : \"))\n",
        "y1= int(input(\"enter value of y1 : \"))\n",
        "y2= int(input(\"enter value of y2 : \"))\n",
        "euclidean_distance = ((x2-x1)**2+(y2-y1)**2)**0.5\n",
        "print(\"euclidean_distance = \",euclidean_distance)"
      ],
      "metadata": {
        "colab": {
          "base_uri": "https://localhost:8080/"
        },
        "id": "-byzyxfV9fOW",
        "outputId": "aadb7c63-3aea-4bf5-b469-8dd9f2ea3162"
      },
      "execution_count": null,
      "outputs": [
        {
          "output_type": "stream",
          "name": "stdout",
          "text": [
            "enter value of x1 : 1\n",
            "enter value of x2 : 3\n",
            "enter value of y1 : 2\n",
            "enter value of y2 : 4\n",
            "euclidean_distance =  2.8284271247461903\n"
          ]
        }
      ]
    },
    {
      "cell_type": "code",
      "source": [
        "## Write a program that take a user input of three angles and will find out whether it can form a triangle or not.\n",
        "a= int(input(\"Input value angle_a : \"))\n",
        "b= int(input(\"Input value angle_b : \"))\n",
        "c= int(input(\"Input value angle_c : \"))\n",
        "if (a+b+c == 180) and a!=0 and b!=0 and c!=0 :\n",
        "  print (\"This is the valid trangle\")\n",
        "else:\n",
        "  print (\"This is not a valid trangle\")"
      ],
      "metadata": {
        "colab": {
          "base_uri": "https://localhost:8080/"
        },
        "id": "IRDBy2-Lutcg",
        "outputId": "982a2a91-193e-4655-d139-1bb085762ba1"
      },
      "execution_count": null,
      "outputs": [
        {
          "output_type": "stream",
          "name": "stdout",
          "text": [
            "Input value angle_a : 40\n",
            "Input value angle_b : 50\n",
            "Input value angle_c : 90\n",
            "This is the valid trangle\n"
          ]
        }
      ]
    },
    {
      "cell_type": "code",
      "source": [
        "## Write a program that will take user input of cost price and selling price and determine whether its a loss or a profit\n",
        "cp = int(input(\"enter value of cp : \"))\n",
        "sp = int(input(\"enter value of sp : \"))\n",
        "if cp>sp :\n",
        "  print (\"You are in loss\")\n",
        "elif cp<sp :\n",
        "  print (\"You are in profit\")\n",
        "else :\n",
        "  print (\"You are neither in profit nor loss\")"
      ],
      "metadata": {
        "colab": {
          "base_uri": "https://localhost:8080/"
        },
        "id": "ZZCg9ifuDLiF",
        "outputId": "f1cde057-502b-44ce-ea4d-2164e96920cd"
      },
      "execution_count": null,
      "outputs": [
        {
          "output_type": "stream",
          "name": "stdout",
          "text": [
            "enter value of cp : 45\n",
            "enter value of sp : 50\n",
            "You are in profit\n"
          ]
        }
      ]
    },
    {
      "cell_type": "code",
      "source": [
        "## Write a program to find the simple interest when the value of principle,rate of interest and time period is given.\n",
        "p = int (input (\"enter the value of principal amount : \"))\n",
        "r = int(input (\"enter the value of rate of interest : \"))\n",
        "t = int (input (\"enter the value of time period : \"))\n",
        "si = (p*r*t)/100\n",
        "a= p + si\n",
        "print (\"Your amount is\" ,a ,\"on a simple interest of \", si)"
      ],
      "metadata": {
        "colab": {
          "base_uri": "https://localhost:8080/"
        },
        "id": "DWkm-HVsGcyX",
        "outputId": "d3c26607-b931-411e-e78b-259e84ebf1cd"
      },
      "execution_count": null,
      "outputs": [
        {
          "output_type": "stream",
          "name": "stdout",
          "text": [
            "enter the value of principal amount : 500000\n",
            "enter the value of rate of interest : 20\n",
            "enter the value of time period : 10\n",
            "Your amount is 1500000.0 on a simple interest of  1000000.0\n"
          ]
        }
      ]
    },
    {
      "cell_type": "code",
      "source": [
        "## Write a program to find the volume of the cylinder. Also find the cost when ,when the cost of 1litre milk is 40Rs.\n",
        "r= int(input (\"enter the radius of your cylinder : \"))\n",
        "h= int(input (\"enter the height of your cylinder : \"))\n",
        "volume = 3.14*r**2*h\n",
        "cost = 50*volume/1000\n",
        "print (\"The volume of cylinder is : \", volume, \"the cost of cylinder is : \", cost)"
      ],
      "metadata": {
        "colab": {
          "base_uri": "https://localhost:8080/"
        },
        "id": "RZjotkupOccX",
        "outputId": "e2e458f3-6f76-46ff-8d1f-8e03459a642f"
      },
      "execution_count": null,
      "outputs": [
        {
          "output_type": "stream",
          "name": "stdout",
          "text": [
            "enter the radius of your cylinder : 10\n",
            "enter the height of your cylinder : 45\n",
            "The volume of cylinder is :  14130.0 the cost of cylinder is :  706.5\n"
          ]
        }
      ]
    },
    {
      "cell_type": "code",
      "source": [
        "#Write  a program that will tell whether the given number is divisible by 3 & 6.\n",
        "a= int(input(\"print your num : \"))\n",
        "if (a%3==0) and (a%6==0) :\n",
        "  print (\"the num is divisible by 3 & 6\")\n",
        "else :\n",
        "  print(\"the num is not divisible by 3 & 6\")"
      ],
      "metadata": {
        "colab": {
          "base_uri": "https://localhost:8080/"
        },
        "id": "XT5ZoPXWv20B",
        "outputId": "2f55c5cf-b014-49bf-f148-94f1afc5d28f"
      },
      "execution_count": null,
      "outputs": [
        {
          "output_type": "stream",
          "name": "stdout",
          "text": [
            "print your num : 90\n",
            "the num is divisible by 3 & 6\n"
          ]
        }
      ]
    }
  ],
  "metadata": {
    "colab": {
      "provenance": [],
      "gpuType": "T4",
      "authorship_tag": "ABX9TyONl9a0fogbKHZy/QV/o4jB",
      "include_colab_link": true
    },
    "kernelspec": {
      "display_name": "Python 3",
      "name": "python3"
    },
    "language_info": {
      "name": "python"
    }
  },
  "nbformat": 4,
  "nbformat_minor": 0
}