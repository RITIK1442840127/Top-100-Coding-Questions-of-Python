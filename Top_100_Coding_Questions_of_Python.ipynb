{
  "cells": [
    {
      "cell_type": "markdown",
      "metadata": {
        "id": "view-in-github",
        "colab_type": "text"
      },
      "source": [
        "<a href=\"https://colab.research.google.com/github/RITIK1442840127/Top-100-Coding-Questions-of-Python/blob/main/Top_100_Coding_Questions_of_Python.ipynb\" target=\"_parent\"><img src=\"https://colab.research.google.com/assets/colab-badge.svg\" alt=\"Open In Colab\"/></a>"
      ]
    },
    {
      "cell_type": "markdown",
      "metadata": {
        "id": "09wvG2BPCpVY"
      },
      "source": [
        "#Basic"
      ]
    },
    {
      "cell_type": "code",
      "execution_count": null,
      "metadata": {
        "colab": {
          "base_uri": "https://localhost:8080/"
        },
        "id": "y4UHuEqnx7Ve",
        "outputId": "753a2f42-d5e6-45b4-bf48-dce57c5eccaf"
      },
      "outputs": [
        {
          "name": "stdout",
          "output_type": "stream",
          "text": [
            "Hellow Ritik\n"
          ]
        }
      ],
      "source": [
        "#Start\n",
        "print (\"Hellow Ritik\")"
      ]
    },
    {
      "cell_type": "code",
      "execution_count": null,
      "metadata": {
        "colab": {
          "background_save": true,
          "base_uri": "https://localhost:8080/",
          "height": 210
        },
        "id": "FCpHVgWNyJRh",
        "outputId": "b1369b58-8392-4fd5-ae26-e94ae52ebdbe"
      },
      "outputs": [
        {
          "name": "stdout",
          "output_type": "stream",
          "text": [
            "Ritik\n",
            "27\n"
          ]
        }
      ],
      "source": [
        "#Variable\n",
        "name = \"Ritik\"\n",
        "age = 27\n",
        "print (name); print (age)"
      ]
    },
    {
      "cell_type": "code",
      "execution_count": null,
      "metadata": {
        "colab": {
          "background_save": true
        },
        "id": "dV2OQOFrCDuZ",
        "outputId": "824d3bd0-0d6c-4b93-cc5f-0afffd695e77"
      },
      "outputs": [
        {
          "name": "stdout",
          "output_type": "stream",
          "text": [
            "Rishu\n",
            "27.7\n"
          ]
        }
      ],
      "source": [
        "#Variable value can be change\n",
        "name= \"Rishu\"\n",
        "age= 27.7\n",
        "print(name); print (age)"
      ]
    },
    {
      "cell_type": "code",
      "execution_count": null,
      "metadata": {
        "id": "wC7vt5X9NW4l"
      },
      "outputs": [],
      "source": [
        "#taking user input\n",
        "name= input (\"what is your name ?  \")"
      ]
    },
    {
      "cell_type": "code",
      "execution_count": null,
      "metadata": {
        "id": "5YSU7-BlUF12"
      },
      "outputs": [],
      "source": [
        "#Type conversion\n",
        "age= input(\"Enter your age : \")\n",
        "new_age = int (age)+2\n",
        "print (new_age)"
      ]
    },
    {
      "cell_type": "code",
      "execution_count": null,
      "metadata": {
        "colab": {
          "base_uri": "https://localhost:8080/"
        },
        "id": "-0u7sioHUup5",
        "outputId": "f744ea97-ed9c-417b-aa9a-715fb77c0f33"
      },
      "outputs": [
        {
          "output_type": "stream",
          "name": "stdout",
          "text": [
            "12.0\n"
          ]
        }
      ],
      "source": [
        "num= 12\n",
        "print(float(num))"
      ]
    },
    {
      "cell_type": "code",
      "source": [
        "first= input (\"Enter the 1st num : \")\n",
        "second = input (\"Enter the 2nd num : \")\n",
        "third = input (\"Enter the 3rd num: \")\n",
        "sum = (first+second+third)\n",
        "sum1= (int(first)+ int(second)+ int(third))\n",
        "print(sum)\n",
        "print (sum1)"
      ],
      "metadata": {
        "colab": {
          "base_uri": "https://localhost:8080/"
        },
        "id": "Rwf9Q66lMk5a",
        "outputId": "5a911e02-9739-4f5f-fd84-3c5c891e3069"
      },
      "execution_count": null,
      "outputs": [
        {
          "output_type": "stream",
          "name": "stdout",
          "text": [
            "Enter the 1st num : 7\n",
            "Enter the 2nd num : 7\n",
            "Enter the 3rd num: 7\n",
            "777\n",
            "21\n"
          ]
        }
      ]
    },
    {
      "cell_type": "code",
      "source": [
        "#Change into Uppercase / lowercase letter\n",
        "name= \"Ritik Tiwari\"\n",
        "print (name.upper())\n",
        "print (name.lower())\n",
        "print(name)"
      ],
      "metadata": {
        "colab": {
          "base_uri": "https://localhost:8080/"
        },
        "id": "gQeL5rMNYz-X",
        "outputId": "864e841f-0534-44b9-8867-161222d8ab4b"
      },
      "execution_count": 3,
      "outputs": [
        {
          "output_type": "stream",
          "name": "stdout",
          "text": [
            "RITIK TIWARI\n",
            "ritik tiwari\n",
            "Ritik Tiwari\n"
          ]
        }
      ]
    }
  ],
  "metadata": {
    "colab": {
      "provenance": [],
      "authorship_tag": "ABX9TyPisy6ujxYPff4yqBAoVCUa",
      "include_colab_link": true
    },
    "kernelspec": {
      "display_name": "Python 3",
      "name": "python3"
    },
    "language_info": {
      "name": "python"
    }
  },
  "nbformat": 4,
  "nbformat_minor": 0
}