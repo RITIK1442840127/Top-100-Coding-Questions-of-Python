{
  "nbformat": 4,
  "nbformat_minor": 0,
  "metadata": {
    "colab": {
      "provenance": [],
      "authorship_tag": "ABX9TyPchM1j+ZZyi02F0XYq8Q72",
      "include_colab_link": true
    },
    "kernelspec": {
      "name": "python3",
      "display_name": "Python 3"
    },
    "language_info": {
      "name": "python"
    }
  },
  "cells": [
    {
      "cell_type": "markdown",
      "metadata": {
        "id": "view-in-github",
        "colab_type": "text"
      },
      "source": [
        "<a href=\"https://colab.research.google.com/github/RITIK1442840127/Top-100-Coding-Questions-of-Python/blob/main/Top_100_Coding_Questions_of_Python.ipynb\" target=\"_parent\"><img src=\"https://colab.research.google.com/assets/colab-badge.svg\" alt=\"Open In Colab\"/></a>"
      ]
    },
    {
      "cell_type": "code",
      "execution_count": null,
      "metadata": {
        "colab": {
          "base_uri": "https://localhost:8080/"
        },
        "id": "y4UHuEqnx7Ve",
        "outputId": "9cfb4989-290e-4724-a921-bb91066a1fdc"
      },
      "outputs": [
        {
          "output_type": "stream",
          "name": "stdout",
          "text": [
            "Hellow Ritik\n"
          ]
        }
      ],
      "source": [
        "print (\"Hellow Ritik\")"
      ]
    },
    {
      "cell_type": "code",
      "source": [
        "name = \"Ritik\"\n",
        "age = 27\n",
        "print (name); print (age)"
      ],
      "metadata": {
        "colab": {
          "base_uri": "https://localhost:8080/"
        },
        "id": "FCpHVgWNyJRh",
        "outputId": "18a52440-c961-4fb8-8171-3f93db2b0468"
      },
      "execution_count": null,
      "outputs": [
        {
          "output_type": "stream",
          "name": "stdout",
          "text": [
            "Ritik\n",
            "27\n"
          ]
        }
      ]
    }
  ]
}