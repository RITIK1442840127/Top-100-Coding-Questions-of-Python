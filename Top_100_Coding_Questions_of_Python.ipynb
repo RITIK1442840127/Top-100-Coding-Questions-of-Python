{
  "cells": [
    {
      "cell_type": "markdown",
      "metadata": {
        "id": "view-in-github",
        "colab_type": "text"
      },
      "source": [
        "<a href=\"https://colab.research.google.com/github/RITIK1442840127/Top-100-Coding-Questions-of-Python/blob/main/Top_100_Coding_Questions_of_Python.ipynb\" target=\"_parent\"><img src=\"https://colab.research.google.com/assets/colab-badge.svg\" alt=\"Open In Colab\"/></a>"
      ]
    },
    {
      "cell_type": "markdown",
      "metadata": {
        "id": "09wvG2BPCpVY"
      },
      "source": [
        "#Basic"
      ]
    },
    {
      "cell_type": "code",
      "execution_count": null,
      "metadata": {
        "colab": {
          "base_uri": "https://localhost:8080/"
        },
        "id": "y4UHuEqnx7Ve",
        "outputId": "76d0aaec-40c7-4c0f-d815-1e114ac38949"
      },
      "outputs": [
        {
          "output_type": "stream",
          "name": "stdout",
          "text": [
            "Hellow Ritik\n"
          ]
        }
      ],
      "source": [
        "#Start\n",
        "print (\"Hellow Ritik\")"
      ]
    },
    {
      "cell_type": "code",
      "execution_count": null,
      "metadata": {
        "colab": {
          "base_uri": "https://localhost:8080/"
        },
        "id": "FCpHVgWNyJRh",
        "outputId": "40721d36-161d-4be3-b553-1bc62a0180b2"
      },
      "outputs": [
        {
          "output_type": "stream",
          "name": "stdout",
          "text": [
            "Ritik\n",
            "27\n"
          ]
        }
      ],
      "source": [
        "#Variable\n",
        "name = \"Ritik\"\n",
        "age = 27\n",
        "print (name); print (age)"
      ]
    },
    {
      "cell_type": "code",
      "execution_count": null,
      "metadata": {
        "colab": {
          "base_uri": "https://localhost:8080/"
        },
        "id": "dV2OQOFrCDuZ",
        "outputId": "b4eaa5eb-111a-4f95-b018-d0b0e4a696f4"
      },
      "outputs": [
        {
          "output_type": "stream",
          "name": "stdout",
          "text": [
            "Rishu\n",
            "27.7\n"
          ]
        }
      ],
      "source": [
        "#Variable value can be change\n",
        "name= \"Rishu\"\n",
        "age= 27.7\n",
        "print(name); print (age)"
      ]
    },
    {
      "cell_type": "code",
      "execution_count": null,
      "metadata": {
        "id": "wC7vt5X9NW4l",
        "colab": {
          "base_uri": "https://localhost:8080/"
        },
        "outputId": "b9a9b3ee-7605-4219-973a-6c917ab8dcbc"
      },
      "outputs": [
        {
          "name": "stdout",
          "output_type": "stream",
          "text": [
            "what is your name:  Ritik\n"
          ]
        }
      ],
      "source": [
        "#taking user input\n",
        "name= input (\"what is your name:  \")"
      ]
    },
    {
      "cell_type": "code",
      "execution_count": null,
      "metadata": {
        "id": "5YSU7-BlUF12",
        "colab": {
          "base_uri": "https://localhost:8080/"
        },
        "outputId": "6cedb214-5d0f-4c9a-a476-3836bb384aeb"
      },
      "outputs": [
        {
          "output_type": "stream",
          "name": "stdout",
          "text": [
            "Enter your age : 25\n",
            "27\n"
          ]
        }
      ],
      "source": [
        "#Type conversion\n",
        "age= input(\"Enter your age : \")\n",
        "new_age = int (age)+2\n",
        "print (new_age)"
      ]
    },
    {
      "cell_type": "code",
      "execution_count": null,
      "metadata": {
        "id": "-0u7sioHUup5",
        "colab": {
          "base_uri": "https://localhost:8080/"
        },
        "outputId": "4f66584e-7dc4-4de7-8c9f-f6dfc264a13a"
      },
      "outputs": [
        {
          "output_type": "stream",
          "name": "stdout",
          "text": [
            "12.0\n"
          ]
        }
      ],
      "source": [
        "num= 12\n",
        "print(float(num))"
      ]
    },
    {
      "cell_type": "code",
      "execution_count": null,
      "metadata": {
        "id": "Rwf9Q66lMk5a",
        "colab": {
          "base_uri": "https://localhost:8080/"
        },
        "outputId": "30de6682-f533-497d-d2fe-833e2d2d1cbd"
      },
      "outputs": [
        {
          "output_type": "stream",
          "name": "stdout",
          "text": [
            "Enter the 1st num : 23\n",
            "Enter the 2nd num : 34\n",
            "Enter the 3rd num: 23\n",
            "233423\n",
            "80\n"
          ]
        }
      ],
      "source": [
        "first= input (\"Enter the 1st num : \")\n",
        "second = input (\"Enter the 2nd num : \")\n",
        "third = input (\"Enter the 3rd num: \")\n",
        "sum = (first+second+third)\n",
        "sum1= (int(first)+ int(second)+ int(third))\n",
        "print(sum)\n",
        "print (sum1)"
      ]
    },
    {
      "cell_type": "code",
      "execution_count": null,
      "metadata": {
        "id": "gQeL5rMNYz-X",
        "colab": {
          "base_uri": "https://localhost:8080/"
        },
        "outputId": "ba9da0c3-3b26-4d01-e971-d6c5a345d332"
      },
      "outputs": [
        {
          "output_type": "stream",
          "name": "stdout",
          "text": [
            "RITIK TIWARI\n",
            "ritik tiwari\n",
            "Ritik Tiwari\n"
          ]
        }
      ],
      "source": [
        "#Change into Uppercase / lowercase letter\n",
        "name= \"Ritik Tiwari\"\n",
        "print (name.upper())\n",
        "print (name.lower())\n",
        "print(name)"
      ]
    },
    {
      "cell_type": "code",
      "execution_count": null,
      "metadata": {
        "id": "6w4X16aRoXKZ",
        "colab": {
          "base_uri": "https://localhost:8080/"
        },
        "outputId": "dd817faf-e5db-4945-80be-41eab01853a3"
      },
      "outputs": [
        {
          "output_type": "stream",
          "name": "stdout",
          "text": [
            "0\n",
            "6\n",
            "8\n",
            "-1\n"
          ]
        }
      ],
      "source": [
        "print (name.find(\"R\"))\n",
        "print(name.find(\"Tiwari\"))\n",
        "print (name.find(\"wari\"))\n",
        "print (name.find(\"z\"))"
      ]
    },
    {
      "cell_type": "code",
      "execution_count": null,
      "metadata": {
        "id": "9GTZVmcnr9Z3",
        "colab": {
          "base_uri": "https://localhost:8080/"
        },
        "outputId": "23859283-9fa2-4234-d394-6f3d009c9e58"
      },
      "outputs": [
        {
          "output_type": "stream",
          "name": "stdout",
          "text": [
            "Tiwari Tiwari\n",
            "Titik Tiwari\n",
            "Ritik Tiwari\n"
          ]
        }
      ],
      "source": [
        "print(name.replace (\"Ritik\",\"Tiwari\"))\n",
        "print (name.replace(\"R\",\"T\"))\n",
        "print (name)"
      ]
    },
    {
      "cell_type": "code",
      "execution_count": null,
      "metadata": {
        "id": "G9C0mo8Mtnqj",
        "colab": {
          "base_uri": "https://localhost:8080/"
        },
        "outputId": "92eec36e-b417-42c6-915a-6f7a1bd86209"
      },
      "outputs": [
        {
          "output_type": "stream",
          "name": "stdout",
          "text": [
            "True\n",
            "True\n",
            "False\n"
          ]
        }
      ],
      "source": [
        "print(\"T\" in name)\n",
        "print (\"R\" in name)\n",
        "print (\"Z\" in name)"
      ]
    },
    {
      "cell_type": "code",
      "execution_count": null,
      "metadata": {
        "id": "FRQdWs1k9HGZ",
        "colab": {
          "base_uri": "https://localhost:8080/"
        },
        "outputId": "805a286b-6c64-40a7-f84c-726aa7a15745"
      },
      "outputs": [
        {
          "output_type": "stream",
          "name": "stdout",
          "text": [
            "15\n",
            "5\n",
            "50\n",
            "50.5\n",
            "50\n",
            "1\n",
            "100\n",
            "1000\n"
          ]
        }
      ],
      "source": [
        "#Mathmatics\n",
        "print (5+10)\n",
        "print(10-5)\n",
        "print (10*5)\n",
        "print (101/2)\n",
        "print (101//2)\n",
        "print (101%2)\n",
        "print (10**2)\n",
        "print(10**3)"
      ]
    },
    {
      "cell_type": "code",
      "execution_count": null,
      "metadata": {
        "id": "NnySlQleFhcg",
        "colab": {
          "base_uri": "https://localhost:8080/"
        },
        "outputId": "b7bce7ba-ac1c-436f-fa2a-6ca5aa27417d"
      },
      "outputs": [
        {
          "output_type": "stream",
          "name": "stdout",
          "text": [
            "5.0\n"
          ]
        }
      ],
      "source": [
        "#Shortcut\n",
        "i=5\n",
        "i+=2\n",
        "i-=2\n",
        "i*=5\n",
        "i/=5\n",
        "print(i)\n"
      ]
    },
    {
      "cell_type": "code",
      "execution_count": null,
      "metadata": {
        "id": "lN2YKcliQzaw",
        "colab": {
          "base_uri": "https://localhost:8080/"
        },
        "outputId": "c2c6d76b-ba9f-4bea-e593-f1a5ae19824b"
      },
      "outputs": [
        {
          "output_type": "stream",
          "name": "stdout",
          "text": [
            "52\n",
            "70\n"
          ]
        }
      ],
      "source": [
        "#Operator precedence\n",
        "result = 2+5*10\n",
        "result1 = (2+5)*10\n",
        "print (result)\n",
        "print(result1)"
      ]
    },
    {
      "cell_type": "code",
      "execution_count": null,
      "metadata": {
        "id": "Xyd8gnG-k0On",
        "colab": {
          "base_uri": "https://localhost:8080/"
        },
        "outputId": "31c39e02-e6f4-4f33-82f4-2117c45b992d"
      },
      "outputs": [
        {
          "output_type": "stream",
          "name": "stdout",
          "text": [
            "False\n",
            "True\n",
            "True\n",
            "False\n",
            "False\n",
            "True\n"
          ]
        }
      ],
      "source": [
        "#Comparision operator\n",
        "print (2>3)\n",
        "print (3>2)\n",
        "print (2<3)\n",
        "print (2>=3)\n",
        "print (2==3)\n",
        "print(2!=3)"
      ]
    },
    {
      "cell_type": "code",
      "execution_count": null,
      "metadata": {
        "id": "o41pyIhQmckd",
        "colab": {
          "base_uri": "https://localhost:8080/"
        },
        "outputId": "39e9927a-cadf-4863-e170-6d7102b8dce3"
      },
      "outputs": [
        {
          "output_type": "stream",
          "name": "stdout",
          "text": [
            "True\n",
            "False\n",
            "False\n"
          ]
        }
      ],
      "source": [
        "#Logical operator\n",
        "print (2>5 or 2<5)\n",
        "print (2>5 and 2<5)\n",
        "print (not 2<5)\n"
      ]
    },
    {
      "cell_type": "code",
      "execution_count": null,
      "metadata": {
        "id": "0ymgYFgdhhPq",
        "colab": {
          "base_uri": "https://localhost:8080/"
        },
        "outputId": "f5d2ac8c-a909-4e5a-ade8-10b7edb55f11"
      },
      "outputs": [
        {
          "output_type": "stream",
          "name": "stdout",
          "text": [
            "You are alive\n",
            "You are in heaven\n"
          ]
        }
      ],
      "source": [
        "#If-else\n",
        "num=100\n",
        "if num>=90:\n",
        "   print (\"You are alive\")\n",
        "print (\"You are in heaven\")"
      ]
    },
    {
      "cell_type": "code",
      "execution_count": null,
      "metadata": {
        "id": "mDc_PXulfAKO",
        "colab": {
          "base_uri": "https://localhost:8080/"
        },
        "outputId": "9c6e4e0f-d87f-4c47-a827-8230f7c0d98b"
      },
      "outputs": [
        {
          "output_type": "stream",
          "name": "stdout",
          "text": [
            "You are in heaven\n"
          ]
        }
      ],
      "source": [
        "num =100\n",
        "if num<=90:\n",
        "  print (\"You are alive\")\n",
        "print (\"You are in heaven\")"
      ]
    },
    {
      "cell_type": "code",
      "execution_count": null,
      "metadata": {
        "id": "21H_5xnQynUR",
        "colab": {
          "base_uri": "https://localhost:8080/"
        },
        "outputId": "82a1c2b2-37e7-43dc-f53a-948e582d9f63"
      },
      "outputs": [
        {
          "output_type": "stream",
          "name": "stdout",
          "text": [
            "You are young\n"
          ]
        }
      ],
      "source": [
        "#If,elif,else\n",
        "num = 60\n",
        "if num > 70:\n",
        "  print (\"You are old\")\n",
        "elif num > 30 and num < 65:\n",
        "     print ('You are young')\n",
        "else:\n",
        "     print (\"You are child\")\n"
      ]
    },
    {
      "cell_type": "code",
      "execution_count": null,
      "metadata": {
        "id": "vRwdnToo1AO8",
        "colab": {
          "base_uri": "https://localhost:8080/"
        },
        "outputId": "3b5343ee-7c98-4dd0-f61c-720c886dee70"
      },
      "outputs": [
        {
          "output_type": "stream",
          "name": "stdout",
          "text": [
            " You are in school or collage\n"
          ]
        }
      ],
      "source": [
        "age=17\n",
        "if age>18:\n",
        "  print(\"You are adult, You can vote\")\n",
        "elif age > 14 and age<18:\n",
        "  print (\" You are in school or collage\")\n",
        "else:\n",
        "  print (\"You are a child\")"
      ]
    },
    {
      "cell_type": "code",
      "execution_count": null,
      "metadata": {
        "id": "PAI1-2K2_V38",
        "colab": {
          "base_uri": "https://localhost:8080/"
        },
        "outputId": "09d84bf6-b7c0-4150-c4e9-699866c54b9d"
      },
      "outputs": [
        {
          "output_type": "stream",
          "name": "stdout",
          "text": [
            "range(0, 5)\n"
          ]
        }
      ],
      "source": [
        "number = range (5)\n",
        "print (number)"
      ]
    },
    {
      "cell_type": "code",
      "execution_count": null,
      "metadata": {
        "id": "U8XPY7sZHQvt",
        "colab": {
          "base_uri": "https://localhost:8080/"
        },
        "outputId": "ab6d36f8-f67c-488a-efbe-4c7fe9aed655"
      },
      "outputs": [
        {
          "output_type": "stream",
          "name": "stdout",
          "text": [
            "Enter your first num : 75\n",
            "Enter the operator (+,_,*,/,%)+\n",
            "Enter your second num : 33\n",
            "108\n"
          ]
        }
      ],
      "source": [
        "#Calculator\n",
        "first = input (\"Enter your first num : \")\n",
        "operator = input (\"Enter the operator (+,_,*,/,%)\")\n",
        "second = input (\"Enter your second num : \")\n",
        "first = int(first)\n",
        "second = int (second)\n",
        "if operator == (\"+\"):\n",
        "  print (first+second)\n",
        "elif operator == (\"-\"):\n",
        "  print (first-second)\n",
        "elif operator == (\"*\"):\n",
        "  print (first*second)\n",
        "elif operator == (\"/\"):\n",
        "  print (first/second)\n",
        "elif operator == (\"%\"):\n",
        "  print (first%second)\n",
        "else :\n",
        "  print (\"your operation is wrong\")"
      ]
    },
    {
      "cell_type": "code",
      "source": [
        "#While loop\n",
        "i=1\n",
        "while i<=10:\n",
        "  print(i)\n",
        "  i=i+1"
      ],
      "metadata": {
        "colab": {
          "base_uri": "https://localhost:8080/"
        },
        "id": "HRXkHSVyJbOI",
        "outputId": "a841e7a6-e318-4af0-c6c4-dec2fcb0aa7b"
      },
      "execution_count": 7,
      "outputs": [
        {
          "output_type": "stream",
          "name": "stdout",
          "text": [
            "1\n",
            "2\n",
            "3\n",
            "4\n",
            "5\n",
            "6\n",
            "7\n",
            "8\n",
            "9\n",
            "10\n"
          ]
        }
      ]
    },
    {
      "cell_type": "code",
      "source": [
        "#pattern loop\n",
        "i=1\n",
        "while i<=5:\n",
        "  print (i*\"*\")\n",
        "  i=i+1"
      ],
      "metadata": {
        "colab": {
          "base_uri": "https://localhost:8080/"
        },
        "id": "pssqP2jNM96t",
        "outputId": "18f92bc8-6168-4f1c-b2f0-3b834c9ec245"
      },
      "execution_count": 4,
      "outputs": [
        {
          "output_type": "stream",
          "name": "stdout",
          "text": [
            "*\n",
            "**\n",
            "***\n",
            "****\n",
            "*****\n"
          ]
        }
      ]
    }
  ],
  "metadata": {
    "colab": {
      "provenance": [],
      "gpuType": "T4",
      "authorship_tag": "ABX9TyMLPZx2iwcnz/+ZMoDOUYZU",
      "include_colab_link": true
    },
    "kernelspec": {
      "display_name": "Python 3",
      "name": "python3"
    },
    "language_info": {
      "name": "python"
    },
    "accelerator": "GPU"
  },
  "nbformat": 4,
  "nbformat_minor": 0
}