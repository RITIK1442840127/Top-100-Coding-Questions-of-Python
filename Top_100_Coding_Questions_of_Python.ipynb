{
  "cells": [
    {
      "cell_type": "markdown",
      "metadata": {
        "id": "view-in-github",
        "colab_type": "text"
      },
      "source": [
        "<a href=\"https://colab.research.google.com/github/RITIK1442840127/Top-100-Coding-Questions-of-Python/blob/main/Top_100_Coding_Questions_of_Python.ipynb\" target=\"_parent\"><img src=\"https://colab.research.google.com/assets/colab-badge.svg\" alt=\"Open In Colab\"/></a>"
      ]
    },
    {
      "cell_type": "markdown",
      "metadata": {
        "id": "09wvG2BPCpVY"
      },
      "source": [
        "#Basic"
      ]
    },
    {
      "cell_type": "code",
      "execution_count": null,
      "metadata": {
        "colab": {
          "base_uri": "https://localhost:8080/"
        },
        "id": "y4UHuEqnx7Ve",
        "outputId": "753a2f42-d5e6-45b4-bf48-dce57c5eccaf"
      },
      "outputs": [
        {
          "name": "stdout",
          "output_type": "stream",
          "text": [
            "Hellow Ritik\n"
          ]
        }
      ],
      "source": [
        "#Start\n",
        "print (\"Hellow Ritik\")"
      ]
    },
    {
      "cell_type": "code",
      "execution_count": null,
      "metadata": {
        "colab": {
          "background_save": true,
          "base_uri": "https://localhost:8080/",
          "height": 210
        },
        "id": "FCpHVgWNyJRh",
        "outputId": "b1369b58-8392-4fd5-ae26-e94ae52ebdbe"
      },
      "outputs": [
        {
          "name": "stdout",
          "output_type": "stream",
          "text": [
            "Ritik\n",
            "27\n"
          ]
        }
      ],
      "source": [
        "#Variable\n",
        "name = \"Ritik\"\n",
        "age = 27\n",
        "print (name); print (age)"
      ]
    },
    {
      "cell_type": "code",
      "execution_count": null,
      "metadata": {
        "colab": {
          "background_save": true
        },
        "id": "dV2OQOFrCDuZ",
        "outputId": "824d3bd0-0d6c-4b93-cc5f-0afffd695e77"
      },
      "outputs": [
        {
          "name": "stdout",
          "output_type": "stream",
          "text": [
            "Rishu\n",
            "27.7\n"
          ]
        }
      ],
      "source": [
        "#Variable value can be change\n",
        "name= \"Rishu\"\n",
        "age= 27.7\n",
        "print(name); print (age)"
      ]
    },
    {
      "cell_type": "code",
      "execution_count": null,
      "metadata": {
        "id": "wC7vt5X9NW4l"
      },
      "outputs": [],
      "source": [
        "#taking user input\n",
        "name= input (\"what is your name ?  \")"
      ]
    },
    {
      "cell_type": "code",
      "execution_count": null,
      "metadata": {
        "id": "5YSU7-BlUF12"
      },
      "outputs": [],
      "source": [
        "#Type conversion\n",
        "age= input(\"Enter your age : \")\n",
        "new_age = int (age)+2\n",
        "print (new_age)"
      ]
    },
    {
      "cell_type": "code",
      "execution_count": null,
      "metadata": {
        "colab": {
          "base_uri": "https://localhost:8080/"
        },
        "id": "-0u7sioHUup5",
        "outputId": "f744ea97-ed9c-417b-aa9a-715fb77c0f33"
      },
      "outputs": [
        {
          "output_type": "stream",
          "name": "stdout",
          "text": [
            "12.0\n"
          ]
        }
      ],
      "source": [
        "num= 12\n",
        "print(float(num))"
      ]
    }
  ],
  "metadata": {
    "colab": {
      "provenance": [],
      "toc_visible": true,
      "authorship_tag": "ABX9TyOIaaLQFGPzpQtFuVzSkvho",
      "include_colab_link": true
    },
    "kernelspec": {
      "display_name": "Python 3",
      "name": "python3"
    },
    "language_info": {
      "name": "python"
    }
  },
  "nbformat": 4,
  "nbformat_minor": 0
}