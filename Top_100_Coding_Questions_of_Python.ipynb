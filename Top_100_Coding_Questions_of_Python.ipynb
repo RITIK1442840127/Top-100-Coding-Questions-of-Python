{
  "nbformat": 4,
  "nbformat_minor": 0,
  "metadata": {
    "colab": {
      "provenance": [],
      "authorship_tag": "ABX9TyONyZhjAFaFcE8TBhc6A8Sy",
      "include_colab_link": true
    },
    "kernelspec": {
      "name": "python3",
      "display_name": "Python 3"
    },
    "language_info": {
      "name": "python"
    }
  },
  "cells": [
    {
      "cell_type": "markdown",
      "metadata": {
        "id": "view-in-github",
        "colab_type": "text"
      },
      "source": [
        "<a href=\"https://colab.research.google.com/github/RITIK1442840127/Top-100-Coding-Questions-of-Python/blob/main/Top_100_Coding_Questions_of_Python.ipynb\" target=\"_parent\"><img src=\"https://colab.research.google.com/assets/colab-badge.svg\" alt=\"Open In Colab\"/></a>"
      ]
    },
    {
      "cell_type": "markdown",
      "source": [
        "#Basic"
      ],
      "metadata": {
        "id": "09wvG2BPCpVY"
      }
    },
    {
      "cell_type": "code",
      "execution_count": null,
      "metadata": {
        "colab": {
          "base_uri": "https://localhost:8080/"
        },
        "id": "y4UHuEqnx7Ve",
        "outputId": "9cfb4989-290e-4724-a921-bb91066a1fdc"
      },
      "outputs": [
        {
          "output_type": "stream",
          "name": "stdout",
          "text": [
            "Hellow Ritik\n"
          ]
        }
      ],
      "source": [
        "#Start\n",
        "print (\"Hellow Ritik\")"
      ]
    },
    {
      "cell_type": "code",
      "source": [
        "#Variable\n",
        "name = \"Ritik\"\n",
        "age = 27\n",
        "print (name); print (age)"
      ],
      "metadata": {
        "colab": {
          "base_uri": "https://localhost:8080/"
        },
        "id": "FCpHVgWNyJRh",
        "outputId": "18a52440-c961-4fb8-8171-3f93db2b0468"
      },
      "execution_count": null,
      "outputs": [
        {
          "output_type": "stream",
          "name": "stdout",
          "text": [
            "Ritik\n",
            "27\n"
          ]
        }
      ]
    },
    {
      "cell_type": "code",
      "source": [
        "#Variable value can be change\n",
        "name= \"Rishu\"\n",
        "age= 27.7\n",
        "print(name); print (age)"
      ],
      "metadata": {
        "colab": {
          "base_uri": "https://localhost:8080/"
        },
        "id": "dV2OQOFrCDuZ",
        "outputId": "34dcc1b1-48ff-436c-ac6c-1816c860fc04"
      },
      "execution_count": null,
      "outputs": [
        {
          "output_type": "stream",
          "name": "stdout",
          "text": [
            "Rishu\n",
            "27.7\n"
          ]
        }
      ]
    },
    {
      "cell_type": "code",
      "source": [
        "#taking user input\n",
        "name= input (\"what is your name ?  \")"
      ],
      "metadata": {
        "colab": {
          "base_uri": "https://localhost:8080/"
        },
        "id": "wC7vt5X9NW4l",
        "outputId": "3a800978-7b54-4258-f6ef-824072470a70"
      },
      "execution_count": null,
      "outputs": [
        {
          "name": "stdout",
          "output_type": "stream",
          "text": [
            "what is your name ?  SCIENTIST  RITIK TIWARI\n"
          ]
        }
      ]
    },
    {
      "cell_type": "code",
      "source": [
        "#Type conversion\n",
        "old_age= input (\"Enter your old age : \")\n",
        "new_age= int(old_age)+2\n",
        "print (new_age)"
      ],
      "metadata": {
        "colab": {
          "base_uri": "https://localhost:8080/"
        },
        "id": "5YSU7-BlUF12",
        "outputId": "042441d1-c921-4a16-8269-8d1ee3ef4bf2"
      },
      "execution_count": 12,
      "outputs": [
        {
          "output_type": "stream",
          "name": "stdout",
          "text": [
            "Enter your old age : 25\n",
            "27\n"
          ]
        }
      ]
    }
  ]
}