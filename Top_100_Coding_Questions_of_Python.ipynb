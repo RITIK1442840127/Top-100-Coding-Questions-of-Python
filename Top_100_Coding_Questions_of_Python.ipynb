{
  "cells": [
    {
      "cell_type": "markdown",
      "metadata": {
        "id": "view-in-github",
        "colab_type": "text"
      },
      "source": [
        "<a href=\"https://colab.research.google.com/github/RITIK1442840127/Top-100-Coding-Questions-of-Python/blob/main/Top_100_Coding_Questions_of_Python.ipynb\" target=\"_parent\"><img src=\"https://colab.research.google.com/assets/colab-badge.svg\" alt=\"Open In Colab\"/></a>"
      ]
    },
    {
      "cell_type": "markdown",
      "metadata": {
        "id": "09wvG2BPCpVY"
      },
      "source": [
        "#Basic"
      ]
    },
    {
      "cell_type": "code",
      "execution_count": null,
      "metadata": {
        "colab": {
          "base_uri": "https://localhost:8080/"
        },
        "id": "y4UHuEqnx7Ve",
        "outputId": "753a2f42-d5e6-45b4-bf48-dce57c5eccaf"
      },
      "outputs": [
        {
          "name": "stdout",
          "output_type": "stream",
          "text": [
            "Hellow Ritik\n"
          ]
        }
      ],
      "source": [
        "#Start\n",
        "print (\"Hellow Ritik\")"
      ]
    },
    {
      "cell_type": "code",
      "execution_count": null,
      "metadata": {
        "colab": {
          "background_save": true,
          "base_uri": "https://localhost:8080/",
          "height": 210
        },
        "id": "FCpHVgWNyJRh",
        "outputId": "b1369b58-8392-4fd5-ae26-e94ae52ebdbe"
      },
      "outputs": [
        {
          "name": "stdout",
          "output_type": "stream",
          "text": [
            "Ritik\n",
            "27\n"
          ]
        }
      ],
      "source": [
        "#Variable\n",
        "name = \"Ritik\"\n",
        "age = 27\n",
        "print (name); print (age)"
      ]
    },
    {
      "cell_type": "code",
      "execution_count": null,
      "metadata": {
        "colab": {
          "background_save": true
        },
        "id": "dV2OQOFrCDuZ",
        "outputId": "824d3bd0-0d6c-4b93-cc5f-0afffd695e77"
      },
      "outputs": [
        {
          "name": "stdout",
          "output_type": "stream",
          "text": [
            "Rishu\n",
            "27.7\n"
          ]
        }
      ],
      "source": [
        "#Variable value can be change\n",
        "name= \"Rishu\"\n",
        "age= 27.7\n",
        "print(name); print (age)"
      ]
    },
    {
      "cell_type": "code",
      "execution_count": null,
      "metadata": {
        "id": "wC7vt5X9NW4l"
      },
      "outputs": [],
      "source": [
        "#taking user input\n",
        "name= input (\"what is your name ?  \")"
      ]
    },
    {
      "cell_type": "code",
      "execution_count": null,
      "metadata": {
        "id": "5YSU7-BlUF12"
      },
      "outputs": [],
      "source": [
        "#Type conversion\n",
        "age= input(\"Enter your age : \")\n",
        "new_age = int (age)+2\n",
        "print (new_age)"
      ]
    },
    {
      "cell_type": "code",
      "execution_count": null,
      "metadata": {
        "colab": {
          "base_uri": "https://localhost:8080/"
        },
        "id": "-0u7sioHUup5",
        "outputId": "f744ea97-ed9c-417b-aa9a-715fb77c0f33"
      },
      "outputs": [
        {
          "output_type": "stream",
          "name": "stdout",
          "text": [
            "12.0\n"
          ]
        }
      ],
      "source": [
        "num= 12\n",
        "print(float(num))"
      ]
    },
    {
      "cell_type": "code",
      "source": [
        "first= input (\"Enter the 1st num : \")\n",
        "second = input (\"Enter the 2nd num : \")\n",
        "third = input (\"Enter the 3rd num: \")\n",
        "sum = (first+second+third)\n",
        "sum1= (int(first)+ int(second)+ int(third))\n",
        "print(sum)\n",
        "print (sum1)"
      ],
      "metadata": {
        "colab": {
          "base_uri": "https://localhost:8080/"
        },
        "id": "Rwf9Q66lMk5a",
        "outputId": "5a911e02-9739-4f5f-fd84-3c5c891e3069"
      },
      "execution_count": null,
      "outputs": [
        {
          "output_type": "stream",
          "name": "stdout",
          "text": [
            "Enter the 1st num : 7\n",
            "Enter the 2nd num : 7\n",
            "Enter the 3rd num: 7\n",
            "777\n",
            "21\n"
          ]
        }
      ]
    },
    {
      "cell_type": "code",
      "source": [
        "#Change into Uppercase / lowercase letter\n",
        "name= \"Ritik Tiwari\"\n",
        "print (name.upper())\n",
        "print (name.lower())\n",
        "print(name)"
      ],
      "metadata": {
        "colab": {
          "base_uri": "https://localhost:8080/"
        },
        "id": "gQeL5rMNYz-X",
        "outputId": "624a6d6f-0d7c-4db7-b647-082a4a4a2255"
      },
      "execution_count": null,
      "outputs": [
        {
          "output_type": "stream",
          "name": "stdout",
          "text": [
            "RITIK TIWARI\n",
            "ritik tiwari\n",
            "Ritik Tiwari\n"
          ]
        }
      ]
    },
    {
      "cell_type": "code",
      "source": [
        "print (name.find(\"R\"))\n",
        "print(name.find(\"Tiwari\"))\n",
        "print (name.find(\"wari\"))\n",
        "print (name.find(\"z\"))"
      ],
      "metadata": {
        "colab": {
          "base_uri": "https://localhost:8080/"
        },
        "id": "6w4X16aRoXKZ",
        "outputId": "b67f69ef-9fe6-46df-86c3-b22de78900cf"
      },
      "execution_count": null,
      "outputs": [
        {
          "output_type": "stream",
          "name": "stdout",
          "text": [
            "0\n",
            "6\n",
            "8\n",
            "-1\n"
          ]
        }
      ]
    },
    {
      "cell_type": "code",
      "source": [
        "print(name.replace (\"Ritik\",\"Tiwari\"))\n",
        "print (name.replace(\"R\",\"T\"))\n",
        "print (name)"
      ],
      "metadata": {
        "colab": {
          "base_uri": "https://localhost:8080/"
        },
        "id": "9GTZVmcnr9Z3",
        "outputId": "1c698ed6-5070-4547-b889-e033575cd4fc"
      },
      "execution_count": null,
      "outputs": [
        {
          "output_type": "stream",
          "name": "stdout",
          "text": [
            "Tiwari Tiwari\n",
            "Titik Tiwari\n",
            "Ritik Tiwari\n"
          ]
        }
      ]
    },
    {
      "cell_type": "code",
      "source": [
        "print(\"T\" in name)\n",
        "print (\"R\" in name)\n",
        "print (\"Z\" in name)"
      ],
      "metadata": {
        "colab": {
          "base_uri": "https://localhost:8080/"
        },
        "id": "G9C0mo8Mtnqj",
        "outputId": "bf2fbe41-ae64-45cf-c1fc-187fb12a7863"
      },
      "execution_count": null,
      "outputs": [
        {
          "output_type": "stream",
          "name": "stdout",
          "text": [
            "True\n",
            "True\n",
            "False\n"
          ]
        }
      ]
    },
    {
      "cell_type": "code",
      "source": [
        "#Mathmatics\n",
        "print (5+10)\n",
        "print(10-5)\n",
        "print (10*5)\n",
        "print (101/2)\n",
        "print (101//2)\n",
        "print (101%2)\n",
        "print (10**2)\n",
        "print(10**3)"
      ],
      "metadata": {
        "colab": {
          "base_uri": "https://localhost:8080/"
        },
        "id": "FRQdWs1k9HGZ",
        "outputId": "28ec6ef3-f17a-4e9f-86e2-956f8cef37ee"
      },
      "execution_count": null,
      "outputs": [
        {
          "output_type": "stream",
          "name": "stdout",
          "text": [
            "15\n",
            "5\n",
            "50\n",
            "50.5\n",
            "50\n",
            "1\n",
            "100\n",
            "1000\n"
          ]
        }
      ]
    },
    {
      "cell_type": "code",
      "source": [
        "#Shortcut\n",
        "i=5\n",
        "i+=2\n",
        "i-=2\n",
        "i*=5\n",
        "i/=5\n",
        "print(i)\n"
      ],
      "metadata": {
        "colab": {
          "base_uri": "https://localhost:8080/"
        },
        "id": "NnySlQleFhcg",
        "outputId": "efc53957-ad3f-4bbe-ffb7-2773c4932b77"
      },
      "execution_count": null,
      "outputs": [
        {
          "output_type": "stream",
          "name": "stdout",
          "text": [
            "5.0\n"
          ]
        }
      ]
    },
    {
      "cell_type": "code",
      "source": [
        "#Operator precedence\n",
        "result = 2+5*10\n",
        "result1 = (2+5)*10\n",
        "print (result)\n",
        "print(result1)"
      ],
      "metadata": {
        "colab": {
          "base_uri": "https://localhost:8080/"
        },
        "id": "lN2YKcliQzaw",
        "outputId": "7dd1dd8a-3296-4e43-a64f-f83025f9fd8c"
      },
      "execution_count": null,
      "outputs": [
        {
          "output_type": "stream",
          "name": "stdout",
          "text": [
            "52\n",
            "70\n"
          ]
        }
      ]
    },
    {
      "cell_type": "code",
      "source": [
        "#Comparision operator\n",
        "print (2>3)\n",
        "print (3>2)\n",
        "print (2<3)\n",
        "print (2>=3)\n",
        "print (2==3)\n",
        "print(2!=3)"
      ],
      "metadata": {
        "colab": {
          "base_uri": "https://localhost:8080/"
        },
        "id": "Xyd8gnG-k0On",
        "outputId": "5d4b5843-925e-400a-adc9-fdf4924470da"
      },
      "execution_count": null,
      "outputs": [
        {
          "output_type": "stream",
          "name": "stdout",
          "text": [
            "False\n",
            "True\n",
            "True\n",
            "False\n",
            "False\n",
            "True\n"
          ]
        }
      ]
    },
    {
      "cell_type": "code",
      "source": [
        "#Logical operator\n",
        "print (2>5 or 2<5)\n",
        "print (2>5 and 2<5)\n",
        "print (not 2<5)\n"
      ],
      "metadata": {
        "colab": {
          "base_uri": "https://localhost:8080/"
        },
        "id": "o41pyIhQmckd",
        "outputId": "5589f027-1534-4742-f9e4-44c84aaf711c"
      },
      "execution_count": null,
      "outputs": [
        {
          "output_type": "stream",
          "name": "stdout",
          "text": [
            "True\n",
            "False\n",
            "False\n"
          ]
        }
      ]
    },
    {
      "cell_type": "code",
      "source": [
        "#If-else\n",
        "num=100\n",
        "if num>=90:\n",
        "   print (\"You are alive\")\n",
        "print (\"You are in heaven\")"
      ],
      "metadata": {
        "colab": {
          "base_uri": "https://localhost:8080/"
        },
        "id": "0ymgYFgdhhPq",
        "outputId": "3943dada-9a54-415a-d5ad-84524ddadb42"
      },
      "execution_count": null,
      "outputs": [
        {
          "output_type": "stream",
          "name": "stdout",
          "text": [
            "You are alive\n",
            "You are in heaven\n"
          ]
        }
      ]
    },
    {
      "cell_type": "code",
      "source": [
        "num =100\n",
        "if num<=90:\n",
        "  print (\"You are alive\")\n",
        "print (\"You are in heaven\")"
      ],
      "metadata": {
        "colab": {
          "base_uri": "https://localhost:8080/"
        },
        "id": "mDc_PXulfAKO",
        "outputId": "8e00c07c-7493-49d4-ea10-7c020cbb5b63"
      },
      "execution_count": null,
      "outputs": [
        {
          "output_type": "stream",
          "name": "stdout",
          "text": [
            "You are in heaven\n"
          ]
        }
      ]
    },
    {
      "cell_type": "code",
      "source": [
        "#If,elif,else\n",
        "num = 60\n",
        "if num > 70:\n",
        "  print (\"You are old\")\n",
        "elif num > 30 and num < 65:\n",
        "     print ('You are young')\n",
        "else:\n",
        "     print (\"You are child\")\n"
      ],
      "metadata": {
        "colab": {
          "base_uri": "https://localhost:8080/"
        },
        "id": "21H_5xnQynUR",
        "outputId": "18e3c1de-ad01-4636-ccfe-936dda917347"
      },
      "execution_count": null,
      "outputs": [
        {
          "output_type": "stream",
          "name": "stdout",
          "text": [
            "You are young\n"
          ]
        }
      ]
    },
    {
      "cell_type": "code",
      "source": [
        "age=17\n",
        "if age>18:\n",
        "  print(\"You are adult, You can vote\")\n",
        "elif age > 14 and age<18:\n",
        "  print (\" You are in school or collage\")\n",
        "else:\n",
        "  print (\"You are a child\")"
      ],
      "metadata": {
        "colab": {
          "base_uri": "https://localhost:8080/"
        },
        "id": "vRwdnToo1AO8",
        "outputId": "4fc0417a-b7fe-4c35-9dfe-0575e28ae9b1"
      },
      "execution_count": null,
      "outputs": [
        {
          "output_type": "stream",
          "name": "stdout",
          "text": [
            " You are in school or collage\n"
          ]
        }
      ]
    },
    {
      "cell_type": "code",
      "source": [
        "number = range (5)\n",
        "print (number)"
      ],
      "metadata": {
        "colab": {
          "base_uri": "https://localhost:8080/"
        },
        "id": "PAI1-2K2_V38",
        "outputId": "f8f1a24c-a615-48ee-d5fb-e54cc403424c"
      },
      "execution_count": 2,
      "outputs": [
        {
          "output_type": "stream",
          "name": "stdout",
          "text": [
            "range(0, 5)\n"
          ]
        }
      ]
    }
  ],
  "metadata": {
    "colab": {
      "provenance": [],
      "authorship_tag": "ABX9TyOuNSranvqAFQ+xj6vHLPz8",
      "include_colab_link": true
    },
    "kernelspec": {
      "display_name": "Python 3",
      "name": "python3"
    },
    "language_info": {
      "name": "python"
    }
  },
  "nbformat": 4,
  "nbformat_minor": 0
}