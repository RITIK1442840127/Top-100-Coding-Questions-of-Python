{
  "cells": [
    {
      "cell_type": "markdown",
      "metadata": {
        "id": "view-in-github",
        "colab_type": "text"
      },
      "source": [
        "<a href=\"https://colab.research.google.com/github/RITIK1442840127/Top-100-Coding-Questions-of-Python/blob/main/Top_300_Coding_Questions_of_Python_By_Ritik_Tiwari.ipynb\" target=\"_parent\"><img src=\"https://colab.research.google.com/assets/colab-badge.svg\" alt=\"Open In Colab\"/></a>"
      ]
    },
    {
      "cell_type": "markdown",
      "metadata": {
        "id": "09wvG2BPCpVY"
      },
      "source": [
        "#Basic"
      ]
    },
    {
      "cell_type": "code",
      "execution_count": null,
      "metadata": {
        "colab": {
          "base_uri": "https://localhost:8080/"
        },
        "id": "y4UHuEqnx7Ve",
        "outputId": "76d0aaec-40c7-4c0f-d815-1e114ac38949"
      },
      "outputs": [
        {
          "name": "stdout",
          "output_type": "stream",
          "text": [
            "Hellow Ritik\n"
          ]
        }
      ],
      "source": [
        "#Start\n",
        "print (\"Hellow Ritik\")"
      ]
    },
    {
      "cell_type": "code",
      "execution_count": null,
      "metadata": {
        "colab": {
          "base_uri": "https://localhost:8080/"
        },
        "id": "FCpHVgWNyJRh",
        "outputId": "40721d36-161d-4be3-b553-1bc62a0180b2"
      },
      "outputs": [
        {
          "name": "stdout",
          "output_type": "stream",
          "text": [
            "Ritik\n",
            "27\n"
          ]
        }
      ],
      "source": [
        "#Variable\n",
        "name = \"Ritik\"\n",
        "age = 27\n",
        "print (name); print (age)"
      ]
    },
    {
      "cell_type": "code",
      "execution_count": null,
      "metadata": {
        "colab": {
          "base_uri": "https://localhost:8080/"
        },
        "id": "dV2OQOFrCDuZ",
        "outputId": "b4eaa5eb-111a-4f95-b018-d0b0e4a696f4"
      },
      "outputs": [
        {
          "name": "stdout",
          "output_type": "stream",
          "text": [
            "Rishu\n",
            "27.7\n"
          ]
        }
      ],
      "source": [
        "#Variable value can be change\n",
        "name= \"Rishu\"\n",
        "age= 27.7\n",
        "print(name); print (age)"
      ]
    },
    {
      "cell_type": "code",
      "execution_count": null,
      "metadata": {
        "colab": {
          "base_uri": "https://localhost:8080/"
        },
        "id": "wC7vt5X9NW4l",
        "outputId": "b9a9b3ee-7605-4219-973a-6c917ab8dcbc"
      },
      "outputs": [
        {
          "name": "stdout",
          "output_type": "stream",
          "text": [
            "what is your name:  Ritik\n"
          ]
        }
      ],
      "source": [
        "#taking user input\n",
        "name= input (\"what is your name:  \")"
      ]
    },
    {
      "cell_type": "code",
      "execution_count": null,
      "metadata": {
        "colab": {
          "base_uri": "https://localhost:8080/"
        },
        "id": "5YSU7-BlUF12",
        "outputId": "6cedb214-5d0f-4c9a-a476-3836bb384aeb"
      },
      "outputs": [
        {
          "name": "stdout",
          "output_type": "stream",
          "text": [
            "Enter your age : 25\n",
            "27\n"
          ]
        }
      ],
      "source": [
        "#Type conversion\n",
        "age= input(\"Enter your age : \")\n",
        "new_age = int (age)+2\n",
        "print (new_age)"
      ]
    },
    {
      "cell_type": "code",
      "execution_count": null,
      "metadata": {
        "colab": {
          "base_uri": "https://localhost:8080/"
        },
        "id": "-0u7sioHUup5",
        "outputId": "4f66584e-7dc4-4de7-8c9f-f6dfc264a13a"
      },
      "outputs": [
        {
          "name": "stdout",
          "output_type": "stream",
          "text": [
            "12.0\n"
          ]
        }
      ],
      "source": [
        "num= 12\n",
        "print(float(num))"
      ]
    },
    {
      "cell_type": "code",
      "execution_count": null,
      "metadata": {
        "colab": {
          "base_uri": "https://localhost:8080/"
        },
        "id": "Rwf9Q66lMk5a",
        "outputId": "30de6682-f533-497d-d2fe-833e2d2d1cbd"
      },
      "outputs": [
        {
          "name": "stdout",
          "output_type": "stream",
          "text": [
            "Enter the 1st num : 23\n",
            "Enter the 2nd num : 34\n",
            "Enter the 3rd num: 23\n",
            "233423\n",
            "80\n"
          ]
        }
      ],
      "source": [
        "first= input (\"Enter the 1st num : \")\n",
        "second = input (\"Enter the 2nd num : \")\n",
        "third = input (\"Enter the 3rd num: \")\n",
        "sum = (first+second+third)\n",
        "sum1= (int(first)+ int(second)+ int(third))\n",
        "print(sum)\n",
        "print (sum1)"
      ]
    },
    {
      "cell_type": "code",
      "execution_count": null,
      "metadata": {
        "colab": {
          "base_uri": "https://localhost:8080/"
        },
        "id": "gQeL5rMNYz-X",
        "outputId": "ba9da0c3-3b26-4d01-e971-d6c5a345d332"
      },
      "outputs": [
        {
          "name": "stdout",
          "output_type": "stream",
          "text": [
            "RITIK TIWARI\n",
            "ritik tiwari\n",
            "Ritik Tiwari\n"
          ]
        }
      ],
      "source": [
        "#Change into Uppercase / lowercase letter\n",
        "name= \"Ritik Tiwari\"\n",
        "print (name.upper())\n",
        "print (name.lower())\n",
        "print(name)"
      ]
    },
    {
      "cell_type": "code",
      "execution_count": null,
      "metadata": {
        "colab": {
          "base_uri": "https://localhost:8080/"
        },
        "id": "6w4X16aRoXKZ",
        "outputId": "dd817faf-e5db-4945-80be-41eab01853a3"
      },
      "outputs": [
        {
          "name": "stdout",
          "output_type": "stream",
          "text": [
            "0\n",
            "6\n",
            "8\n",
            "-1\n"
          ]
        }
      ],
      "source": [
        "print (name.find(\"R\"))\n",
        "print(name.find(\"Tiwari\"))\n",
        "print (name.find(\"wari\"))\n",
        "print (name.find(\"z\"))"
      ]
    },
    {
      "cell_type": "code",
      "execution_count": null,
      "metadata": {
        "colab": {
          "base_uri": "https://localhost:8080/"
        },
        "id": "9GTZVmcnr9Z3",
        "outputId": "23859283-9fa2-4234-d394-6f3d009c9e58"
      },
      "outputs": [
        {
          "name": "stdout",
          "output_type": "stream",
          "text": [
            "Tiwari Tiwari\n",
            "Titik Tiwari\n",
            "Ritik Tiwari\n"
          ]
        }
      ],
      "source": [
        "print(name.replace (\"Ritik\",\"Tiwari\"))\n",
        "print (name.replace(\"R\",\"T\"))\n",
        "print (name)"
      ]
    },
    {
      "cell_type": "code",
      "execution_count": null,
      "metadata": {
        "colab": {
          "base_uri": "https://localhost:8080/"
        },
        "id": "G9C0mo8Mtnqj",
        "outputId": "92eec36e-b417-42c6-915a-6f7a1bd86209"
      },
      "outputs": [
        {
          "name": "stdout",
          "output_type": "stream",
          "text": [
            "True\n",
            "True\n",
            "False\n"
          ]
        }
      ],
      "source": [
        "print(\"T\" in name)\n",
        "print (\"R\" in name)\n",
        "print (\"Z\" in name)"
      ]
    },
    {
      "cell_type": "code",
      "execution_count": null,
      "metadata": {
        "colab": {
          "base_uri": "https://localhost:8080/"
        },
        "id": "FRQdWs1k9HGZ",
        "outputId": "805a286b-6c64-40a7-f84c-726aa7a15745"
      },
      "outputs": [
        {
          "name": "stdout",
          "output_type": "stream",
          "text": [
            "15\n",
            "5\n",
            "50\n",
            "50.5\n",
            "50\n",
            "1\n",
            "100\n",
            "1000\n"
          ]
        }
      ],
      "source": [
        "#Mathmatics\n",
        "print (5+10)\n",
        "print(10-5)\n",
        "print (10*5)\n",
        "print (101/2)\n",
        "print (101//2)\n",
        "print (101%2)\n",
        "print (10**2)\n",
        "print(10**3)"
      ]
    },
    {
      "cell_type": "code",
      "execution_count": null,
      "metadata": {
        "colab": {
          "base_uri": "https://localhost:8080/"
        },
        "id": "NnySlQleFhcg",
        "outputId": "b7bce7ba-ac1c-436f-fa2a-6ca5aa27417d"
      },
      "outputs": [
        {
          "name": "stdout",
          "output_type": "stream",
          "text": [
            "5.0\n"
          ]
        }
      ],
      "source": [
        "#Shortcut\n",
        "i=5\n",
        "i+=2\n",
        "i-=2\n",
        "i*=5\n",
        "i/=5\n",
        "print(i)\n"
      ]
    },
    {
      "cell_type": "code",
      "execution_count": null,
      "metadata": {
        "colab": {
          "base_uri": "https://localhost:8080/"
        },
        "id": "lN2YKcliQzaw",
        "outputId": "c2c6d76b-ba9f-4bea-e593-f1a5ae19824b"
      },
      "outputs": [
        {
          "name": "stdout",
          "output_type": "stream",
          "text": [
            "52\n",
            "70\n"
          ]
        }
      ],
      "source": [
        "#Operator precedence\n",
        "result = 2+5*10\n",
        "result1 = (2+5)*10\n",
        "print (result)\n",
        "print(result1)"
      ]
    },
    {
      "cell_type": "code",
      "execution_count": null,
      "metadata": {
        "colab": {
          "base_uri": "https://localhost:8080/"
        },
        "id": "Xyd8gnG-k0On",
        "outputId": "31c39e02-e6f4-4f33-82f4-2117c45b992d"
      },
      "outputs": [
        {
          "name": "stdout",
          "output_type": "stream",
          "text": [
            "False\n",
            "True\n",
            "True\n",
            "False\n",
            "False\n",
            "True\n"
          ]
        }
      ],
      "source": [
        "#Comparision operator\n",
        "print (2>3)\n",
        "print (3>2)\n",
        "print (2<3)\n",
        "print (2>=3)\n",
        "print (2==3)\n",
        "print(2!=3)"
      ]
    },
    {
      "cell_type": "code",
      "execution_count": null,
      "metadata": {
        "colab": {
          "base_uri": "https://localhost:8080/"
        },
        "id": "o41pyIhQmckd",
        "outputId": "39e9927a-cadf-4863-e170-6d7102b8dce3"
      },
      "outputs": [
        {
          "name": "stdout",
          "output_type": "stream",
          "text": [
            "True\n",
            "False\n",
            "False\n"
          ]
        }
      ],
      "source": [
        "#Logical operator\n",
        "print (2>5 or 2<5)\n",
        "print (2>5 and 2<5)\n",
        "print (not 2<5)\n"
      ]
    },
    {
      "cell_type": "code",
      "execution_count": null,
      "metadata": {
        "colab": {
          "base_uri": "https://localhost:8080/"
        },
        "id": "0ymgYFgdhhPq",
        "outputId": "f5d2ac8c-a909-4e5a-ade8-10b7edb55f11"
      },
      "outputs": [
        {
          "name": "stdout",
          "output_type": "stream",
          "text": [
            "You are alive\n",
            "You are in heaven\n"
          ]
        }
      ],
      "source": [
        "#If-else\n",
        "num=100\n",
        "if num>=90:\n",
        "   print (\"You are alive\")\n",
        "print (\"You are in heaven\")"
      ]
    },
    {
      "cell_type": "code",
      "execution_count": null,
      "metadata": {
        "colab": {
          "base_uri": "https://localhost:8080/"
        },
        "id": "mDc_PXulfAKO",
        "outputId": "9c6e4e0f-d87f-4c47-a827-8230f7c0d98b"
      },
      "outputs": [
        {
          "name": "stdout",
          "output_type": "stream",
          "text": [
            "You are in heaven\n"
          ]
        }
      ],
      "source": [
        "num =100\n",
        "if num<=90:\n",
        "  print (\"You are alive\")\n",
        "print (\"You are in heaven\")"
      ]
    },
    {
      "cell_type": "code",
      "execution_count": null,
      "metadata": {
        "colab": {
          "base_uri": "https://localhost:8080/"
        },
        "id": "21H_5xnQynUR",
        "outputId": "82a1c2b2-37e7-43dc-f53a-948e582d9f63"
      },
      "outputs": [
        {
          "name": "stdout",
          "output_type": "stream",
          "text": [
            "You are young\n"
          ]
        }
      ],
      "source": [
        "#If,elif,else\n",
        "num = 60\n",
        "if num > 70:\n",
        "  print (\"You are old\")\n",
        "elif num > 30 and num < 65:\n",
        "     print ('You are young')\n",
        "else:\n",
        "     print (\"You are child\")\n"
      ]
    },
    {
      "cell_type": "code",
      "execution_count": null,
      "metadata": {
        "colab": {
          "base_uri": "https://localhost:8080/"
        },
        "id": "vRwdnToo1AO8",
        "outputId": "3b5343ee-7c98-4dd0-f61c-720c886dee70"
      },
      "outputs": [
        {
          "name": "stdout",
          "output_type": "stream",
          "text": [
            " You are in school or collage\n"
          ]
        }
      ],
      "source": [
        "age=17\n",
        "if age>18:\n",
        "  print(\"You are adult, You can vote\")\n",
        "elif age > 14 and age<18:\n",
        "  print (\" You are in school or collage\")\n",
        "else:\n",
        "  print (\"You are a child\")"
      ]
    },
    {
      "cell_type": "code",
      "execution_count": null,
      "metadata": {
        "colab": {
          "base_uri": "https://localhost:8080/"
        },
        "id": "PAI1-2K2_V38",
        "outputId": "09d84bf6-b7c0-4150-c4e9-699866c54b9d"
      },
      "outputs": [
        {
          "name": "stdout",
          "output_type": "stream",
          "text": [
            "range(0, 5)\n"
          ]
        }
      ],
      "source": [
        "number = range (5)\n",
        "print (number)"
      ]
    },
    {
      "cell_type": "code",
      "execution_count": null,
      "metadata": {
        "colab": {
          "base_uri": "https://localhost:8080/"
        },
        "id": "U8XPY7sZHQvt",
        "outputId": "ab6d36f8-f67c-488a-efbe-4c7fe9aed655"
      },
      "outputs": [
        {
          "name": "stdout",
          "output_type": "stream",
          "text": [
            "Enter your first num : 75\n",
            "Enter the operator (+,_,*,/,%)+\n",
            "Enter your second num : 33\n",
            "108\n"
          ]
        }
      ],
      "source": [
        "#Calculator\n",
        "first = input (\"Enter your first num : \")\n",
        "operator = input (\"Enter the operator (+,_,*,/,%)\")\n",
        "second = input (\"Enter your second num : \")\n",
        "first = int(first)\n",
        "second = int (second)\n",
        "if operator == (\"+\"):\n",
        "  print (first+second)\n",
        "elif operator == (\"-\"):\n",
        "  print (first-second)\n",
        "elif operator == (\"*\"):\n",
        "  print (first*second)\n",
        "elif operator == (\"/\"):\n",
        "  print (first/second)\n",
        "elif operator == (\"%\"):\n",
        "  print (first%second)\n",
        "else :\n",
        "  print (\"your operation is wrong\")"
      ]
    },
    {
      "cell_type": "code",
      "execution_count": null,
      "metadata": {
        "colab": {
          "base_uri": "https://localhost:8080/"
        },
        "id": "HRXkHSVyJbOI",
        "outputId": "0cfa1969-83f1-4f88-855d-d95f89b0c689"
      },
      "outputs": [
        {
          "name": "stdout",
          "output_type": "stream",
          "text": [
            "1\n",
            "2\n",
            "3\n",
            "4\n",
            "5\n",
            "6\n",
            "7\n",
            "8\n",
            "9\n",
            "10\n"
          ]
        }
      ],
      "source": [
        "#While loop\n",
        "i=1\n",
        "while i<=10:\n",
        "  print(i)\n",
        "  i=i+1"
      ]
    },
    {
      "cell_type": "code",
      "execution_count": null,
      "metadata": {
        "colab": {
          "base_uri": "https://localhost:8080/"
        },
        "id": "pssqP2jNM96t",
        "outputId": "76282054-df40-4def-8708-a7567acdd69a"
      },
      "outputs": [
        {
          "name": "stdout",
          "output_type": "stream",
          "text": [
            "1\n",
            "2\n",
            "3\n",
            "4\n",
            "5\n"
          ]
        }
      ],
      "source": [
        "i=1\n",
        "while i<=5:\n",
        "  print (i)\n",
        "  i=i+1"
      ]
    },
    {
      "cell_type": "code",
      "execution_count": null,
      "metadata": {
        "colab": {
          "base_uri": "https://localhost:8080/"
        },
        "id": "RaXzxW-ifbTe",
        "outputId": "bc73f766-d1b0-4ef3-cf4d-33be8379eec6"
      },
      "outputs": [
        {
          "name": "stdout",
          "output_type": "stream",
          "text": [
            "मांमांमांमांमांमांमांमांमांमां\n",
            "मांमांमांमांमांमांमांमांमां\n",
            "मांमांमांमांमांमांमांमां\n",
            "मांमांमांमांमांमांमां\n",
            "मांमांमांमांमांमां\n",
            "मांमांमांमांमां\n",
            "मांमांमांमां\n",
            "मांमांमां\n",
            "मांमां\n",
            "मां\n"
          ]
        }
      ],
      "source": [
        "i=10\n",
        "while i>=1:\n",
        "  print (i*(\"मां \"))\n",
        "  i=i-1"
      ]
    },
    {
      "cell_type": "code",
      "execution_count": null,
      "metadata": {
        "colab": {
          "base_uri": "https://localhost:8080/"
        },
        "id": "-GlULPhNlxX8",
        "outputId": "feb5aa63-acd9-4186-fe5f-d01a9b6f749a"
      },
      "outputs": [
        {
          "name": "stdout",
          "output_type": "stream",
          "text": [
            "$\n",
            "$$\n",
            "$$$\n",
            "$$$$\n",
            "$$$$$\n",
            "$$$$$$\n",
            "$$$$$$$\n"
          ]
        }
      ],
      "source": [
        "i=1\n",
        "while i<=7:\n",
        "  print(i*(\"$\"))\n",
        "  i=i+1"
      ]
    },
    {
      "cell_type": "code",
      "execution_count": null,
      "metadata": {
        "colab": {
          "base_uri": "https://localhost:8080/"
        },
        "id": "FPedc3OfeGfL",
        "outputId": "ec34270d-cad2-40ac-9aa8-0039e42d4f36"
      },
      "outputs": [
        {
          "name": "stdout",
          "output_type": "stream",
          "text": [
            "शुभ दीपावली\n",
            "शुभ दीपावलीशुभ दीपावली\n",
            "शुभ दीपावलीशुभ दीपावलीशुभ दीपावली\n",
            "शुभ दीपावलीशुभ दीपावलीशुभ दीपावलीशुभ दीपावली\n",
            "शुभ दीपावलीशुभ दीपावलीशुभ दीपावलीशुभ दीपावलीशुभ दीपावली\n",
            "शुभ दीपावलीशुभ दीपावलीशुभ दीपावलीशुभ दीपावलीशुभ दीपावलीशुभ दीपावली\n",
            "शुभ दीपावलीशुभ दीपावलीशुभ दीपावलीशुभ दीपावलीशुभ दीपावलीशुभ दीपावलीशुभ दीपावली\n",
            "शुभ दीपावलीशुभ दीपावलीशुभ दीपावलीशुभ दीपावलीशुभ दीपावलीशुभ दीपावलीशुभ दीपावलीशुभ दीपावली\n",
            "शुभ दीपावलीशुभ दीपावलीशुभ दीपावलीशुभ दीपावलीशुभ दीपावलीशुभ दीपावलीशुभ दीपावलीशुभ दीपावलीशुभ दीपावली\n",
            "शुभ दीपावलीशुभ दीपावलीशुभ दीपावलीशुभ दीपावलीशुभ दीपावलीशुभ दीपावलीशुभ दीपावलीशुभ दीपावलीशुभ दीपावलीशुभ दीपावली\n"
          ]
        }
      ],
      "source": [
        "i=1\n",
        "while i<=10:\n",
        "  print(i*\"शुभ दीपावली\")\n",
        "  i=i+1"
      ]
    },
    {
      "cell_type": "code",
      "execution_count": null,
      "metadata": {
        "colab": {
          "base_uri": "https://localhost:8080/"
        },
        "id": "095JePH4emcv",
        "outputId": "c9b02a47-b2ef-438b-e081-21733b7363c6"
      },
      "outputs": [
        {
          "name": "stdout",
          "output_type": "stream",
          "text": [
            "0\n",
            "1\n",
            "2\n",
            "3\n",
            "4\n"
          ]
        }
      ],
      "source": [
        "#for loop\n",
        "for i in range (5):\n",
        "  print (i)"
      ]
    },
    {
      "cell_type": "code",
      "execution_count": null,
      "metadata": {
        "colab": {
          "base_uri": "https://localhost:8080/"
        },
        "id": "8KreHsePe_AB",
        "outputId": "91eedf4c-b320-4230-d315-a6141e1baaff"
      },
      "outputs": [
        {
          "name": "stdout",
          "output_type": "stream",
          "text": [
            "\n",
            "$\n",
            "$$\n",
            "$$$\n",
            "$$$$\n"
          ]
        }
      ],
      "source": [
        "for i in range(5):\n",
        "  print(i*\"$\")"
      ]
    },
    {
      "cell_type": "code",
      "execution_count": null,
      "metadata": {
        "colab": {
          "base_uri": "https://localhost:8080/"
        },
        "id": "OJVvcZrP3hKZ",
        "outputId": "29437312-bab1-4115-8228-b3a677e2b89d"
      },
      "outputs": [
        {
          "name": "stdout",
          "output_type": "stream",
          "text": [
            "1\n",
            "2\n",
            "3\n",
            "4\n",
            "5\n"
          ]
        }
      ],
      "source": [
        "for i in range (5):\n",
        "  print(i+1)"
      ]
    },
    {
      "cell_type": "code",
      "execution_count": null,
      "metadata": {
        "colab": {
          "base_uri": "https://localhost:8080/"
        },
        "id": "mRf_V35F4UbV",
        "outputId": "8b5497f4-139c-4ca9-99dd-50d9cecff5b2"
      },
      "outputs": [
        {
          "output_type": "stream",
          "name": "stdout",
          "text": [
            "R\n"
          ]
        }
      ],
      "source": [
        "#List\n",
        "R= [1,2,3,\"a\",4,5,7]\n",
        "print (\"R\")"
      ]
    },
    {
      "cell_type": "code",
      "source": [
        "print (R[1])\n",
        "print(R[-1])"
      ],
      "metadata": {
        "colab": {
          "base_uri": "https://localhost:8080/"
        },
        "id": "K5XWh81VDQT1",
        "outputId": "cbc4b1fa-aaf7-471e-b209-84bd2af6d0dc"
      },
      "execution_count": null,
      "outputs": [
        {
          "output_type": "stream",
          "name": "stdout",
          "text": [
            "2\n",
            "7\n"
          ]
        }
      ]
    },
    {
      "cell_type": "code",
      "source": [
        "print (R[1:4])"
      ],
      "metadata": {
        "colab": {
          "base_uri": "https://localhost:8080/"
        },
        "id": "FSgDqa5qLrDf",
        "outputId": "4b515bf2-1f8c-43a0-b380-af69ffec2985"
      },
      "execution_count": null,
      "outputs": [
        {
          "output_type": "stream",
          "name": "stdout",
          "text": [
            "[2, 3, 'a']\n"
          ]
        }
      ]
    },
    {
      "cell_type": "code",
      "source": [
        "print(R[0:5])"
      ],
      "metadata": {
        "colab": {
          "base_uri": "https://localhost:8080/"
        },
        "id": "vJRFQqFUMHhn",
        "outputId": "b0eaef3c-a8c1-4900-d1a7-610dae8ad297"
      },
      "execution_count": null,
      "outputs": [
        {
          "output_type": "stream",
          "name": "stdout",
          "text": [
            "[1, 2, 3, 'a', 4]\n"
          ]
        }
      ]
    },
    {
      "cell_type": "code",
      "source": [
        "R.append(10)\n",
        "print(R)"
      ],
      "metadata": {
        "colab": {
          "base_uri": "https://localhost:8080/"
        },
        "id": "ljzltUW_MOBR",
        "outputId": "80490a87-c01a-4061-fb3d-66f536278cca"
      },
      "execution_count": null,
      "outputs": [
        {
          "output_type": "stream",
          "name": "stdout",
          "text": [
            "[1, 2, 3, 'a', 4, 5, 7, 10]\n"
          ]
        }
      ]
    },
    {
      "cell_type": "code",
      "source": [
        "R.insert (1,10)\n",
        "print(R)"
      ],
      "metadata": {
        "colab": {
          "base_uri": "https://localhost:8080/"
        },
        "id": "v8tDRuXcMkER",
        "outputId": "6566fb87-d61f-4aea-d8cc-346c36906ff8"
      },
      "execution_count": null,
      "outputs": [
        {
          "output_type": "stream",
          "name": "stdout",
          "text": [
            "[1, 10, 2, 3, 'a', 4, 5, 7, 10]\n"
          ]
        }
      ]
    },
    {
      "cell_type": "code",
      "source": [
        "print (10 in R)\n",
        "print (\"a\" in R)"
      ],
      "metadata": {
        "colab": {
          "base_uri": "https://localhost:8080/"
        },
        "id": "ISBVimSmRd4s",
        "outputId": "a6e6d347-7b41-464b-d06c-f41b35cac6db"
      },
      "execution_count": null,
      "outputs": [
        {
          "output_type": "stream",
          "name": "stdout",
          "text": [
            "True\n",
            "True\n"
          ]
        }
      ]
    },
    {
      "cell_type": "code",
      "source": [
        "print(len(R))"
      ],
      "metadata": {
        "colab": {
          "base_uri": "https://localhost:8080/"
        },
        "id": "k9_AtsYoSKnx",
        "outputId": "ea290749-fa0b-4a56-d049-6dafcfc8585b"
      },
      "execution_count": null,
      "outputs": [
        {
          "output_type": "stream",
          "name": "stdout",
          "text": [
            "9\n"
          ]
        }
      ]
    },
    {
      "cell_type": "code",
      "source": [
        "#While loop\n",
        "i=0\n",
        "while i < len(R):\n",
        "  print (R[i])\n",
        "  i=i+1\n"
      ],
      "metadata": {
        "colab": {
          "base_uri": "https://localhost:8080/"
        },
        "id": "bAw6gmcPSQ3u",
        "outputId": "96e98ff2-de83-459f-dc4b-7e86ff70dc18"
      },
      "execution_count": null,
      "outputs": [
        {
          "output_type": "stream",
          "name": "stdout",
          "text": [
            "1\n",
            "10\n",
            "2\n",
            "3\n",
            "a\n",
            "4\n",
            "5\n",
            "7\n",
            "10\n"
          ]
        }
      ]
    },
    {
      "cell_type": "code",
      "source": [
        "i=0\n",
        "while i<(len(R)):\n",
        "  print (R[i])\n",
        "  i=i+2"
      ],
      "metadata": {
        "colab": {
          "base_uri": "https://localhost:8080/"
        },
        "id": "4T-6ioGFUWvf",
        "outputId": "a17a539e-c3e1-4ac0-98a6-8041a29f25ff"
      },
      "execution_count": null,
      "outputs": [
        {
          "output_type": "stream",
          "name": "stdout",
          "text": [
            "1\n",
            "2\n",
            "a\n",
            "5\n",
            "10\n"
          ]
        }
      ]
    },
    {
      "cell_type": "code",
      "source": [
        "i=1\n",
        "while i<=10:\n",
        "  print (i*(\"  🪔  \"))\n",
        "  i=i+1\n",
        "i=1\n",
        "while i<=5:\n",
        "  print (i*(\" Happy_Diwali \"))\n",
        "  i=i+1\n",
        "i=1\n",
        "while i<=10:\n",
        "  print (i*(\"  🙏  \"))\n",
        "  i=i+1"
      ],
      "metadata": {
        "colab": {
          "base_uri": "https://localhost:8080/"
        },
        "id": "mf-imW7RUOkU",
        "outputId": "c82f2aa9-fb39-4bc4-dbc5-1a1c51e9d481"
      },
      "execution_count": null,
      "outputs": [
        {
          "output_type": "stream",
          "name": "stdout",
          "text": [
            "  🪔  \n",
            "  🪔    🪔  \n",
            "  🪔    🪔    🪔  \n",
            "  🪔    🪔    🪔    🪔  \n",
            "  🪔    🪔    🪔    🪔    🪔  \n",
            "  🪔    🪔    🪔    🪔    🪔    🪔  \n",
            "  🪔    🪔    🪔    🪔    🪔    🪔    🪔  \n",
            "  🪔    🪔    🪔    🪔    🪔    🪔    🪔    🪔  \n",
            "  🪔    🪔    🪔    🪔    🪔    🪔    🪔    🪔    🪔  \n",
            "  🪔    🪔    🪔    🪔    🪔    🪔    🪔    🪔    🪔    🪔  \n",
            " Happy_Diwali \n",
            " Happy_Diwali  Happy_Diwali \n",
            " Happy_Diwali  Happy_Diwali  Happy_Diwali \n",
            " Happy_Diwali  Happy_Diwali  Happy_Diwali  Happy_Diwali \n",
            " Happy_Diwali  Happy_Diwali  Happy_Diwali  Happy_Diwali  Happy_Diwali \n",
            "  🙏  \n",
            "  🙏    🙏  \n",
            "  🙏    🙏    🙏  \n",
            "  🙏    🙏    🙏    🙏  \n",
            "  🙏    🙏    🙏    🙏    🙏  \n",
            "  🙏    🙏    🙏    🙏    🙏    🙏  \n",
            "  🙏    🙏    🙏    🙏    🙏    🙏    🙏  \n",
            "  🙏    🙏    🙏    🙏    🙏    🙏    🙏    🙏  \n",
            "  🙏    🙏    🙏    🙏    🙏    🙏    🙏    🙏    🙏  \n",
            "  🙏    🙏    🙏    🙏    🙏    🙏    🙏    🙏    🙏    🙏  \n"
          ]
        }
      ]
    },
    {
      "cell_type": "code",
      "source": [
        "marks =[12,12,14,15,18]\n",
        "print(marks)"
      ],
      "metadata": {
        "colab": {
          "base_uri": "https://localhost:8080/"
        },
        "id": "RWzkRwLPWTK5",
        "outputId": "ad2caf69-372f-484c-f12b-1f9fecb49adb"
      },
      "execution_count": null,
      "outputs": [
        {
          "output_type": "stream",
          "name": "stdout",
          "text": [
            "[12, 12, 14, 15, 18]\n"
          ]
        }
      ]
    },
    {
      "cell_type": "code",
      "source": [
        "marks.clear()\n",
        "print(marks)"
      ],
      "metadata": {
        "colab": {
          "base_uri": "https://localhost:8080/"
        },
        "id": "pdWCAfCMXmak",
        "outputId": "0d9eeba1-656a-4616-f1d9-7abf6f30cf43"
      },
      "execution_count": null,
      "outputs": [
        {
          "output_type": "stream",
          "name": "stdout",
          "text": [
            "[]\n"
          ]
        }
      ]
    },
    {
      "cell_type": "code",
      "source": [
        "#Break\n",
        "indian_team = [\"sachin\", \"dhoni\", \"ritik\", \"virat\", \"rohit\"]\n",
        "for team in indian_team:\n",
        "  if team == \"ritik\":\n",
        "     break;\n",
        "  print(team)"
      ],
      "metadata": {
        "colab": {
          "base_uri": "https://localhost:8080/"
        },
        "id": "lfE-zURsUxc3",
        "outputId": "caf01d38-c239-42e8-ac57-018b8a4bceb1"
      },
      "execution_count": null,
      "outputs": [
        {
          "output_type": "stream",
          "name": "stdout",
          "text": [
            "sachin\n",
            "dhoni\n"
          ]
        }
      ]
    },
    {
      "cell_type": "code",
      "source": [
        "#continue\n",
        "for team in indian_team:\n",
        "  if team== \"ritik\":\n",
        "    continue;\n",
        "  print (team)"
      ],
      "metadata": {
        "colab": {
          "base_uri": "https://localhost:8080/"
        },
        "id": "s1J5Geo1WnYk",
        "outputId": "fcc0fa8d-8fbc-45eb-c943-bb8fcac5cc92"
      },
      "execution_count": null,
      "outputs": [
        {
          "output_type": "stream",
          "name": "stdout",
          "text": [
            "sachin\n",
            "dhoni\n",
            "virat\n",
            "rohit\n"
          ]
        }
      ]
    },
    {
      "cell_type": "code",
      "source": [
        "#touple\n",
        "x= (12,12,14,15,16,\"ram\",12)\n",
        "print (x.count (12))\n",
        "print (x.count(14))\n",
        "print (x.count(10))\n",
        "print (x.index(\"ram\"))"
      ],
      "metadata": {
        "colab": {
          "base_uri": "https://localhost:8080/"
        },
        "id": "eZKwZKrTZzYb",
        "outputId": "dfab09f4-d6fb-46fb-9652-bbdf34dda9d0"
      },
      "execution_count": null,
      "outputs": [
        {
          "output_type": "stream",
          "name": "stdout",
          "text": [
            "3\n",
            "1\n",
            "0\n",
            "5\n"
          ]
        }
      ]
    },
    {
      "cell_type": "code",
      "source": [
        "#set\n",
        "sun = { 10,12,12,15,16,18,20 ,'r'}\n",
        "print(sun)"
      ],
      "metadata": {
        "colab": {
          "base_uri": "https://localhost:8080/"
        },
        "id": "8bEYihb5b2wF",
        "outputId": "5aa2dc47-7ce5-487f-a3b4-e04e22e37105"
      },
      "execution_count": null,
      "outputs": [
        {
          "output_type": "stream",
          "name": "stdout",
          "text": [
            "{16, 18, 20, 'r', 10, 12, 15}\n"
          ]
        }
      ]
    },
    {
      "cell_type": "code",
      "source": [
        "marks = {12,14,15,19,12,15}\n",
        "for score in marks:\n",
        "  print (score)"
      ],
      "metadata": {
        "colab": {
          "base_uri": "https://localhost:8080/"
        },
        "id": "ocirZm4kgYBa",
        "outputId": "5f7dbc77-671a-4cfb-eb80-833f71df1cff"
      },
      "execution_count": null,
      "outputs": [
        {
          "output_type": "stream",
          "name": "stdout",
          "text": [
            "19\n",
            "12\n",
            "14\n",
            "15\n"
          ]
        }
      ]
    },
    {
      "cell_type": "code",
      "source": [
        "#Dictionary"
      ],
      "metadata": {
        "id": "YDz0towPhA3m"
      },
      "execution_count": null,
      "outputs": []
    }
  ],
  "metadata": {
    "colab": {
      "provenance": [],
      "gpuType": "T4",
      "authorship_tag": "ABX9TyP+Pjpn3wHx2nfkpFXztILR",
      "include_colab_link": true
    },
    "kernelspec": {
      "display_name": "Python 3",
      "name": "python3"
    },
    "language_info": {
      "name": "python"
    }
  },
  "nbformat": 4,
  "nbformat_minor": 0
}